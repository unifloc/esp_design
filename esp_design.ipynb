{
 "cells": [
  {
   "cell_type": "code",
   "execution_count": null,
   "metadata": {},
   "outputs": [],
   "source": [
    "import pandas as pd\n",
    "\n",
    "from plotly import graph_objects as go\n",
    "from plotly.offline import plot\n",
    "\n",
    "import matplotlib\n",
    "import matplotlib.pyplot as plt\n",
    "\n",
    "import numpy as np\n",
    "import tqdm\n",
    "\n",
    "import seaborn as sns\n",
    "\n",
    "from numba import jit\n",
    "\n",
    "from scipy import interpolate\n",
    "\n",
    "import shapely\n",
    "from shapely.geometry import LineString, Point\n",
    "import os\n",
    "\n",
    "os.chdir(r\"C:\\Git\\probability_calculations\")\n",
    "\n",
    "plt.rcParams[\"figure.figsize\"] = (15,10)\n",
    "\n",
    "import json\n",
    "\n",
    "import seaborn as sns\n",
    "import glob, os\n",
    "\n",
    "VBA_VERSION = '7.28'\n",
    "import well_model"
   ]
  },
  {
   "cell_type": "code",
   "execution_count": null,
   "metadata": {},
   "outputs": [],
   "source": [
    "import UniflocVBA.v7_25.python_api as python_api_7_25\n",
    "api = python_api_7_25.API(\"UniflocVBA/v7_25/UniflocVBA_7.xlam\")\n",
    "\n",
    "import UniflocVBA.v7_28.python_api as python_api_7_28\n",
    "api_new = python_api_7_28.API(\"UniflocVBA/v7_28/UniflocVBA_7_28.xlam\")\n",
    "api_new.encode_PVT()"
   ]
  },
  {
   "cell_type": "markdown",
   "metadata": {},
   "source": [
    "# TODO\n",
    "\n",
    "* Физика\n",
    "    * Отдебажить VBA - избавиться от пропусков в распределении\n",
    "    * Сделать качественные графики узлового анализа и прочих расчетов\n",
    "    * Запуск одной скважины скорректированный\n",
    "    \n",
    "* Логика расчетов\n",
    "    * Модульность\n",
    "    * Последовательность\n",
    "    * Сохранение всех результатов расчета через json\n",
    "    \n",
    "* Ускорение расчетов - потом\n",
    "    * Multiprocessing\n",
    "    * json настроек\n",
    "    * модульность\n",
    "    \n",
    "* Автоматический подбор\n",
    "    * Парсинг базы БД для выбора ЭЦН для данного распределения дебита - несколько насосов + \n",
    "    * Выбор насосов + \n",
    "    * Автоматический подбор нескольких скважин\n",
    "    * Поиск начального приближения для напора\n",
    "    \n",
    "    \n",
    "* Меньше счета, больше анализа - поймать полезность / робастность / влияние на решение\n",
    "    * Когда меняется решения\n",
    "    * Сравнить входные распределения параметров\n",
    "    * Сделать разные входные распределения\n",
    "    \n",
    "    \n",
    "* Итоговый вывод\n",
    "    * Полный pipeline по одной кнопке - исходные данные - подобрать - решение.\n",
    "    * Таблица сводная с EVM по к насосам и м напорам\n",
    "    \n",
    "    \n",
    "    \n",
    "Лог    \n",
    "13.05 - дебаг моделей - настройка навого pipeline\n",
    "\n",
    "14.05 - первый расчет по новому пайплайну - определение слабых мест и мест для развития - обсуждения с РА\n",
    "\n",
    "15.05 - дебаг физики и качественная визуализация \n",
    "\n",
    "16.05 - первая версия пайплайна и подбора\n",
    "\n",
    "17.05 - анализ данных - запуск дополнительного расчета\n",
    "\n",
    "18.05 - анализ данных - визуализация\n",
    "    \n",
    "19.05 - пропуск\n",
    "\n",
    "20.05 - переход на UniflocVBA_7_27, дебаг физики\n",
    "\n",
    "21.05 - переход на UniflocVBA_7_28\n",
    "    \n"
   ]
  },
  {
   "cell_type": "markdown",
   "metadata": {},
   "source": [
    "# Функции для работы с НРХ"
   ]
  },
  {
   "cell_type": "code",
   "execution_count": null,
   "metadata": {},
   "outputs": [],
   "source": [
    "def plot_pump_curve(q_arr, h_esp_arr, power_esp_arr, efficiency_esp_arr, z, esp_name, f=50, fnom=50, q_work = None,\n",
    "                   show = True, xlabel = None):\n",
    "    q_arr = q_arr * f/fnom\n",
    "    h_esp_arr = h_esp_arr * (f/fnom)**2\n",
    "    power_esp_arr = power_esp_arr * (f/fnom)**2\n",
    "    fig, ax = plt.subplots()\n",
    "    fig.subplots_adjust(right=0.75)\n",
    "\n",
    "    twin1 = ax.twinx()\n",
    "    twin2 = ax.twinx()\n",
    "\n",
    "    # Offset the right spine of twin2.  The ticks and label have already been\n",
    "    # placed on the right by twinx above.\n",
    "    twin2.spines['right'].set_position((\"axes\", 1.15))\n",
    "\n",
    "    p1, = ax.plot(q_arr, h_esp_arr, \"b-\",  marker = 'o', label=\"Напор, м\")\n",
    "    p2, = twin1.plot(q_arr, power_esp_arr, \"r-\",  marker = 'o',  label=\"Мощность, Вт\")\n",
    "    p3, = twin2.plot(q_arr, efficiency_esp_arr, \"g-\",  marker = 'o', label=\"КПД, д.ед.\")\n",
    "\n",
    "    if q_work is not None:\n",
    "        f_interrr = interpolate.interp1d(q_arr,h_esp_arr, kind='cubic')\n",
    "        p4 = ax.axvline(x=q_work, label=f\"Рабочий режим Q={round(q_work, 2)}\", linewidth=5, markersize=15)\n",
    "        #p4, = ax.plot([q_work], [f_interrr(q_work)], \"k\",  marker = 'o', label=\"Рабочая точка\",  markersize=15)\n",
    "    \n",
    "    #ax.axvspan(esp_df['Левая граница'].values[0]*f/fnom, esp_df['Правая граница'].values[0]*f/fnom, \n",
    "    #           alpha=0.2, color='green') TODO вытащить из БД\n",
    "    \n",
    "    if xlabel is None:\n",
    "        ax.set_xlabel(\"Подача, м3/сут\")\n",
    "    else:\n",
    "        ax.set_xlabel(xlabel)\n",
    "    ax.set_ylabel(\"Напор, м\")\n",
    "    twin1.set_ylabel(\"Мощность, Вт\")\n",
    "    twin2.set_ylabel(\"КПД, д.ед.\")\n",
    "\n",
    "    ax.yaxis.label.set_color(p1.get_color())\n",
    "    twin1.yaxis.label.set_color(p2.get_color())\n",
    "    twin2.yaxis.label.set_color(p3.get_color())\n",
    "\n",
    "    tkw = dict(size=4, width=1.5)\n",
    "    ax.tick_params(axis='y', colors=p1.get_color(), **tkw)\n",
    "    twin1.tick_params(axis='y', colors=p2.get_color(), **tkw)\n",
    "    twin2.tick_params(axis='y', colors=p3.get_color(), **tkw)\n",
    "    ax.tick_params(axis='x', **tkw)\n",
    "    \n",
    "    if q_work is not None:\n",
    "        ax.legend(handles=[p1, p2, p3, p4], loc='lower center')\n",
    "    else:\n",
    "        ax.legend(handles=[p1, p2, p3], loc='lower center')\n",
    "\n",
    "\n",
    "    ax.grid()\n",
    "\n",
    "    ax.set_title(f\"{esp_name}\") #, ступеней = {z} шт. при частоте = {f} Гц\")\n",
    "    if show:\n",
    "        plt.show()\n",
    "    else:\n",
    "        additional = [p1, p2, p3, ax]\n",
    "        return ax, twin1, twin2, additional\n",
    "    \n",
    "def interp_df(df, xname, yname, x_val, kind='linear'):\n",
    "    \"\"\"\n",
    "    'linear', 'nearest', 'zero', 'slinear', 'quadratic', 'cubic',\n",
    "    'previous', 'next', where 'zero', 'slinear', 'quadratic' and 'cubic\n",
    "    \"\"\"\n",
    "    f = interpolate.interp1d( df[xname].astype(float).values,df[yname].astype(float).values, kind=kind)\n",
    "    return f(x_val)\n",
    "\n",
    "\n",
    "def calc_num_stages(params, api=api, api_new=api_new, vba_version = VBA_VERSION):\n",
    "    if vba_version == '7.25':\n",
    "        num_stages = int(params['esp_head_m'] / api.ESP_head_m(qliq_m3day=api.ESP_optRate_m3day(pump_id=params['pump_id'], freq_Hz=50),\n",
    "                                        num_stages=1,\n",
    "                                        freq_Hz=50,\n",
    "                                        pump_id=params['pump_id'],\n",
    "                                        mu_cSt=1,\n",
    "                                        c_calibr=1,\n",
    "                                        ))\n",
    "    else:\n",
    "        num_stages = int(params['esp_head_m'] / api_new.ESP_head_m(\n",
    "                                                         qliq_m3day = api_new.ESP_optRate_m3day(freq_Hz=50,\n",
    "                                                                                pump_id=params['pump_id'],\n",
    "                                                                                mu_cSt=1,\n",
    "                                                                                calibr_rate=1),\n",
    "                                                        num_stages=1,\n",
    "                                                        freq_Hz=50,\n",
    "                                                        pump_id=params['pump_id'],\n",
    "                                                        mu_cSt=1,\n",
    "                                                        calibr_head=1,\n",
    "                                                        calibr_rate=1,\n",
    "                                                        calibr_power=1))\n",
    "    return num_stages"
   ]
  },
  {
   "cell_type": "markdown",
   "metadata": {},
   "source": [
    "# Функция для расчета IPR по Вогелю (быстрая) Qliq"
   ]
  },
  {
   "cell_type": "code",
   "execution_count": null,
   "metadata": {},
   "outputs": [],
   "source": [
    "@jit(nopython=True)#, fastmath=True)\n",
    "def calc_QliqVogel_m3Day(Pi,    Pr  , P_test, \n",
    "                          Wc,  pb   ):\n",
    "\n",
    "    if Pr < pb:\n",
    "        pb = Pr\n",
    "\n",
    "    qb = Pi * (Pr - pb)\n",
    "    if  Wc > 100:\n",
    "        Wc = 100\n",
    "    if Wc < 0:\n",
    "        Wc = 0\n",
    "\n",
    "    if (Wc == 100) or (P_test >= pb):\n",
    "\n",
    "        calc_QliqVogel_m3Day = Pi * (Pr - P_test)\n",
    "\n",
    "    else:\n",
    "        fw = Wc / 100\n",
    "        fo = 1 - fw\n",
    "        qo_max = qb + (Pi * pb) / 1.8\n",
    "\n",
    "        p_wfg = fw * (Pr - qo_max / Pi)\n",
    "\n",
    "        if  P_test > p_wfg:\n",
    "            a = 1 + (P_test - (fw * Pr)) / (0.125 * fo * pb)\n",
    "            b = fw / (0.125 * fo * pb * Pi)\n",
    "            c = (2 * a * b) + 80 / (qo_max - qb)\n",
    "            d = (a ** 2) - (80 * qb / (qo_max - qb)) - 81\n",
    "            if b == 0:\n",
    "                calc_QliqVogel_m3Day = abs(d / c)\n",
    "            else:\n",
    "                calc_QliqVogel_m3Day = (-c + ((c * c - 4 * b * b * d) ** 0.5)) / (2 * b ** 2)\n",
    "\n",
    "        else:\n",
    "            \n",
    "            CG = 0.001 * qo_max\n",
    "            cd = fw * (CG / Pi) + \\\n",
    "              fo * 0.125 * pb * (-1 + (1 + 80 * ((0.001 * qo_max) / (qo_max - qb))) ** 0.5)\n",
    "            calc_QliqVogel_m3Day = (p_wfg - P_test) / (cd / CG) + qo_max\n",
    "    \n",
    "    return calc_QliqVogel_m3Day"
   ]
  },
  {
   "cell_type": "markdown",
   "metadata": {},
   "source": [
    "# Создание нормального распределения"
   ]
  },
  {
   "cell_type": "code",
   "execution_count": null,
   "metadata": {
    "scrolled": false
   },
   "outputs": [],
   "source": [
    "def create_normal_dist(mu, sigma, amount, plot=True, name='dist'):\n",
    "\n",
    "    #mu, sigma = 100, 5 # mean and standard deviation\n",
    "    \n",
    "    s = np.random.normal(mu, sigma, amount)\n",
    "    \n",
    "    count, bins, ignored = plt.hist(s, 30, density=True)\n",
    "    plt.plot(bins, 1/(sigma * np.sqrt(2 * np.pi)) *\n",
    "                   np.exp( - (bins - mu)**2 / (2 * sigma**2)),\n",
    "             linewidth=2, color='r')\n",
    "    if plot:\n",
    "        plt.title(name)\n",
    "        plt.show()\n",
    "        \n",
    "    return s\n",
    "\n",
    "dist = create_normal_dist(2, 1, 10**6)\n",
    "\n",
    "\n",
    "#from scipy.stats import norm\n",
    "## generate random numbers from N(0,1)\n",
    "#data_normal = norm.rvs(size=10000,loc=0,scale=1)\n",
    "#\n",
    "#ax = sns.distplot(data_normal,\n",
    "#                  bins=100,\n",
    "#                  kde=True,\n",
    "#                  color='skyblue',\n",
    "#                  hist_kws={\"linewidth\": 15,'alpha':1})\n",
    "#ax.set(xlabel='Normal Distribution', ylabel='Frequency')"
   ]
  },
  {
   "cell_type": "markdown",
   "metadata": {},
   "source": [
    "# Расчетные функции"
   ]
  },
  {
   "cell_type": "markdown",
   "metadata": {},
   "source": [
    "## Базовые параметры расчета"
   ]
  },
  {
   "cell_type": "code",
   "execution_count": null,
   "metadata": {},
   "outputs": [],
   "source": [
    "params = dict(\n",
    "    \n",
    "    gamma_gas = 0.7, \n",
    "    gamma_oil = 0.8,\n",
    "    gamma_wat = 1,\n",
    "    rsb_m3m3 = 100,\n",
    "    rp_m3m3 = 100,\n",
    "    pb_atma = 120,\n",
    "    t_res_C = 90,\n",
    "    bob_m3m3 = -1,\n",
    "    muob_cP = -1,\n",
    "    PVTcorr = 0,\n",
    "    ksep_fr = 0.6,\n",
    "    \n",
    "    p_bhp_atm = 70,\n",
    "    \n",
    "    p_wh_atm = 20,\n",
    "    t_wh_c = 20,\n",
    "    h_list_m = 2000,\n",
    "    h_pump_m = 1800,\n",
    "    diam_list_mm_casing = 150,\n",
    "    diam_list_mm_tube = 73,\n",
    "    \n",
    "    gas_fraction_intake_d = 0.2,\n",
    "    \n",
    "    qliq_sm3day = 80,\n",
    "    \n",
    "    n_dots_for_nodal = 50,  #50 оптимум для дебага, 30 для скорости, 20 маловато - прямые линии \n",
    "    \n",
    "    qliq_sm3day_range = None, #np.linspace(1, 150, 10),\n",
    "    fw_perc = 20,\n",
    "    hydr_corr = 1,\n",
    "    temp_method = 2,\n",
    "    \n",
    "    freq_Hz = 53,\n",
    "    \n",
    "    #pump_id = 1460,\n",
    "    pump_id = 2753,\n",
    "    \n",
    "    num_stages = 200,\n",
    "    \n",
    "    pi_sm3dayatm = 0.7,\n",
    "\n",
    "    pres_atma = 180,\n",
    "    \n",
    "    calc_esp_new = 1,\n",
    "    esp_head_m = 1400,\n",
    "    ESP_gas_correct=20\n",
    ")"
   ]
  },
  {
   "cell_type": "markdown",
   "metadata": {},
   "source": [
    "## Расчет физической модели"
   ]
  },
  {
   "cell_type": "markdown",
   "metadata": {},
   "source": [
    "### Определения функции calc_esp"
   ]
  },
  {
   "cell_type": "code",
   "execution_count": null,
   "metadata": {},
   "outputs": [],
   "source": [
    "debug = True\n",
    "\n",
    "def calc_esp_old(d, str_PVT_tube, p_intake, t_intake):\n",
    "        # расчет эцн - переделать - нужно по ступеням\n",
    "    # определение свойств ГЖС через насос\n",
    "    q_mix_pump = api.MF_q_mix_rc_m3day(qliq_sm3day=d['qliq_sm3day'],\n",
    "    fw_perc = d['fw_perc'],\n",
    "    p_atma = p_intake,\n",
    "    t_C = t_intake,\n",
    "    str_PVT=str_PVT_tube)\n",
    "\n",
    "    rho_mix_pump =  api.MF_rho_mix_kgm3(qliq_sm3day=d['qliq_sm3day'],\n",
    "    fw_perc = d['fw_perc'],\n",
    "    p_atma = p_intake,\n",
    "    t_C = t_intake,\n",
    "    str_PVT=str_PVT_tube)\n",
    "\n",
    "    mu_mix_pump =api.MF_mu_mix_cP(qliq_sm3day=d['qliq_sm3day'],\n",
    "    fw_perc = d['fw_perc'],\n",
    "    p_atma = p_intake,\n",
    "    t_C = t_intake,\n",
    "    str_PVT=str_PVT_tube)\n",
    "\n",
    "    mu_sst = mu_mix_pump / (rho_mix_pump/1000)\n",
    "\n",
    "    p_esp_dis =api.ESP_head_m(qliq_m3day=q_mix_pump, num_stages=d['num_stages'],\n",
    "                freq_Hz=d['freq_Hz'],\n",
    "                pump_id=d['pump_id'],\n",
    "                mu_cSt=mu_sst,\n",
    "                c_calibr=1)*rho_mix_pump*9.81 / 10**5 + p_intake\n",
    "\n",
    "    eff = api.ESP_eff_fr(qliq_m3day=q_mix_pump, num_stages=d['num_stages'],\n",
    "                freq_Hz=d['freq_Hz'],\n",
    "                pump_id=d['pump_id'],\n",
    "                mu_cSt=mu_sst,\n",
    "                c_calibr=1)\n",
    "\n",
    "    head_esp = api.ESP_head_m(qliq_m3day=q_mix_pump, num_stages=d['num_stages'],\n",
    "                freq_Hz=d['freq_Hz'],\n",
    "                pump_id=d['pump_id'],\n",
    "                mu_cSt=mu_sst,\n",
    "                c_calibr=1)\n",
    "\n",
    "    power_esp = api.ESP_power_W(qliq_m3day=q_mix_pump, num_stages=d['num_stages'],\n",
    "                freq_Hz=d['freq_Hz'],\n",
    "                pump_id=d['pump_id'],\n",
    "                mu_cSt=mu_sst,\n",
    "                c_calibr=1) / 1000\n",
    "    \n",
    "    gas_fraction_intake = -1\n",
    "    \n",
    "    return p_esp_dis, gas_fraction_intake, eff, head_esp, power_esp\n",
    "\n",
    "\n",
    "def calc_esp_new(d, str_PVT_tube, p_intake, t_intake, m_api=api):\n",
    "    api = m_api\n",
    "    r = api.ESP_p_atma(qliq_sm3day=d['qliq_sm3day'],\n",
    "                    fw_perc=d['fw_perc'],\n",
    "                    p_calc_atma=p_intake,\n",
    "                    num_stages=d['num_stages'],\n",
    "                    freq_Hz=d['freq_Hz'],\n",
    "                    pump_id=d['pump_id'],\n",
    "                    str_PVT=str_PVT_tube,\n",
    "                    t_intake_C=t_intake,\n",
    "                    t_dis_C=t_intake, #TODO \n",
    "                    calc_along_flow=1,\n",
    "                    ESP_gas_correct=d['ESP_gas_correct'],\n",
    "                    c_calibr=1,\n",
    "                    dnum_stages_integrate=1,\n",
    "                    out_curves_num_points=20,\n",
    "                    num_value=0,\n",
    "                    q_gas_sm3day=0\n",
    "                  )\n",
    "    r = pd.DataFrame(r)\n",
    "        \n",
    "    eff = r[5][0]\n",
    "    head_esp = r[1][0]\n",
    "    power_esp = r[8][22] / 10**3\n",
    "    p_esp_dis  = r[0][0]\n",
    "    t_dis = r[4][22]\n",
    "    gas_fraction_intake = r[4][0]\n",
    "    q_mix_pump_mean = r.iloc[3:, 6].mean()\n",
    "    return p_esp_dis, gas_fraction_intake, eff, head_esp, power_esp, r, q_mix_pump_mean"
   ]
  },
  {
   "cell_type": "markdown",
   "metadata": {},
   "source": [
    "#### ЭЦН UniflocVBA 7.25 тест"
   ]
  },
  {
   "cell_type": "code",
   "execution_count": null,
   "metadata": {},
   "outputs": [],
   "source": [
    "p_esp_dis, gas_fraction_intake, eff, head_esp, power_esp, r, q_mix_pump_mean = calc_esp_new(params, api.PVT_encode_string(),\n",
    "                                                                                            50, 110, m_api=api)\n",
    "r"
   ]
  },
  {
   "cell_type": "markdown",
   "metadata": {},
   "source": [
    "#### ЭЦН UniflocVBA 7.28 тест"
   ]
  },
  {
   "cell_type": "code",
   "execution_count": null,
   "metadata": {},
   "outputs": [],
   "source": [
    "def calc_esp_new_7_28(params, str_PVT_tube, p_intake, t_intake, m_api=api_new):\n",
    "    api_new = m_api\n",
    "    # флюид\n",
    "    encoded_fluid = api_new.encode_PVT(gamma_gas=params['gamma_gas'],\n",
    "                                    gamma_oil=params['gamma_oil'],\n",
    "                                    gamma_wat=params['gamma_wat'],\n",
    "                                    rsb_m3m3=params['rsb_m3m3'],\n",
    "                                    pb_atma=params['pb_atma'],\n",
    "                                    t_res_C=params['t_res_C'],\n",
    "                                    bob_m3m3=params['bob_m3m3'],\n",
    "                                    muob_cP=params['muob_cP'],\n",
    "                                    PVT_corr_set=params['PVTcorr'])\n",
    "    # поток вместе с флюидом\n",
    "    encoded_feed = api_new.encode_feed(q_liq_sm3day=params['qliq_sm3day'],\n",
    "                                        fw_perc=params['fw_perc'],\n",
    "                                        rp_m3m3=params['rp_m3m3'],\n",
    "                                        q_gas_free_sm3day=-1,\n",
    "                                        fluid=encoded_fluid\n",
    "                                      )\n",
    "\n",
    "    # модификация флюида\n",
    "    encoded_feed_mode = api_new.feed_mod_separate_gas(k_sep = params['ksep_fr'],\n",
    "                                                      p_atma = p_intake,\n",
    "                                                      t_C = t_intake, \n",
    "                                                      feed = encoded_feed, \n",
    "                                                      param=''\n",
    "                                                 )\n",
    "    # настройки вывода ЭЦН\n",
    "    param = json.dumps({'show_array': 1})\n",
    "    # расчет ЭЦН по UniflocVBA 7.28\n",
    "    r = api_new.ESP_p_atma(\n",
    "                        p_calc_atma = p_intake,\n",
    "                        t_intake_C=t_intake,\n",
    "                        t_dis_C=-1, #TODO\n",
    "                        feed=encoded_feed_mode,\n",
    "                        pump_id=params['pump_id'],\n",
    "                        num_stages=params['num_stages'],\n",
    "                        freq_Hz=params['freq_Hz'],\n",
    "                        calc_along_flow=True,\n",
    "                        calibr_head=1,\n",
    "                        calibr_rate=1,\n",
    "                        calibr_power=1,\n",
    "                        gas_correct_model=params['ESP_gas_correct'],\n",
    "                        gas_correct_stage_by_stage=1,\n",
    "                        param=param,\n",
    "                        )\n",
    "    \n",
    "    r = pd.DataFrame(r)\n",
    "        \n",
    "    eff = r[6][0]\n",
    "    head_esp = r[5][0]\n",
    "    power_esp = r[8][0] / 10**3\n",
    "    p_esp_dis  = r[0][0]\n",
    "    t_dis = r[4][0]\n",
    "    gas_fraction_intake = r[4][3]\n",
    "    q_mix_pump_mean = r.iloc[3:, 5].mean()\n",
    "    \n",
    "    return p_esp_dis, gas_fraction_intake, eff, head_esp, power_esp, r, q_mix_pump_mean"
   ]
  },
  {
   "cell_type": "code",
   "execution_count": null,
   "metadata": {},
   "outputs": [],
   "source": [
    "p_esp_dis, gas_fraction_intake, eff, head_esp, power_esp, r, q_mix_pump_mean = calc_esp_new_7_28(params, api.PVT_encode_string(), \n",
    "                                                                                                 50, 110, m_api=api_new)\n",
    "r    "
   ]
  },
  {
   "cell_type": "markdown",
   "metadata": {},
   "source": [
    "### Определение функции для построения НРХ в условиях работы"
   ]
  },
  {
   "cell_type": "code",
   "execution_count": null,
   "metadata": {},
   "outputs": [],
   "source": [
    "def plot_pump_curves(params, head_esp, power_esp, eff, p_intake, t_intake, str_PVT_tube, q_mix_pump_mean,\n",
    "                     qliq_on_surface=True, vba_version = VBA_VERSION, api=api, api_new=api_new):\n",
    "    to_curve_params = params.copy()\n",
    "    lqliq = to_curve_params['qliq_sm3day_range']\n",
    "    lp_esp_dis, lgas_fraction_intake, leff, lhead_esp, lpower_esp, lq_mix_pump_mean  = [], [], [], [], [], []\n",
    "    for i in lqliq:\n",
    "        to_curve_params['qliq_sm3day'] =  i\n",
    "        \n",
    "        if vba_version != '7.28':\n",
    "            m_api = api\n",
    "            ip_esp_dis, igas_fraction_intake, ieff, ihead_esp, ipower_esp, _, iq_mix_pump_mean = calc_esp_new(to_curve_params, \n",
    "                                                                                                              str_PVT_tube, p_intake, t_intake,\n",
    "                                                                                                             m_api = m_api)\n",
    "        else:\n",
    "            m_api = api_new\n",
    "            ip_esp_dis, igas_fraction_intake, ieff, ihead_esp, ipower_esp, _, iq_mix_pump_mean = calc_esp_new_7_28(to_curve_params, \n",
    "                                                                                                              str_PVT_tube, p_intake, t_intake,\n",
    "                                                                                                                  m_api = m_api)\n",
    "        \n",
    "            \n",
    "        lp_esp_dis.append(ip_esp_dis)\n",
    "        lgas_fraction_intake.append(igas_fraction_intake) \n",
    "        leff.append(ieff) \n",
    "        lhead_esp.append(ihead_esp)\n",
    "        lpower_esp.append(ipower_esp)\n",
    "        lq_mix_pump_mean.append(iq_mix_pump_mean)\n",
    "        \n",
    "    if qliq_on_surface:\n",
    "        q_liq_for_regime = params['qliq_sm3day']\n",
    "        xlabel = 'Дебит жидкости в поверхностных условиях, м3/сут'\n",
    "    else:\n",
    "        q_liq_for_regime = q_mix_pump_mean\n",
    "        lqliq = lq_mix_pump_mean \n",
    "        xlabel = 'Средний расход ГЖС через насос, м3/сут'\n",
    "\n",
    "    ax, twin1, twin2, _ = plot_pump_curve(np.array(lqliq), np.array(lhead_esp), np.array(lpower_esp), \n",
    "                    np.array(leff), 1,\n",
    "                    m_api.ESP_name(pump_id=to_curve_params['pump_id']) +\n",
    "                    f\" OPT Rate = {round(m_api.ESP_optRate_m3day(pump_id=to_curve_params['pump_id']), 2)}\",\n",
    "                                       #f=to_curve_params['freq_Hz'] ,  #меняет частоту\n",
    "                                       f=50 ,\n",
    "                                       show = False, xlabel=xlabel)\n",
    "\n",
    "    #добавим точки, расчитанные по модели, на характеристику\n",
    "    if head_esp is not None:\n",
    "        ax.plot([q_liq_for_regime], [head_esp], 'bd', markersize = 20, label = 'Рабочий режим')\n",
    "        twin1.plot([q_liq_for_regime], [power_esp], 'rd', markersize = 20, label = 'Рабочий режим')\n",
    "        twin2.plot([q_liq_for_regime], [eff], 'gd', markersize = 20, label = 'Рабочий режим')\n",
    "\n",
    "    plt.show()"
   ]
  },
  {
   "cell_type": "markdown",
   "metadata": {},
   "source": [
    "#### Сравнение ЭЦН для 7.25 и 7.28"
   ]
  },
  {
   "cell_type": "code",
   "execution_count": null,
   "metadata": {},
   "outputs": [],
   "source": [
    "p_intake, t_intake = 50, 70\n",
    "params['ksep_fr'] = 0.7\n",
    "params['qliq_sm3day_range'] = np.arange(1, 150, 5)\n",
    "d = params.copy()\n",
    "str_PVT_tube = api.PVT_encode_string(gamma_gas=d['gamma_gas'],\n",
    "                gamma_oil=d['gamma_oil'],\n",
    "                gamma_wat=d['gamma_wat'],\n",
    "                rsb_m3m3=d['rsb_m3m3'],\n",
    "                rp_m3m3=d['rp_m3m3'],\n",
    "                pb_atma=d['pb_atma'],\n",
    "                t_res_C=d['t_res_C'],\n",
    "                bob_m3m3=d['bob_m3m3'],\n",
    "                muob_cP=d['muob_cP'],\n",
    "                PVTcorr=d['PVTcorr'],\n",
    "                ksep_fr=d['ksep_fr'],\n",
    "                p_ksep_atma=float(p_intake),\n",
    "                t_ksep_C=float(t_intake),\n",
    "                gas_only=False)\n",
    "print(f\"UniflocVBA 7.28\")\n",
    "plot_pump_curves(params, None, None,  None,  p_intake, t_intake, None, q_mix_pump_mean, \n",
    "                 qliq_on_surface=True, vba_version='7.28', api=api, api_new=api_new)\n",
    "print(f\"UniflocVBA 7.25\")\n",
    "plot_pump_curves(params, None, None,  None, p_intake, t_intake, str_PVT_tube, q_mix_pump_mean, \n",
    "                 qliq_on_surface=True, vba_version='7.25', api=api, api_new=api_new)"
   ]
  },
  {
   "cell_type": "markdown",
   "metadata": {},
   "source": [
    "### Определение функции для построения КРД и КРТ"
   ]
  },
  {
   "cell_type": "code",
   "execution_count": null,
   "metadata": {},
   "outputs": [],
   "source": [
    "def plot_well_curves(p_dis, p_esp_dis, str_PVT_tube, p_intake, t_intake,  eff, head_esp, power_esp, gas_fraction_intake,\n",
    "                    casing_pipe, tube_pipe, params):\n",
    "\n",
    "    cas_df  = pd.DataFrame(casing_pipe)\n",
    "    tube_df = pd.DataFrame(tube_pipe)\n",
    "    \n",
    "    \n",
    "    index_t_c = cas_df.iloc[2][cas_df.iloc[2] == 't,C'].index[0]\n",
    "    index_t_amb_c = cas_df.iloc[2][cas_df.iloc[2] == 't_amb, C'].index[0]\n",
    "    index_p_atm = cas_df.iloc[2][cas_df.iloc[2] == 'p,atma'].index[0]\n",
    "    index_h_m = cas_df.iloc[2][cas_df.iloc[2] == 'h,m'].index[0]\n",
    "\n",
    "    \n",
    "    \n",
    "    fig = plt.Figure()\n",
    "    plt.plot(cas_df.iloc[3:, index_p_atm].values, cas_df.iloc[3:, index_h_m].values, label = 'КРД в обсадной колонне')\n",
    "    plt.plot(tube_df.iloc[3:, index_p_atm].values, tube_df.iloc[3:, index_h_m].values, label = 'КРД в НКТ')\n",
    "    plt.plot([params['p_bhp_atm']], params['h_list_m'],  'o', label = f\"Забойное давление {round(params['p_bhp_atm'], 2)} атм\")\n",
    "    plt.plot([params['pres_atma']], params['h_list_m'],  'ro', label = f\"Пластовое давление {round(params['pres_atma'], 2)} атм\")\n",
    "    plt.plot([p_dis], params['h_pump_m'],  'o', label = f\"Давление на выкиде ЭЦН по НКТ {round(p_dis, 2)}, атм\")\n",
    "    plt.plot([p_esp_dis], params['h_pump_m'],  'o', label = f\"Давление на выкиде ЭЦН по ЭЦН {round(p_esp_dis, 2)}, атм\")\n",
    "    plt.plot([p_intake], params['h_pump_m'],  'o', label = f\"Давление на приеме ЭЦН {round(p_intake, 2)}, атм\")\n",
    "    plt.plot([params['p_wh_atm']], [0],  'o', label = f\"Давление буферное {round(params['p_wh_atm'], 2)}, атм\")\n",
    "\n",
    "    plt.legend()\n",
    "    plt.grid()\n",
    "    plt.title(f\"Кривая распределения давления для режима Qж = {round(params['qliq_sm3day'], 2) } м3/сут\")\n",
    "    plt.xlabel('Давление, атм')\n",
    "    plt.ylabel('Глубина, м')\n",
    "    plt.gca().invert_yaxis()\n",
    "    plt.show()\n",
    "\n",
    "    cas_df  = pd.DataFrame(casing_pipe)\n",
    "    tube_df = pd.DataFrame(tube_pipe)\n",
    "\n",
    "    fig = plt.Figure()\n",
    "    plt.plot(cas_df.iloc[3:, index_t_c].values, cas_df.iloc[3:, index_h_m].values,'o-', label = 'КРТ в обсадной колонне')\n",
    "    plt.plot(cas_df.iloc[3:, index_t_amb_c].values, cas_df.iloc[3:, index_h_m].values, 'o-', label = 'КРТ окр. среды в обсадной колонне')\n",
    "\n",
    "    plt.plot(tube_df.iloc[3:, index_t_c].values, tube_df.iloc[3:, index_h_m].values, 'o-', label = 'КРТ в НКТ')\n",
    "    plt.plot(tube_df.iloc[3:, index_t_amb_c].values, tube_df.iloc[3:, index_h_m].values, 'o-', label = 'КРТ окр. среды в НКТ')\n",
    "    plt.gca().invert_yaxis()\n",
    "    plt.legend()\n",
    "    plt.grid()\n",
    "    plt.title(f\"Кривая распределения температуры для режима Qж = {round(params['qliq_sm3day'], 2)} м3/сут\")\n",
    "    plt.xlabel('Температура, С')\n",
    "    plt.ylabel('Глубина измеренная, м')\n",
    "    plt.show()"
   ]
  },
  {
   "cell_type": "markdown",
   "metadata": {},
   "source": [
    "### Определения функции calc_model"
   ]
  },
  {
   "cell_type": "markdown",
   "metadata": {},
   "source": [
    "#### Модель UniflocVBA 7.25"
   ]
  },
  {
   "cell_type": "code",
   "execution_count": null,
   "metadata": {},
   "outputs": [],
   "source": [
    "def calc_model(d, m_api = api):\n",
    "        api = m_api\n",
    "     # расчет в обсадной колонне КРД - до приема - снизу-вверх\n",
    "        str_PVT_casing = api.PVT_encode_string(gamma_gas=d['gamma_gas'],\n",
    "            gamma_oil=d['gamma_oil'],\n",
    "            gamma_wat=d['gamma_wat'],\n",
    "            rsb_m3m3=d['rsb_m3m3'],\n",
    "            rp_m3m3=d['rp_m3m3'],\n",
    "            pb_atma=d['pb_atma'],\n",
    "            t_res_C=d['t_res_C'],\n",
    "            bob_m3m3=d['bob_m3m3'],\n",
    "            muob_cP=d['muob_cP'],\n",
    "            PVTcorr=d['PVTcorr'],\n",
    "            ksep_fr=-1,\n",
    "            p_ksep_atma=-1,\n",
    "            t_ksep_C=-1,\n",
    "            gas_only=False)\n",
    "\n",
    "        casing_pipe = api.MF_p_pipeline_atma(p_calc_from_atma=d['p_bhp_atm'],\n",
    "            t_calc_from_C=d['t_res_C'],\n",
    "            #t_val_C=d['t_wh_c'],\n",
    "            t_val_C=[[0, d['t_wh_c']], [d['h_list_m'], d['t_res_C']]],\n",
    "            h_list_m=[d['h_pump_m'], d['h_list_m']],\n",
    "            diam_list_mm=d['diam_list_mm_casing'],\n",
    "            qliq_sm3day=d['qliq_sm3day'],\n",
    "            fw_perc=d['fw_perc'],\n",
    "            q_gas_sm3day=0,\n",
    "            str_PVT=str_PVT_casing,\n",
    "            calc_flow_direction=0,\n",
    "            hydr_corr=d['hydr_corr'],\n",
    "            temp_method=2,\n",
    "            c_calibr=1,\n",
    "            roughness_m=0.0001,\n",
    "            out_curves=2,\n",
    "            out_curves_num_points=20,\n",
    "            num_value=0,\n",
    "            znlf=False)\n",
    "        \n",
    "        casing_pipe_df = pd.DataFrame(casing_pipe)\n",
    "        p_intake = casing_pipe[0][0]\n",
    "        t_intake = casing_pipe[0][1]\n",
    "\n",
    "        # расчет нкт сверху вниз - определение давления на выкиде насоса\n",
    "        str_PVT_tube = api.PVT_encode_string(gamma_gas=d['gamma_gas'],\n",
    "            gamma_oil=d['gamma_oil'],\n",
    "            gamma_wat=d['gamma_wat'],\n",
    "            rsb_m3m3=d['rsb_m3m3'],\n",
    "            rp_m3m3=d['rp_m3m3'],\n",
    "            pb_atma=d['pb_atma'],\n",
    "            t_res_C=d['t_res_C'],\n",
    "            bob_m3m3=d['bob_m3m3'],\n",
    "            muob_cP=d['muob_cP'],\n",
    "            PVTcorr=d['PVTcorr'],\n",
    "            ksep_fr=d['ksep_fr'],\n",
    "            p_ksep_atma=float(p_intake),\n",
    "            t_ksep_C=float(t_intake),\n",
    "            gas_only=False)\n",
    "\n",
    "        tube_pipe = api.MF_p_pipeline_atma(p_calc_from_atma=d['p_wh_atm'],\n",
    "            t_calc_from_C=d['t_wh_c'],\n",
    "            t_val_C=t_intake,\n",
    "            h_list_m=d['h_pump_m'],\n",
    "            diam_list_mm=d['diam_list_mm_tube'],\n",
    "            qliq_sm3day=d['qliq_sm3day'],\n",
    "            fw_perc=d['fw_perc'],\n",
    "            q_gas_sm3day=0,\n",
    "            str_PVT=str_PVT_tube,\n",
    "            calc_flow_direction=10,\n",
    "            hydr_corr=d['hydr_corr'],\n",
    "            temp_method=0,\n",
    "            c_calibr=1,\n",
    "            roughness_m=0.0001,\n",
    "            out_curves=2,\n",
    "            out_curves_num_points=20,\n",
    "            num_value=0,\n",
    "            znlf=False)\n",
    "\n",
    "        df = pd.DataFrame(tube_pipe)\n",
    "        p_dis =  tube_pipe[0][0]\n",
    "        t_dis = tube_pipe[0][1]\n",
    "        \n",
    "        if d['calc_esp_new'] != 1:\n",
    "            #print('calc_esp_old')\n",
    "            p_esp_dis, gas_fraction_intake, eff, head_esp, power_esp = calc_esp_old(d, str_PVT_tube, p_intake, t_intake)\n",
    "        else:\n",
    "            #print('calc_esp_new')\n",
    "            p_esp_dis, gas_fraction_intake, eff, head_esp, power_esp, esp_df , q_mix_pump_mean= calc_esp_new(d, str_PVT_tube, p_intake, t_intake,\n",
    "                                                                                                            m_api = api)\n",
    "\n",
    "        return p_dis, p_esp_dis, str_PVT_tube, p_intake, t_intake,  eff, head_esp, power_esp, gas_fraction_intake,\\\n",
    "                    casing_pipe, tube_pipe, q_mix_pump_mean, esp_df\n"
   ]
  },
  {
   "cell_type": "code",
   "execution_count": null,
   "metadata": {},
   "outputs": [],
   "source": [
    "p_dis, p_esp_dis, str_PVT_tube, p_intake, t_intake,  eff, head_esp, power_esp, gas_fraction_intake,\\\n",
    "                    casing_pipe, tube_pipe, q_mix_pump_mean, esp_df= calc_model(params, m_api=api)"
   ]
  },
  {
   "cell_type": "code",
   "execution_count": null,
   "metadata": {},
   "outputs": [],
   "source": [
    "pd.DataFrame(casing_pipe)"
   ]
  },
  {
   "cell_type": "code",
   "execution_count": null,
   "metadata": {},
   "outputs": [],
   "source": [
    "plot_well_curves(p_dis, p_esp_dis, str_PVT_tube, p_intake, t_intake,  eff, head_esp, \n",
    "                 power_esp, gas_fraction_intake,\n",
    "                    casing_pipe, tube_pipe, params)"
   ]
  },
  {
   "cell_type": "markdown",
   "metadata": {},
   "source": [
    "#### Модель UniflocVBA 7.28"
   ]
  },
  {
   "cell_type": "code",
   "execution_count": null,
   "metadata": {},
   "outputs": [],
   "source": [
    "def calc_model_new_7_28(d, m_api=api_new):\n",
    "    ########### ЭЦН\n",
    "    # флюид\n",
    "    api_new = m_api\n",
    "    encoded_fluid = api_new.encode_PVT(gamma_gas=d['gamma_gas'],\n",
    "                                    gamma_oil=d['gamma_oil'],\n",
    "                                    gamma_wat=d['gamma_wat'],\n",
    "                                    rsb_m3m3=d['rsb_m3m3'],\n",
    "                                    pb_atma=d['pb_atma'],\n",
    "                                    t_res_C=d['t_res_C'],\n",
    "                                    bob_m3m3=d['bob_m3m3'],\n",
    "                                    muob_cP=d['muob_cP'],\n",
    "                                    PVT_corr_set=d['PVTcorr'])\n",
    "\n",
    "    # поток вместе с флюидом\n",
    "    encoded_feed = api_new.encode_feed(q_liq_sm3day=d['qliq_sm3day'],\n",
    "                                        fw_perc=d['fw_perc'],\n",
    "                                        rp_m3m3=d['rp_m3m3'],\n",
    "                                        q_gas_free_sm3day=-1,\n",
    "                                        fluid=encoded_fluid\n",
    "                                      )\n",
    "\n",
    "    #температура\n",
    "    encoded_t_model = api_new.encode_t_model(t_model=2,\n",
    "                    t_list_C=[\n",
    "                              [0, d['t_wh_c']],\n",
    "                              [d['h_list_m'], d['t_res_C']]\n",
    "                             ],\n",
    "                    t_start_C=d['t_res_C'],\n",
    "                    t_end_C=d['t_wh_c'],\n",
    "                    param=''\n",
    "                    )\n",
    "\n",
    "    #конструкция\n",
    "    encoded_pipe = api_new.encode_pipe(h_list_m=[d['h_pump_m'], d['h_list_m']], \n",
    "                                       diam_list_mm=d['diam_list_mm_casing'],\n",
    "                                       roughness_m=0.0001)\n",
    "\n",
    "\n",
    "    # настройки вывода ЭЦН\n",
    "    param = json.dumps({'show_array': 1})\n",
    "\n",
    "    # обсадная колонна\n",
    "\n",
    "    casing_pipe = api_new.MF_pipe_p_atma(\n",
    "         p_calc_from_atma = d['p_bhp_atm'],\n",
    "        t_calc_from_C = d['t_res_C'],\n",
    "        construction=encoded_pipe,\n",
    "        feed=encoded_feed,\n",
    "        t_model=encoded_t_model,\n",
    "        calc_along_coord=False,\n",
    "        flow_along_coord=False,\n",
    "        flow_correlation=d['hydr_corr'],\n",
    "        calibr_grav=1,\n",
    "        calibr_fric=1,\n",
    "        param=param, #TODO добавить в вывод gasfraction\n",
    "\n",
    "    )\n",
    "\n",
    "    casing_df = pd.DataFrame(casing_pipe)\n",
    "\n",
    "    p_intake = casing_df[0][0]\n",
    "    t_intake = casing_df[2][0]\n",
    "    \n",
    "    ########### НКТ\n",
    "    # модификация флюида для НКТ\n",
    "    encoded_feed_mode = api_new.feed_mod_separate_gas(k_sep = d['ksep_fr'],\n",
    "                                                      p_atma = p_intake,\n",
    "                                                      t_C = t_intake, \n",
    "                                                      feed = encoded_feed, \n",
    "                                                      param=''\n",
    "                                                 )\n",
    "\n",
    "    #расчет НКТ\n",
    "\n",
    "    str_PVT_tube = None # для универсальности - в 7.25 отдельная строка\n",
    "\n",
    "    #температура\n",
    "    encoded_t_model = api_new.encode_t_model(t_model=0,\n",
    "                    t_list_C=[[0, d['t_wh_c']],\n",
    "                      [d['h_pump_m'], t_intake]\n",
    "                     ],\n",
    "                    t_start_C=d['t_wh_c'],\n",
    "                    t_end_C=t_intake,\n",
    "                    param=''\n",
    "                    )\n",
    "\n",
    "    #конструкция\n",
    "    encoded_pipe = api_new.encode_pipe(h_list_m=[0, d['h_pump_m']], \n",
    "                                       diam_list_mm=d['diam_list_mm_tube'],\n",
    "                                       roughness_m=0.001)\n",
    "\n",
    "\n",
    "    tube_pipe = api_new.MF_pipe_p_atma(\n",
    "                                     p_calc_from_atma = d['p_wh_atm'],\n",
    "                                    t_calc_from_C = d['t_wh_c'],\n",
    "                                    construction=encoded_pipe,\n",
    "                                    feed=encoded_feed_mode,\n",
    "                                    t_model=encoded_t_model,\n",
    "                                    calc_along_coord=True,\n",
    "                                    flow_along_coord=False,\n",
    "                                    flow_correlation=d['hydr_corr'],\n",
    "                                    calibr_grav=1,\n",
    "                                    calibr_fric=1,\n",
    "                                    param=param, #TODO добавить в вывод gasfraction\n",
    "                                    )\n",
    "\n",
    "\n",
    "    df = pd.DataFrame(tube_pipe)\n",
    "    p_dis =  tube_pipe[0][0]\n",
    "    t_dis = tube_pipe[0][4]\n",
    "    \n",
    "    p_esp_dis, gas_fraction_intake, eff, head_esp, power_esp, esp_df , \\\n",
    "        q_mix_pump_mean= calc_esp_new_7_28(d, str_PVT_tube, p_intake, t_intake, m_api=api_new)\n",
    "\n",
    "    return p_dis, p_esp_dis, str_PVT_tube, p_intake, t_intake,  eff, head_esp, power_esp, gas_fraction_intake,\\\n",
    "                casing_pipe, tube_pipe, q_mix_pump_mean, esp_df\n",
    "\n",
    "\n"
   ]
  },
  {
   "cell_type": "code",
   "execution_count": null,
   "metadata": {},
   "outputs": [],
   "source": [
    "p_dis, p_esp_dis, str_PVT_tube, p_intake, t_intake,  eff, head_esp, power_esp, gas_fraction_intake,\\\n",
    "                    casing_pipe, tube_pipe, q_mix_pump_mean, esp_df= calc_model_new_7_28(params, m_api=api_new)"
   ]
  },
  {
   "cell_type": "code",
   "execution_count": null,
   "metadata": {},
   "outputs": [],
   "source": [
    "plot_well_curves(p_dis, p_esp_dis, str_PVT_tube, p_intake, t_intake,  eff, head_esp, power_esp, gas_fraction_intake,\n",
    "                    casing_pipe, tube_pipe, params)"
   ]
  },
  {
   "cell_type": "markdown",
   "metadata": {},
   "source": [
    "### Функции для построения НРХ в условиях работы"
   ]
  },
  {
   "cell_type": "code",
   "execution_count": null,
   "metadata": {
    "scrolled": false
   },
   "outputs": [],
   "source": [
    "params['qliq_sm3day_range'] = range(1, 100)\n",
    "plot_pump_curves(params, head_esp, power_esp, eff, p_intake, t_intake, str_PVT_tube, q_mix_pump_mean, qliq_on_surface=False)\n",
    "plot_pump_curves(params, head_esp, power_esp, eff, p_intake, t_intake, str_PVT_tube, q_mix_pump_mean, qliq_on_surface=True)"
   ]
  },
  {
   "cell_type": "markdown",
   "metadata": {},
   "source": [
    "## Определение основной расчетной функции узлового анализа"
   ]
  },
  {
   "cell_type": "code",
   "execution_count": null,
   "metadata": {},
   "outputs": [],
   "source": [
    "def calc_all(d, debug=True, vba_version = VBA_VERSION, api=api, api_new=api_new):\n",
    "        print('\\n')\n",
    "        \n",
    "        if vba_version == '7.28':\n",
    "            print('UniflocVBA 7.28')\n",
    "            f_ipr_qliq_sm3day = api_new.IPR_q_liq_sm3day\n",
    "            f_ipr_pwf_atma = api_new.IPR_p_wf_atma\n",
    "            f_calc_model = calc_model_new_7_28\n",
    "            m_api = api_new\n",
    "            \n",
    "        else:\n",
    "            print('UniflocVBA 7.25')\n",
    "            f_ipr_qliq_sm3day = api.IPR_qliq_sm3day\n",
    "            f_ipr_pwf_atma = api.IPR_pwf_atma\n",
    "            f_calc_model = calc_model\n",
    "            m_api = api\n",
    "            \n",
    "        q_max = f_ipr_qliq_sm3day(d['pi_sm3dayatm'],\n",
    "                            d['pres_atma'],\n",
    "                             0,\n",
    "                            d['fw_perc'],\n",
    "                            d['pb_atma']) -1\n",
    "\n",
    "        d['qliq_sm3day_range'] = list(np.linspace(1, q_max*0.2, int(d['n_dots_for_nodal']/3))) + \\\n",
    "                                 list(np.linspace(q_max*0.21, q_max*0.7, int(d['n_dots_for_nodal']))) + \\\n",
    "                                list(np.linspace(q_max*0.71, q_max, int(d['n_dots_for_nodal']*1.2)))\n",
    "        #d['qliq_sm3day_range'] = np.logspace(q_max, 1, d['n_dots_for_nodal'])\n",
    "\n",
    "        \n",
    "        # создание пустых массивов для узлового анализа на выкиде насоса\n",
    "        p_dis_pipe, p_dis_pump, p_intake_list, p_bhp_by_ipr_list = [], [], [], []\n",
    "        \n",
    "        \n",
    "        # прогон по дебиту - расчет модели с разными дебитами - для решения узлового анализа - поиска рабочего режима\n",
    "        pump_in_flowing_mode_count = 0\n",
    "        for j, i in enumerate(d['qliq_sm3day_range']):\n",
    "            print(i)\n",
    "            d['qliq_sm3day'] = i\n",
    "\n",
    "            # расчет забойного давления для данного дебита\n",
    "            d['p_bhp_atm'] = f_ipr_pwf_atma(\n",
    "                        d['pi_sm3dayatm'],\n",
    "                         d['pres_atma'],\n",
    "                        d['qliq_sm3day'],\n",
    "                        d['fw_perc'],\n",
    "                        d['pb_atma'],\n",
    "                                )\n",
    "            \n",
    "            p_dis, p_esp_dis, str_PVT_tube, p_intake, t_intake,  eff, head_esp, power_esp, gas_fraction_intake, \\\n",
    "                        casing_pipe, tube_pipe, q_mix_pump_mean, esp_df = f_calc_model(d, m_api = m_api)\n",
    "            if debug == 2:\n",
    "                plot_well_curves(p_dis, p_esp_dis, str_PVT_tube, p_intake, t_intake,  eff, head_esp, power_esp, \\\n",
    "                                 gas_fraction_intake, casing_pipe, tube_pipe, d)\n",
    "\n",
    "            p_dis_pipe.append(p_dis)\n",
    "            p_dis_pump.append(p_esp_dis)\n",
    "            p_intake_list.append(p_intake)\n",
    "            p_bhp_by_ipr_list.append(d['p_bhp_atm'])\n",
    "            \n",
    "            \n",
    "            if p_esp_dis < p_intake:\n",
    "                pump_in_flowing_mode_count += 1\n",
    "                if pump_in_flowing_mode_count == 2 and j != (len(d['qliq_sm3day_range'])-1):\n",
    "                    d['qliq_sm3day_range'] = d['qliq_sm3day_range'][:j+1]\n",
    "                    break\n",
    "\n",
    "        #### определение режима работы скважины с помощью узлового анализа\n",
    "        \n",
    "        #чистка данных от None\n",
    "        df = pd.DataFrame({'qliq_sm3day_range': d['qliq_sm3day_range'],\n",
    "                          'p_dis_pipe': p_dis_pipe, \n",
    "                           'p_dis_pump': p_dis_pump,\n",
    "                           'p_intake': p_intake_list,\n",
    "                           'p_bhp_by_ipr_list': p_bhp_by_ipr_list\n",
    "                           \n",
    "                          })\n",
    "        df = df.dropna() \n",
    "        \n",
    "        d['qliq_sm3day_range'] = df['qliq_sm3day_range'].values.flatten()\n",
    "        p_dis_pipe = df['p_dis_pipe'].values.flatten()\n",
    "        p_dis_pump = df['p_dis_pump'].values.flatten()\n",
    "        p_intake_list = df['p_intake'].values.flatten()\n",
    "        p_bhp_by_ipr_list = df['p_bhp_by_ipr_list'].values.flatten()\n",
    "        \n",
    "        if len(p_dis_pump) <= 1:\n",
    "            print('error - all none')\n",
    "            return None, None, None, None, None, None, None, 0, None, None, None, None\n",
    "        \n",
    "        # построение графика узлового анализа\n",
    "        if debug>=1:\n",
    "            fig = plt.Figure()\n",
    "            plt.plot(d['qliq_sm3day_range'], p_dis_pipe, 'o-', label = 'Давление на выкиде ЭЦН, атм (НКТ)')\n",
    "            plt.plot(d['qliq_sm3day_range'], p_dis_pump, 'o-', label = 'Давление на выкиде ЭЦН, атм (ЭЦН)')\n",
    "            plt.plot(d['qliq_sm3day_range'], p_intake_list, 'o-', label = 'Давление на приеме ЭЦН, атм (ЭЦН)')\n",
    "            plt.plot(d['qliq_sm3day_range'], p_bhp_by_ipr_list, 'o-', label = 'Давление забойное, атм')\n",
    "            plt.plot(d['qliq_sm3day_range'], d['qliq_sm3day_range']*0 + d['pres_atma'], '--', label = 'Пластовое давление, атм')\n",
    "            plt.plot(d['qliq_sm3day_range'], d['qliq_sm3day_range']*0 + d['pb_atma'], '--', label = 'Давление насыщения, атм')\n",
    "            plt.plot(d['qliq_sm3day_range'], d['qliq_sm3day_range']*0 + d['p_wh_atm'], '--', label = 'Давление устьевое, атм')\n",
    "\n",
    "            \n",
    "            \n",
    "        # решение узлового анализа - нахождение режимного дебита\n",
    "        first_line = LineString(np.column_stack((d['qliq_sm3day_range'], np.array(p_dis_pipe))))\n",
    "        second_line = LineString(np.column_stack((d['qliq_sm3day_range'], np.array(p_dis_pump))))\n",
    "        intersection = first_line.intersection(second_line)\n",
    "        \n",
    "        if intersection.geom_type == 'Point':\n",
    "            d['qliq_sm3day'], p_solve = float(intersection.x), float(intersection.y)\n",
    "            q_liq = d['qliq_sm3day']\n",
    "\n",
    "        else:\n",
    "            print('\\n no solution\\n')\n",
    "            head_esp, z, eff, power_esp = None, None, None, None\n",
    "            return None, None, d['h_pump_m'], head_esp, z, eff, power_esp, 0, None, None, None, None\n",
    "        if debug>=1:\n",
    "            plt.plot([d['qliq_sm3day']], [p_solve], 'ro',   markersize=12,\n",
    "                         label = f\"Режимное значение дебита = {round(d['qliq_sm3day'], 2)} м3/сут\")\n",
    "            plt.title('Узловой анализ на выкиде ЭЦН')\n",
    "            plt.ylim(0, max([d['pres_atma']] + list(p_dis_pump)) + 10 )\n",
    "            plt.legend()\n",
    "            plt.grid()\n",
    "            plt.ylabel('Давление, атм')\n",
    "            plt.xlabel('Дебит жидкости, м3/сут')\n",
    "            plt.show()\n",
    "        \n",
    "        \n",
    "        ################# фактический расчет текущего режима с получением искомых параметров\n",
    "        \n",
    "        #определение фактического значения дебита\n",
    "        d['p_bhp_atm']  = f_ipr_pwf_atma(\n",
    "                    d['pi_sm3dayatm'],\n",
    "                    d['pres_atma'],\n",
    "                    d['qliq_sm3day'],\n",
    "                    d['fw_perc'],\n",
    "                    d['pb_atma'],\n",
    "                    )\n",
    "        \n",
    "        p_dis, p_esp_dis, str_PVT_tube, p_intake, t_intake, eff, head_esp, power_esp, gas_fraction_intake, \\\n",
    "                casing_pipe, tube_pipe, q_mix_pump_mean, esp_df = f_calc_model(d, m_api = m_api)\n",
    "        if debug>=1:\n",
    "            plot_well_curves(p_dis, p_esp_dis, str_PVT_tube, p_intake, t_intake,  eff, head_esp, power_esp, \\\n",
    "                                     gas_fraction_intake, casing_pipe, tube_pipe, d)\n",
    "            plot_pump_curves(d, head_esp, power_esp, eff,  p_intake, t_intake, str_PVT_tube, q_mix_pump_mean,\n",
    "                            qliq_on_surface=False, vba_version=vba_version, api=api, api_new=api_new)\n",
    "            plot_pump_curves(d, head_esp, power_esp, eff,  p_intake, t_intake, str_PVT_tube, q_mix_pump_mean,\n",
    "                            qliq_on_surface=True, vba_version=vba_version, api=api, api_new=api_new)\n",
    "        \n",
    "        print('norm calculation sucessful')\n",
    "        p_bhp_atm = d['p_bhp_atm']\n",
    "        \n",
    "        json_params = json.dumps({key: value for (key, value) in d.items() if type(value) is not np.ndarray})\n",
    "        \n",
    "        return casing_pipe, tube_pipe, d['h_pump_m'], head_esp, eff,\\\n",
    "                    power_esp, q_liq, 1, gas_fraction_intake, p_bhp_atm, p_dis, p_esp_dis, json_params, q_mix_pump_mean, esp_df \n",
    "    \n",
    "def save_in_df(lh_mes, lhead_esp, leff, lpower_esp, lqliq, lstatus, lgas_fraction_intake, \n",
    "                   lp_bhp_atm, lp_esp_dis, lparams, num_simulations, lp_esp_dis_by_tube,\n",
    "              lq_mix_pump_mean,  lesp_df,  lcasing_pipe, ltube_pipe):\n",
    "\n",
    "    df = pd.DataFrame([lh_mes, lhead_esp, leff, lpower_esp, lqliq, lstatus, lgas_fraction_intake, \n",
    "                       lp_bhp_atm, lp_esp_dis, lparams, range(num_simulations), lp_esp_dis_by_tube,\n",
    "                      lq_mix_pump_mean,  lesp_df,  lcasing_pipe, ltube_pipe]).T.dropna()\n",
    "\n",
    "\n",
    "    df.columns =  ['lh_mes', 'lhead_esp', 'leff', 'lpower_esp', \n",
    "                 'lqliq', 'lstatus', 'lgas_fraction_intake', 'lp_bhp_atm',\n",
    "                 'lp_esp_dis', 'lparams', 'simnumber', 'lp_esp_dis_by_tube', 'lq_mix_pump_mean',  'lesp_df',\n",
    "                   'lcasing_pipe', 'ltube_pipe']\n",
    "    \n",
    "    df = df.sort_values(by = 'leff')\n",
    "    return df"
   ]
  },
  {
   "cell_type": "markdown",
   "metadata": {},
   "source": [
    "# Проверка рабочей функции"
   ]
  },
  {
   "cell_type": "code",
   "execution_count": null,
   "metadata": {
    "scrolled": false
   },
   "outputs": [],
   "source": [
    "matplotlib.rcParams.update({'font.size': 12})\n",
    "params['n_dots_for_nodal']  = 20\n",
    "params['calc_esp_new'] = 1\n",
    "casing_pipe, tube_pipe, h_mes, head_esp, eff, power_esp, q_liq, status, gas_fraction_intake,\\\n",
    "p_bhp_atm, p_dis, p_esp_dis, json_params, q_mix_pump_mean, esp_df  = calc_all(params, debug=1, vba_version='7.25',\n",
    "                                                                             api=api, api_new=api_new)\n",
    "casing_pipe, tube_pipe, h_mes, head_esp, eff, power_esp, q_liq, status, gas_fraction_intake,\\\n",
    "p_bhp_atm, p_dis, p_esp_dis, json_params, q_mix_pump_mean, esp_df  = calc_all(params, debug=1, vba_version='7.28',\n",
    "                                                                             api=api, api_new=api_new)"
   ]
  },
  {
   "cell_type": "code",
   "execution_count": null,
   "metadata": {
    "scrolled": false
   },
   "outputs": [],
   "source": [
    "params['n_dots_for_nodal']  = 20\n",
    "params['calc_esp_new'] = 1\n",
    "params['esp_head_m'] = 1800\n",
    "params['num_stages'] = calc_num_stages(params, api=api, api_new=api_new, vba_version=VBA_VERSION)\n",
    "casing_pipe, tube_pipe, h_mes, head_esp, eff, power_esp, q_liq, status, gas_fraction_intake,\\\n",
    "p_bhp_atm, p_dis, p_esp_dis, json_params, q_mix_pump_mean, esp_df  = calc_all(params, debug=1, vba_version='7.28',\n",
    "                                                                             api=api, api_new=api_new)"
   ]
  },
  {
   "cell_type": "code",
   "execution_count": null,
   "metadata": {},
   "outputs": [],
   "source": [
    "#params['calc_esp_new'] = 0\n",
    "#casing_pipe, tube_pipe, h_mes, head_esp, eff, power_esp, q_liq, status, gas_fraction_intake,\\\n",
    "#p_bhp_atm, p_dis, p_esp_dis = calc_all(params)"
   ]
  },
  {
   "cell_type": "markdown",
   "metadata": {},
   "source": [
    "## Анализ системы (анализ чувствительности для узлового анализа)"
   ]
  },
  {
   "cell_type": "code",
   "execution_count": null,
   "metadata": {},
   "outputs": [],
   "source": [
    "sens_params = params.copy()\n",
    "sens_params"
   ]
  },
  {
   "cell_type": "markdown",
   "metadata": {},
   "source": [
    "### Коэффициент продуктивности"
   ]
  },
  {
   "cell_type": "code",
   "execution_count": null,
   "metadata": {
    "scrolled": true
   },
   "outputs": [],
   "source": [
    "res_list2 = []\n",
    "sens_params['n_dots_for_nodal']  = 20\n",
    "sens_params['pump_id'] = 2753 #100 проблемная\n",
    "sens_params['esp_head_m'] = 1500\n",
    "sensed_param = np.arange(0.5, 3, 0.3)\n",
    "stack_values = []\n",
    "for i in tqdm.tqdm(sensed_param):\n",
    "    print('\\n')\n",
    "    print('i', i)\n",
    "    sens_params['pi_sm3dayatm'] = i\n",
    "    res = calc_all(sens_params, debug=1, vba_version='7.25', api=api, api_new=api_new)\n",
    "    casing_pipe, tube_pipe, h_mes, head_esp, eff, power_esp, q_liq, status, gas_fraction_intake,\\\n",
    "    p_bhp_atm, p_dis, p_esp_dis, json_params, q_mix_pump_mean, esp_df = res\n",
    "    res_list2.append(res)\n",
    "    this_values = ('head_esp',  head_esp, 'eff', eff, 'power_esp', power_esp, 'q_liq', q_liq,  'gas_fraction_intake', gas_fraction_intake,\n",
    "        'p_bhp_atm', p_bhp_atm, 'p_dis', p_dis, 'p_esp_dis',  p_esp_dis, 'q_mix_pump_mean', q_mix_pump_mean)\n",
    "    \n",
    "    stack_values.append(this_values)\n",
    "    print(this_values)"
   ]
  },
  {
   "cell_type": "code",
   "execution_count": null,
   "metadata": {
    "scrolled": false
   },
   "outputs": [],
   "source": [
    "fig = plt.Figure()\n",
    "plt.plot([x[6] for x in res_list2],\n",
    "         [x[4] for x in res_list2], 'o-', label = 'КПД, д.ед.')\n",
    "plt.xlabel('Дебит жидкости в поверхностных условиях, м3/сут')\n",
    "plt.ylabel('КПД, д.ед.')\n",
    "plt.title('Системный анализ чувствительности')\n",
    "plt.show()\n",
    "\n",
    "\n",
    "for i in [\n",
    "    [ [x[6] for x in res_list2], 'Дебит жидкости в поверхностных условиях, м3/сут'],\n",
    "    [sensed_param, 'Кпрод, м3/сут/атм'],\n",
    "    [  [x[13] for x in res_list2], 'Средний расход ГЖС через ЭЦН, м3/сут']\n",
    "    ]:\n",
    "    sensed_x = i[0]\n",
    "    sensed_x_name = i[1]\n",
    "    \n",
    "    \n",
    "    fig = plt.Figure()\n",
    "    plt.plot(sensed_x,\n",
    "             [x[11] for x in res_list2], 'o-', label = 'Давление на выкиде ЭЦН по ЭЦН, атм')\n",
    "    plt.plot(sensed_x,\n",
    "             [x[10] for x in res_list2], 'o-', label = 'Давление на выкиде ЭЦН по трубе, атм')\n",
    "    plt.plot(sensed_x,\n",
    "             [x[9] for x in res_list2], 'o-', label = 'Забойное давление, атм')\n",
    "    plt.plot(sensed_x,\n",
    "             [x[14][3][3] for x in res_list2], 'o-', label = 'Давление на приеме ЭЦН, атм')\n",
    "    \n",
    "    plt.xlabel(sensed_x_name)\n",
    "    plt.ylabel('Давление, атм')\n",
    "    plt.title('Системный анализ чувствительности')\n",
    "    plt.legend()\n",
    "    plt.show()\n",
    "\n",
    "\n",
    "plt.plot(sensed_param,\n",
    "         [x[4] for x in res_list2], 'o-', label = 'КПД, д.ед.')\n",
    "plt.xlabel('Кпрод, м3/сут/атм')\n",
    "plt.ylabel('КПД')\n",
    "plt.title('Системный анализ чувствительности')\n",
    "plt.legend()\n",
    "plt.show()\n",
    "\n",
    "\n",
    "\n",
    "plt.plot( [x[4] for x in res_list2],\n",
    "         [x[8] for x in res_list2], 'o-', label = 'Доля газа на приеме ЭЦН (после сепарации), д.ед.')\n",
    "plt.xlabel('Дебит жидкости в поверхностных условиях, м3/сут')\n",
    "plt.ylabel('Доля газа на приеме ЭЦН (после сепарации), д.ед.')\n",
    "plt.title('Системный анализ чувствительности')\n",
    "plt.legend()\n",
    "plt.show()"
   ]
  },
  {
   "cell_type": "code",
   "execution_count": null,
   "metadata": {},
   "outputs": [],
   "source": [
    "sensed_param"
   ]
  },
  {
   "cell_type": "code",
   "execution_count": null,
   "metadata": {},
   "outputs": [],
   "source": [
    "sens_params"
   ]
  },
  {
   "cell_type": "code",
   "execution_count": null,
   "metadata": {
    "scrolled": false
   },
   "outputs": [],
   "source": [
    "i_iter = -1\n",
    "sens_params['bob_m3m3'] = 1.2\n",
    "sens_params['muob_cP'] = 1\n",
    "sens_params['diam_list_mm_tube'] = 60\n",
    "\n",
    "sens_params['n_dots_for_nodal']  = 20\n",
    "sens_params['pump_id'] = 2753 #100 проблемная\n",
    "sens_params['esp_head_m'] = 1500\n",
    "sens_params['pi_sm3dayatm'] = sensed_param[i_iter]\n",
    "sens_params['hydr_corr'] = 1\n",
    "sens_params['ksep_fr'] = 0\n",
    "res = calc_all(sens_params, debug=1, vba_version='7.28', api=api, api_new=api_new)\n",
    "casing_pipe, tube_pipe, h_mes, head_esp, eff, power_esp, q_liq, status, gas_fraction_intake,\\\n",
    "p_bhp_atm, p_dis, p_esp_dis, json_params, q_mix_pump_mean, esp_df = res\n",
    "\n",
    "print('from loop')\n",
    "print(stack_values[i_iter])\n",
    "print('this')\n",
    "print(( 'head_esp',  head_esp, 'eff', eff, 'power_esp', power_esp, 'q_liq', q_liq,  'gas_fraction_intake', gas_fraction_intake,\n",
    "'p_bhp_atm', p_bhp_atm, 'p_dis', p_dis, 'p_esp_dis',  p_esp_dis, 'q_mix_pump_mean', q_mix_pump_mean))\n",
    "\n"
   ]
  },
  {
   "cell_type": "markdown",
   "metadata": {},
   "source": [
    "### Насосы"
   ]
  },
  {
   "cell_type": "code",
   "execution_count": null,
   "metadata": {
    "scrolled": false
   },
   "outputs": [],
   "source": [
    "sens_params = params.copy()\n",
    "sens_params['qliq_sm3day_range'] = np.arange(1, 200, 5)\n",
    "for i in [2753, #страння характеристика эцн-100 - из-за округлений\n",
    "          #1460, #125\n",
    "           # 936, #83\n",
    "          #1153, #80\n",
    "         ]:\n",
    "\n",
    "    sens_params['pump_id'] = i\n",
    "    plot_pump_curves(sens_params, None, None, None, 50, 80, api.PVT_encode_string(ksep_fr=0.7, \n",
    "                                                                                  p_ksep_atma=50,\n",
    "                                                                                 t_ksep_C=80), None, qliq_on_surface=True,\n",
    "                                                                                    vba_version='7.28', api=api,\n",
    "                                                                                    api_new=api_new)\n",
    "    plot_pump_curves(sens_params, None, None, None, 50, 80, api.PVT_encode_string(ksep_fr=0.7, \n",
    "                                                                                  p_ksep_atma=50,\n",
    "                                                                                 t_ksep_C=80), None, qliq_on_surface=False,\n",
    "                                                                                    vba_version='7.28', api=api,\n",
    "                                                                                    api_new=api_new)\n",
    "    plot_pump_curves(sens_params, None, None, None, 50, 80, api.PVT_encode_string(ksep_fr=0.7, \n",
    "                                                                                  p_ksep_atma=50,\n",
    "                                                                                 t_ksep_C=80), None, qliq_on_surface=True,\n",
    "                                                                                    vba_version='7.25', api=api,\n",
    "                                                                                    api_new=api_new)\n",
    "    plot_pump_curves(sens_params, None, None, None, 50, 80, api.PVT_encode_string(ksep_fr=0.7, \n",
    "                                                                                  p_ksep_atma=50,\n",
    "                                                                                 t_ksep_C=80), None, qliq_on_surface=False,\n",
    "                                                                                    vba_version='7.25', api=api,\n",
    "                                                                                    api_new=api_new) \n",
    "    \n",
    "    "
   ]
  },
  {
   "cell_type": "markdown",
   "metadata": {},
   "source": [
    "# Расчет\n",
    "\n",
    "## Определение неопределенности работы пласта"
   ]
  },
  {
   "cell_type": "code",
   "execution_count": null,
   "metadata": {},
   "outputs": [],
   "source": [
    "params['p_bhp_atm']"
   ]
  },
  {
   "cell_type": "code",
   "execution_count": null,
   "metadata": {
    "scrolled": false
   },
   "outputs": [],
   "source": [
    "debug=0\n",
    "def create_q_dist(params, pi_mean = 0.8, pi_std = 0.15, \n",
    "                  pres_std = 10,\n",
    "                  num_simulations= 1_000_00, debug=debug):\n",
    "\n",
    "    all_stats_q_new =  []\n",
    "    \n",
    "    fig = plt.Figure()\n",
    "    pi_mc = create_normal_dist(pi_mean, pi_std, 10000, name = 'Кпрод',  plot=debug)\n",
    "    plt.xlabel('Коэффициент продуктивности, м3/сут/атм')\n",
    "    plt.ylabel('Плотность вероятности')\n",
    "    plt.title('Распределение коэффициента продуктивности')\n",
    "    plt.show()\n",
    "    \n",
    "    \n",
    "    fig = plt.Figure()\n",
    "    dist_p_res =  create_normal_dist(params['pres_atma'], pres_std, 10000, name ='Pres', plot=debug)\n",
    "    plt.xlabel('Пластовое давление, атм')\n",
    "    plt.ylabel('Плотность вероятности')\n",
    "    plt.title('Распределение пластового давления')\n",
    "    plt.show()\n",
    "\n",
    "    for i in range(num_simulations):\n",
    "\n",
    "        new_q = calc_QliqVogel_m3Day(Pi=np.random.choice(pi_mc), \n",
    "                                            P_test =  params['p_bhp_atm'], \n",
    "                                            Pr = np.random.choice(dist_p_res), \n",
    "                                     Wc = params['fw_perc'],\n",
    "                                     pb = params['pb_atma']\n",
    "                            )\n",
    "        all_stats_q_new.append(new_q)\n",
    "\n",
    "    if debug>=0:\n",
    "        fig = plt.Figure()\n",
    "\n",
    "        fig, ax = plt.subplots()\n",
    "\n",
    "        count, bins, ignored = plt.hist(all_stats_q_new, 300, [0, 400], density=True, \n",
    "                                        label=f\"Qж ср = {round(np.mean(all_stats_q_new), 3)} м3/сут\")\n",
    "\n",
    "        plt.axvline(x=np.quantile(all_stats_q_new, q=0.5), c = 'r')\n",
    "\n",
    "        plt.title('Распределение дебита жидкости, м3/сут')\n",
    "        plt.xlabel('Дебит жидкости, м3/сут')\n",
    "        plt.ylabel('Плотность вероятности')\n",
    "        ax.legend()\n",
    "        plt.show()\n",
    "    return all_stats_q_new, pi_mc, dist_p_res\n",
    "\n",
    "all_stats_q_new, pi_mc, dist_p_res = create_q_dist(params, pi_mean = 0.8, pi_std = 0.15, \n",
    "                  pres_std = 10,\n",
    "                  num_simulations= 1_000_000, debug=debug)"
   ]
  },
  {
   "cell_type": "code",
   "execution_count": null,
   "metadata": {},
   "outputs": [],
   "source": [
    "samples = []\n",
    "for i in tqdm.tqdm(range(1000)):\n",
    "    val = np.random.choice(all_stats_q_new, replace=True)\n",
    "    samples.append(val)\n",
    "    \n",
    "samples =     np.array(samples)\n",
    "print('end')\n",
    "\n"
   ]
  },
  {
   "cell_type": "code",
   "execution_count": null,
   "metadata": {},
   "outputs": [],
   "source": [
    "samples2 = []\n",
    "for i in tqdm.tqdm(range(1000)):\n",
    "    val = np.random.choice(all_stats_q_new, replace=True)\n",
    "    samples2.append(val)\n",
    "    \n",
    "samples2 =     np.array(samples2)\n",
    "print('end')\n"
   ]
  },
  {
   "cell_type": "code",
   "execution_count": null,
   "metadata": {},
   "outputs": [],
   "source": [
    "fig, ax = plt.subplots()\n",
    "\n",
    "ax = pd.Series(all_stats_q_new).plot.kde(label = 'Исходное распределение. ' + f\"Qж ср = {round(np.mean(all_stats_q_new), 3)} м3/сут\")\n",
    "\n",
    "#count, bins, ignored = plt.hist(all_stats_q_new, 300, [0, 400], density=True, \n",
    "#                                label=f\"Qж ср = {round(np.mean(all_stats_q_new), 3)} м3/сут\")\n",
    "\n",
    "plt.axvline(x=np.quantile(all_stats_q_new, q=0.5), c = 'r')\n",
    "\n",
    "#count, bins, ignored = plt.hist(samples, 300, [0, 400], density=True, \n",
    "#                                label=f\"Qж ср = {round(np.mean(samples), 3)} м3/сут\")\n",
    "\n",
    "ax = pd.Series(samples).plot.kde(label =  f\"Выборка. Qж ср = {round(np.mean(samples), 3)} м3/сут\")\n",
    "\n",
    "\n",
    "plt.axvline(x=np.quantile(samples, q=0.5), c = 'r')\n",
    "\n",
    "ax = pd.Series(samples2).plot.kde(label =  f\"Выборка2. Qж ср = {round(np.mean(sasamples2mples), 3)} м3/сут\")\n",
    "\n",
    "\n",
    "plt.axvline(x=np.quantile(samples2, q=0.5), c = 'r')\n",
    "\n",
    "\n",
    "plt.title('Распределение дебита жидкости, м3/сут')\n",
    "plt.xlabel('Дебит жидкости, м3/сут')\n",
    "plt.ylabel('Плотность вероятности')\n",
    "ax.legend()\n",
    "plt.show()\n"
   ]
  },
  {
   "cell_type": "code",
   "execution_count": null,
   "metadata": {},
   "outputs": [],
   "source": []
  },
  {
   "cell_type": "code",
   "execution_count": null,
   "metadata": {},
   "outputs": [],
   "source": []
  },
  {
   "cell_type": "code",
   "execution_count": null,
   "metadata": {},
   "outputs": [],
   "source": [
    "fig, ax = plt.subplots()\n",
    "\n",
    "ax = pd.Series(all_stats_q_new).plot.kde(label = 'kde_init' + f\" Qж ср = {round(np.mean(all_stats_q_new), 3)} м3/сут\")\n",
    "\n",
    "#count, bins, ignored = plt.hist(all_stats_q_new, 300, [0, 400], density=True, \n",
    "#                                label=f\"Qж ср = {round(np.mean(all_stats_q_new), 3)} м3/сут\")\n",
    "\n",
    "plt.axvline(x=np.quantile(all_stats_q_new, q=0.5), c = 'r')\n",
    "\n",
    "count, bins, ignored = plt.hist(samples, 300, [0, 400], density=True, \n",
    "                                label=f\"Qж ср = {round(np.mean(samples), 3)} м3/сут\")\n",
    "\n",
    "ax = pd.Series(samples).plot.kde(label = 'kde_sample' + f\"Qж ср = {round(np.mean(samples), 3)} м3/сут\")\n",
    "\n",
    "\n",
    "plt.axvline(x=np.quantile(samples, q=0.5), c = 'r')\n",
    "\n",
    "\n",
    "plt.title('Распределение дебита жидкости, м3/сут')\n",
    "plt.xlabel('Дебит жидкости, м3/сут')\n",
    "plt.ylabel('Плотность вероятности')\n",
    "ax.legend()\n",
    "plt.show()\n"
   ]
  },
  {
   "cell_type": "code",
   "execution_count": null,
   "metadata": {},
   "outputs": [],
   "source": [
    "samples"
   ]
  },
  {
   "cell_type": "code",
   "execution_count": null,
   "metadata": {},
   "outputs": [],
   "source": [
    "samples"
   ]
  },
  {
   "cell_type": "markdown",
   "metadata": {},
   "source": [
    "### Поиск подходящих насосов"
   ]
  },
  {
   "cell_type": "code",
   "execution_count": null,
   "metadata": {},
   "outputs": [],
   "source": [
    "os.chdir(r'C:\\Git\\probability_calculations')\n",
    "with open('ESP_json.db', 'r') as outfile:\n",
    "    file = outfile\n",
    "    db = json.load(outfile)\n",
    "\n",
    "db_df = pd.DataFrame(db)\n",
    "db_df = db_df.T  \n",
    "\n",
    "number_of_point_in_curves = []\n",
    "for i in db_df.index:\n",
    "    this_pump = db_df.loc[i]\n",
    "    number_of_point_in_curves.append(len(this_pump['rate_points']))\n",
    "    \n",
    "db_df['number_of_point_in_curves'] = number_of_point_in_curves\n",
    "\n"
   ]
  },
  {
   "cell_type": "code",
   "execution_count": null,
   "metadata": {},
   "outputs": [],
   "source": [
    "q_median = np.quantile(all_stats_q_new, q=0.5)\n",
    "q_std = np.std(all_stats_q_new)\n",
    "q_p10 = np.quantile(all_stats_q_new, q=0.10)\n",
    "q_p90 = np.quantile(all_stats_q_new, q=0.90)\n",
    "q_std"
   ]
  },
  {
   "cell_type": "code",
   "execution_count": null,
   "metadata": {},
   "outputs": [],
   "source": [
    "db_df_for_this_uncertainty = db_df[db_df['number_of_point_in_curves']>15]\n",
    "db_df_for_this_uncertainty = db_df_for_this_uncertainty[db_df_for_this_uncertainty['rate_opt_min_sm3day']>q_p10-q_std/2]\n",
    "db_df_for_this_uncertainty = db_df_for_this_uncertainty[db_df_for_this_uncertainty['rate_opt_max_sm3day']<q_p90+q_std/2]\n",
    "\n",
    "db_df_for_this_uncertainty"
   ]
  },
  {
   "cell_type": "code",
   "execution_count": null,
   "metadata": {},
   "outputs": [],
   "source": [
    "for i in range(db_df_for_this_uncertainty.shape[0]):\n",
    "    this_pump = db_df_for_this_uncertainty.iloc[i]\n",
    "    plot_pump_curve(q_arr = np.array(this_pump['rate_points']), \n",
    "        h_esp_arr = np.array(this_pump['head_points']),\n",
    "        power_esp_arr = np.array(this_pump['power_points']), \n",
    "        efficiency_esp_arr = np.array(this_pump['eff_points']),\n",
    "             z = 1,\n",
    "                    esp_name = this_pump['name'], f=50)"
   ]
  },
  {
   "cell_type": "code",
   "execution_count": null,
   "metadata": {},
   "outputs": [],
   "source": [
    "db_df_for_this_uncertainty['rate_nom_sm3day'].plot(kind = 'hist', bins = 100)\n",
    "plt.xlabel('Номинальная подача, м3/сут')\n",
    "plt.ylabel('Число ЭЦН')\n",
    "plt.title('Распределение выбранных ЭЦН по подаче для текущих условий работы пласта')"
   ]
  },
  {
   "cell_type": "code",
   "execution_count": null,
   "metadata": {},
   "outputs": [],
   "source": [
    "rates_unique = db_df_for_this_uncertainty['rate_nom_sm3day'].unique()\n",
    "dq_for_group = (max(rates_unique) - min(rates_unique)) /5\n",
    "rates_unique"
   ]
  },
  {
   "cell_type": "code",
   "execution_count": null,
   "metadata": {},
   "outputs": [],
   "source": [
    "chosen_pumps = []\n",
    "for i in range(5):\n",
    "    q_left = min(rates_unique) + dq_for_group*i\n",
    "    q_right = min(rates_unique) + dq_for_group*(i+1)\n",
    "    print(q_left, q_right)\n",
    "    if i == 0:\n",
    "        pumps_in_group = db_df_for_this_uncertainty[(db_df_for_this_uncertainty['rate_nom_sm3day'] <= q_right) &\n",
    "                                                   (db_df_for_this_uncertainty['rate_nom_sm3day'] >= q_left)]\n",
    "    else:\n",
    "        pumps_in_group = db_df_for_this_uncertainty[(db_df_for_this_uncertainty['rate_nom_sm3day'] <= q_right) &\n",
    "                                           (db_df_for_this_uncertainty['rate_nom_sm3day'] > q_left)]\n",
    "    pumps_in_group.loc[:, 'max_eff'] = pumps_in_group['eff_points'].copy().apply(lambda x: max(x))\n",
    "    pumps_in_group = pumps_in_group.head(5)\n",
    "    this_pumps = pumps_in_group[pumps_in_group['max_eff'] > pumps_in_group['max_eff'].max()*0.5]\n",
    "    #this_pumps = pumps_in_group\n",
    "    chosen_pumps.append(this_pumps)\n",
    "result_pumps = pd.concat(chosen_pumps)"
   ]
  },
  {
   "cell_type": "code",
   "execution_count": null,
   "metadata": {},
   "outputs": [],
   "source": [
    "result_pumps"
   ]
  },
  {
   "cell_type": "code",
   "execution_count": null,
   "metadata": {
    "scrolled": false
   },
   "outputs": [],
   "source": [
    "for i in range(result_pumps.shape[0]):\n",
    "    this_pump = result_pumps.iloc[i]\n",
    "    print(this_pump['rate_nom_sm3day'], this_pump['ID'])\n",
    "    plot_pump_curve(q_arr = np.array(this_pump['rate_points']), \n",
    "        h_esp_arr = np.array(this_pump['head_points']),\n",
    "        power_esp_arr = np.array(this_pump['power_points']), \n",
    "        efficiency_esp_arr = np.array(this_pump['eff_points']),\n",
    "             z = 1,\n",
    "                    esp_name = this_pump['name'], f=50)\n",
    "    "
   ]
  },
  {
   "cell_type": "markdown",
   "metadata": {},
   "source": [
    "## Основной цикл: Определения режима работы для выбранного(ых) насоса(ов) !!!"
   ]
  },
  {
   "cell_type": "code",
   "execution_count": null,
   "metadata": {
    "scrolled": true
   },
   "outputs": [],
   "source": [
    "os.chdir(r\"C:\\Git\\probability_calculations\\calc_new\")\n",
    "\n",
    "num_simulations = 3\n",
    "\n",
    "### для массового расчета\n",
    "\n",
    "pumps_ids = [2089, #160,\n",
    "             1460, #125\n",
    "            #pump_id = 1461 #200\n",
    "             2753, #100\n",
    "             #1868, #80\n",
    "             #2289, #60\n",
    "            ]\n",
    "#pumps_heads = [1000, 1800] #1 запуск\n",
    "\n",
    "pumps_heads = [1300, 1600]\n",
    "\n",
    "# для одного расчета\n",
    "pumps_ids = [1153, #80\n",
    "            2753, #100 проблемная\n",
    "            \n",
    "            ]\n",
    "pumps_heads = [1500]\n",
    "\n",
    "#legacy\n",
    "#params['pump_id'] =  936 #80 \n",
    "#params['pump_id']  = 1460 #125\n",
    "#params['pump_id']  = 1461 #200\n",
    "#params['pump_id']  = 2799 #60   \n",
    "#params['pump_id'] = 685 # 89\n",
    "\n",
    "#params['esp_head_m'] = 1800\n",
    "\n",
    "params['n_dots_for_nodal'] = 15\n",
    "params['calc_esp_new'] = 1\n",
    "\n",
    "\n",
    "def run_design(params, pumps_ids, pumps_heads, pi_mc, dist_p_res, debug=1, num_simulations=1, api=api, api_new=api_new,\n",
    "              vba_version=VBA_VERSION):\n",
    "    os.chdir(r\"C:\\Git\\probability_calculations\\calc_new\")\n",
    "    results = []\n",
    "    for this_pump_id in pumps_ids:\n",
    "        params['pump_id'] = this_pump_id\n",
    "        print(f\"pump_id = {this_pump_id}\")\n",
    "        for this_pump_head in pumps_heads:\n",
    "            params['esp_head_m'] = this_pump_head\n",
    "            print(f\"esp_head_m = {this_pump_head}\")\n",
    "\n",
    "            params['num_stages'] = calc_num_stages(params, api=api, api_new=api_new, vba_version=vba_version)\n",
    "                                \n",
    "            lh_mes, lhead_esp,  leff, lpower_esp, lqliq,\\\n",
    "            lstatus, lgas_fraction_intake, lp_bhp_atm,  lp_esp_dis, lparams, lp_esp_dis_by_tube, \\\n",
    "                             lq_mix_pump_mean,  lesp_df , \\\n",
    "                    lcasing_pipe, ltube_pipe = [], [], [], \\\n",
    "                                            [], [], [], [], [],  [], [], [], [], [], [], []\n",
    "                    \n",
    "            for j, i in tqdm.tqdm(enumerate(range(num_simulations))):\n",
    "            #for j, i in enumerate(range(num_simulations)):\n",
    "\n",
    "                print('\\n')\n",
    "                print(f\"iter = {j}\")\n",
    "                this_pi = np.random.choice(pi_mc)\n",
    "                params['pi_sm3dayatm'] = np.random.choice(pi_mc)\n",
    "                params['pres_atma'] = np.random.choice(dist_p_res)\n",
    "                if this_pi <0:\n",
    "                    this_pi=1\n",
    "\n",
    "                casing_pipe, tube_pipe, h_mes, head_esp, eff, power_esp, q_liq, status, gas_fraction_intake, p_bhp_atm, \\\n",
    "                            p_dis, p_esp_dis, json_params, q_mix_pump_mean, esp_df = calc_all(params, debug=debug,\n",
    "                                                                                              vba_version=vba_version,\n",
    "                                                                                             api=api, api_new=api_new)\n",
    "\n",
    "                cas_df  = pd.DataFrame(casing_pipe)\n",
    "                tube_df = pd.DataFrame(tube_pipe)\n",
    "\n",
    "                lh_mes.append(h_mes)\n",
    "                lhead_esp.append(head_esp)\n",
    "                leff.append(eff)\n",
    "                lpower_esp.append(power_esp)\n",
    "                lqliq.append(q_liq)\n",
    "                lstatus.append(status)\n",
    "                lgas_fraction_intake.append(gas_fraction_intake)\n",
    "                lp_bhp_atm.append(p_bhp_atm)\n",
    "                lp_esp_dis.append(p_esp_dis)\n",
    "                lparams.append(json_params)\n",
    "                lp_esp_dis_by_tube.append(p_dis)\n",
    "                lq_mix_pump_mean.append(q_mix_pump_mean)\n",
    "                lesp_df.append(esp_df)\n",
    "                lcasing_pipe.append(casing_pipe)\n",
    "                ltube_pipe.append(tube_pipe)\n",
    "\n",
    "            df = save_in_df(lh_mes, lhead_esp, leff, lpower_esp, lqliq, lstatus, lgas_fraction_intake, \n",
    "                           lp_bhp_atm, lp_esp_dis, lparams, num_simulations, lp_esp_dis_by_tube,\n",
    "                            lq_mix_pump_mean,  lesp_df,  lcasing_pipe, ltube_pipe\n",
    "                           )\n",
    "            df.to_csv(f\"res_pump_id_{this_pump_id}_head_{this_pump_head}.csv\")\n",
    "            results.append((this_pump_id, this_pump_head, df.copy()))\n",
    "\n",
    "    os.chdir(r\"C:\\Git\\probability_calculations\")\n",
    "    return results\n",
    "                    \n",
    "results = run_design(params, pumps_ids, pumps_heads, pi_mc, dist_p_res, debug=1, num_simulations=1, api=api, api_new=api_new,\n",
    "              vba_version='7.25')\n"
   ]
  },
  {
   "cell_type": "markdown",
   "metadata": {},
   "source": [
    "## Анализ результатов расчета (в т.ч. массового)"
   ]
  },
  {
   "cell_type": "code",
   "execution_count": null,
   "metadata": {},
   "outputs": [],
   "source": [
    "with open('ESP_json.db', 'r') as outfile:\n",
    "    file = outfile\n",
    "    db = json.load(outfile)\n",
    "\n",
    "db_df = pd.DataFrame(db)\n",
    "db_df = db_df.T  "
   ]
  },
  {
   "cell_type": "code",
   "execution_count": null,
   "metadata": {},
   "outputs": [],
   "source": [
    "path_to_dir = r'C:\\Git\\probability_calculations' + '\\\\'\n",
    "os.chdir(path_to_dir + 'calc_new_24_7_25')\n",
    "os.chdir(path_to_dir + 'calc_20')\n",
    "\n",
    "os.chdir(path_to_dir + 'calc_new')\n",
    "\n",
    "\n",
    "os.chdir(path_to_dir + 'calc_22_7_25')\n",
    "\n",
    "os.chdir(path_to_dir + 'calc_25_7_25')\n",
    "#os.chdir(path_to_dir + 'calc_22_7_28')\n",
    "\n",
    "\n",
    "\n",
    "\n",
    "for file in glob.glob(\"*.csv\"):\n",
    "    print(file)    \n",
    "files = [x for x in glob.glob(\"*.csv\")]\n"
   ]
  },
  {
   "cell_type": "code",
   "execution_count": null,
   "metadata": {},
   "outputs": [],
   "source": [
    "dfs = []\n",
    "\n",
    "for file_name in files:\n",
    "    this_list = []\n",
    "    \n",
    "    file_name_splitted = file_name.split('_')\n",
    "    this_id = int(file_name_splitted[-3])\n",
    "    this_head = int(file_name_splitted[-1].replace('.csv', ''))\n",
    "    this_name = api.ESP_name(this_id)\n",
    "    this_list += [this_id, this_head, this_name]\n",
    "    \n",
    "    one_file = pd.read_csv(file_name, index_col = [0])\n",
    "    one_file['this_id'] = this_id\n",
    "    one_file['this_head'] = this_head\n",
    "    one_file['this_name'] = this_name\n",
    "    dfs.append(one_file.copy())\n",
    "\n",
    "    \n",
    "big_df = pd.concat(dfs)\n",
    "\n",
    "big_df['super_id'] = big_df['this_name'].astype(str) + ' H = ' + big_df['this_head'].astype(str) + ' м'\n"
   ]
  },
  {
   "cell_type": "code",
   "execution_count": null,
   "metadata": {},
   "outputs": [],
   "source": [
    "\n",
    "big_df"
   ]
  },
  {
   "cell_type": "code",
   "execution_count": null,
   "metadata": {},
   "outputs": [],
   "source": [
    "pumps_in_big_df = db_df[db_df['ID'].isin(big_df['this_id'].astype(int).unique())].copy()\n",
    "pumps_in_big_df.loc[:, 'max_eff'] = pumps_in_big_df['eff_points'].apply(lambda x: max(x))\n",
    "pumps_in_big_df"
   ]
  },
  {
   "cell_type": "code",
   "execution_count": null,
   "metadata": {},
   "outputs": [],
   "source": [
    "pumps_in_big_df"
   ]
  },
  {
   "cell_type": "code",
   "execution_count": null,
   "metadata": {},
   "outputs": [],
   "source": [
    "for i in ['pi_sm3dayatm', 'p_bhp_atm', 'pres_atma']:\n",
    "    big_df[i] = big_df['lparams'].apply(lambda x: json.loads(x)[i])\n",
    "    "
   ]
  },
  {
   "cell_type": "markdown",
   "metadata": {},
   "source": [
    "### Сводные таблицы"
   ]
  },
  {
   "cell_type": "code",
   "execution_count": null,
   "metadata": {},
   "outputs": [],
   "source": [
    "def calc_emv(x):\n",
    "    return sum(x / len(x))\n",
    "def calc_std(x):\n",
    "    return np.std(x)"
   ]
  },
  {
   "cell_type": "code",
   "execution_count": null,
   "metadata": {},
   "outputs": [],
   "source": [
    "pt = big_df.pivot_table(index = ['this_name', 'this_head'], values = ['leff', 'lqliq'], aggfunc  = calc_emv)\n",
    "pt"
   ]
  },
  {
   "cell_type": "markdown",
   "metadata": {},
   "source": [
    "#### КПД"
   ]
  },
  {
   "cell_type": "code",
   "execution_count": null,
   "metadata": {},
   "outputs": [],
   "source": [
    "#import matplotlib.style\n",
    "#import matplotlib as mpl\n",
    "#mpl.style.use('ggplot')"
   ]
  },
  {
   "cell_type": "code",
   "execution_count": null,
   "metadata": {},
   "outputs": [],
   "source": [
    "fig = plt.Figure()\n",
    "\n",
    "pt_eff = big_df.pivot_table(index = ['this_name'],columns=['this_head'], values = ['leff'], aggfunc  = calc_emv)\n",
    "\n",
    "pt_eff_std = big_df.pivot_table(index = ['this_name'],columns=['this_head'], values = ['leff'], aggfunc  = calc_std)\n",
    "\n",
    "pt_eff.plot(kind='bar', yerr = pt_eff_std)\n",
    "plt.xlabel('ЭЦН')\n",
    "plt.ylabel('КПД, %')\n",
    "plt.title('Сводная анализ КПД')\n",
    "\n",
    "plt.grid()\n",
    "pt_eff"
   ]
  },
  {
   "cell_type": "markdown",
   "metadata": {},
   "source": [
    "#### Дебит жидкости"
   ]
  },
  {
   "cell_type": "code",
   "execution_count": null,
   "metadata": {},
   "outputs": [],
   "source": [
    "pt_qliq = big_df.pivot_table(index = ['this_name'],columns=['this_head'], values = ['lqliq'], aggfunc  = calc_emv)\n",
    "pt_qliq_std = big_df.pivot_table(index = ['this_name'],columns=['this_head'], values = ['lqliq'], aggfunc  = np.std)\n",
    "\n",
    "pt_qliq.plot(kind='bar', yerr = pt_qliq_std)\n",
    "plt.xlabel('ЭЦН')\n",
    "plt.ylabel('Дебит жидкости, м3/сут')\n",
    "plt.title('Сводная анализ режима работы скважин')\n",
    "\n",
    "plt.grid()\n",
    "pt_qliq"
   ]
  },
  {
   "cell_type": "markdown",
   "metadata": {},
   "source": [
    "#### Деградация КПД - Наработка на отказ (ННО)"
   ]
  },
  {
   "cell_type": "code",
   "execution_count": null,
   "metadata": {},
   "outputs": [],
   "source": [
    "os.chdir(r'C:\\Git\\probability_calculations')\n",
    "with open('ESP_json.db', 'r') as outfile:\n",
    "    file = outfile\n",
    "    db = json.load(outfile)\n",
    "\n",
    "db_df = pd.DataFrame(db)\n",
    "db_df = db_df.T  \n",
    "\n",
    "number_of_point_in_curves = []\n",
    "for i in db_df.index:\n",
    "    this_pump = db_df.loc[i]\n",
    "    number_of_point_in_curves.append(len(this_pump['rate_points']))\n",
    "    \n",
    "db_df['number_of_point_in_curves'] = number_of_point_in_curves\n",
    "\n",
    "\n",
    "\n",
    "this_pump = db_df[db_df['ID'] == 3256]\n",
    "this_pump.T"
   ]
  },
  {
   "cell_type": "code",
   "execution_count": null,
   "metadata": {},
   "outputs": [],
   "source": [
    "def find_max_eff_by_pump_id(ID: int):\n",
    "    this_pump = db_df[db_df['ID'] == ID]\n",
    "    f = interpolate.interp1d(this_pump['rate_points'].values[0], this_pump['eff_points'].values[0], kind = 'quadratic')\n",
    "\n",
    "    q_liq_range = np.arange(min(this_pump['rate_points'].values[0]), max(this_pump['rate_points'].values[0]), 1)\n",
    "    #q_liq_range = this_pump['rate_points'].values[0]\n",
    "    eff_interpolated = f(q_liq_range)\n",
    "    fig  = plt.Figure()\n",
    "\n",
    "    plt.plot(this_pump['rate_points'].values[0], this_pump['eff_points'].values[0], 'o-', label = 'Исходные точки с БД')\n",
    "    plt.plot(q_liq_range, eff_interpolated, label = 'Проинтерполированные значения')\n",
    "    plt.legend()\n",
    "    plt.xlabel('Подача, м3/сут')\n",
    "    plt.ylabel('КПД, д.ед.')\n",
    "    plt.title(f\"Pump name = {this_pump['name'].values[0]} ID = {this_pump['ID'].values[0]}\")\n",
    "    plt.show()\n",
    "    max_init = max(this_pump['eff_points'].values[0])\n",
    "    max_interpolated = max(eff_interpolated)\n",
    "    print(f\"max init = {max_init} max interpolated = {max_interpolated}\")\n",
    "    print(f\"eff diff = {abs(max_init - max_interpolated)}\")\n",
    "    return max_init, max_interpolated\n",
    "\n",
    "find_max_eff_by_pump_id(3259)"
   ]
  },
  {
   "cell_type": "code",
   "execution_count": null,
   "metadata": {},
   "outputs": [],
   "source": [
    "id_max_eff_mask = {}\n",
    "for i in big_df['this_id'].unique():\n",
    "    _, id_max_eff_mask[i]  = find_max_eff_by_pump_id(i)\n",
    "id_max_eff_mask"
   ]
  },
  {
   "cell_type": "code",
   "execution_count": null,
   "metadata": {},
   "outputs": [],
   "source": [
    "k_degr_eff_range = np.arange(0, 1, 0.05)\n",
    "def nno(x):\n",
    "    return 1 - x**2\n",
    "\n",
    "#fig = plt.Figure()\n",
    "plt.plot(k_degr_eff_range, nno(k_degr_eff_range))\n",
    "plt.xlabel('$1 - K_{\\eta}^{дегр}$ (Деградация по КПД)')\n",
    "plt.ylabel('Коэффициент снижения наработки на отказ, д.ед.')\n",
    "plt.title('Условная функция вляния снижения КПД на ННО ')\n",
    "plt.grid()\n",
    "plt.show()\n"
   ]
  },
  {
   "cell_type": "code",
   "execution_count": null,
   "metadata": {},
   "outputs": [],
   "source": [
    "big_df['this_max_eff'] = big_df['this_id'].apply(lambda x: id_max_eff_mask[x])\n",
    "big_df['k_degr_eff'] = (big_df['leff']/100) / big_df['this_max_eff']\n",
    "big_df['eff_div_max_eff'] = (big_df['leff']/100) / big_df['this_max_eff']\n",
    "\n",
    "big_df['k_degr_eff'] = nno(1 - big_df['k_degr_eff'])\n",
    "big_df['k_degr_eff'].plot.hist(bins=100)\n",
    "plt.xlabel('k_degr_eff')"
   ]
  },
  {
   "cell_type": "code",
   "execution_count": null,
   "metadata": {},
   "outputs": [],
   "source": [
    "pt_k_degr_eff = big_df.pivot_table(index = ['this_name'],columns=['this_head'], values = ['k_degr_eff'], aggfunc  = calc_emv)\n",
    "pt_k_degr_eff_std = big_df.pivot_table(index = ['this_name'],columns=['this_head'], values = ['k_degr_eff'], aggfunc  = np.std)\n",
    "\n",
    "pt_k_degr_eff.plot(kind='bar', yerr=pt_k_degr_eff_std)\n",
    "pt_k_degr_eff"
   ]
  },
  {
   "cell_type": "markdown",
   "metadata": {},
   "source": [
    "#### Финальная оценка"
   ]
  },
  {
   "cell_type": "code",
   "execution_count": null,
   "metadata": {},
   "outputs": [],
   "source": [
    "pt_eff"
   ]
  },
  {
   "cell_type": "code",
   "execution_count": null,
   "metadata": {},
   "outputs": [],
   "source": [
    "pt_eff_std"
   ]
  },
  {
   "cell_type": "code",
   "execution_count": null,
   "metadata": {},
   "outputs": [],
   "source": [
    "def find_max_val_for_norm(pivot_table_df):\n",
    "    pt_values_eff = pivot_table_df.values.flatten()\n",
    "    pt_values_eff = pt_values_eff[~np.isnan(pt_values_eff)]\n",
    "    pt_values_eff_max = pt_values_eff.max()\n",
    "    return pt_values_eff_max"
   ]
  },
  {
   "cell_type": "code",
   "execution_count": null,
   "metadata": {},
   "outputs": [],
   "source": [
    "\n",
    "pt_values_eff_max = find_max_val_for_norm(pt_eff)\n",
    "pt_values_qliq_max = find_max_val_for_norm(pt_qliq)\n",
    "pt_values_k_degr_eff_max = find_max_val_for_norm(pt_k_degr_eff)\n",
    "\n",
    "pt_values_eff_std_max = find_max_val_for_norm(pt_eff_std)\n",
    "pt_values_qliq_std_max = find_max_val_for_norm(pt_qliq_std)\n",
    "pt_values_k_degr_eff_std_max = find_max_val_for_norm(pt_k_degr_eff_std)\n",
    "\n",
    "\n",
    "\n",
    "print('pt_values_eff_max', pt_values_eff_max,\n",
    "      'pt_values_qliq_max', pt_values_qliq_max,\n",
    "      'pt_values_k_degr_eff_max', pt_values_k_degr_eff_max)\n",
    "\n",
    "pt_result = pt_eff.copy()\n",
    "pt_result = pt_eff.values/pt_values_eff_max  * pt_qliq.values/pt_values_qliq_max * pt_k_degr_eff.values/pt_values_k_degr_eff_max\n",
    "pt_result_std = pt_eff_std.values/pt_values_eff_std_max  * pt_qliq_std.values / pt_values_qliq_std_max * pt_k_degr_eff_std.values / pt_values_k_degr_eff_std_max\n",
    "\n",
    "pt_result = pd.DataFrame(pt_result, index = pt_eff.index, columns = [x[1] for x in pt_eff.columns])\n",
    "pt_result_std = pd.DataFrame(pt_result_std, index = pt_eff.index, columns = [x[1] for x in pt_eff.columns])\n",
    "\n",
    "pt_result.plot(kind='bar', yerr=pt_result_std)\n",
    "plt.ylabel('Финальный рейтинг')\n",
    "plt.xlabel('ЭЦН')\n",
    "plt.title('Сводный рейтинг ЭЦН')\n",
    "\n",
    "pt_result"
   ]
  },
  {
   "cell_type": "code",
   "execution_count": null,
   "metadata": {},
   "outputs": [],
   "source": [
    "r = []\n",
    "for i in pt_result.index:\n",
    "    this_s = pt_result.loc[i]\n",
    "    this_s.index = i + ' ' + this_s.index.astype(str)\n",
    "    r.append(this_s)\n",
    "pd.concat(r).sort_values()"
   ]
  },
  {
   "cell_type": "code",
   "execution_count": null,
   "metadata": {},
   "outputs": [],
   "source": [
    "r = []\n",
    "for i in pt_result.index:\n",
    "    this_s = pt_result.loc[i]\n",
    "    this_s.index = i + ' ' + this_s.index.astype(str)\n",
    "    r.append(this_s)\n",
    "pd.concat(r).sort_values(ascending=False).plot.bar()\n",
    "plt.xlabel('ЭЦН')\n",
    "plt.ylabel('Финальный рейтинг')"
   ]
  },
  {
   "cell_type": "code",
   "execution_count": null,
   "metadata": {},
   "outputs": [],
   "source": [
    "pt_result_normed = pt_result / pt_result_std\n",
    "pt_result_normed"
   ]
  },
  {
   "cell_type": "code",
   "execution_count": null,
   "metadata": {},
   "outputs": [],
   "source": [
    "r = []\n",
    "for i in pt_result_normed.index:\n",
    "    this_s = pt_result_normed.loc[i]\n",
    "    this_s.index = i + ' ' + this_s.index.astype(str)\n",
    "    r.append(this_s)\n",
    "pd.concat(r).sort_values(ascending=False).plot.bar()\n",
    "plt.xlabel('ЭЦН')\n",
    "plt.ylabel('Финальный рейтинг')\n",
    "plt.title('Финальный рейтинг (комбинированный)')"
   ]
  },
  {
   "cell_type": "markdown",
   "metadata": {},
   "source": [
    "## Распределения \n",
    "\n",
    "### КПД"
   ]
  },
  {
   "cell_type": "code",
   "execution_count": null,
   "metadata": {
    "scrolled": false
   },
   "outputs": [],
   "source": [
    "fig = plt.Figure()\n",
    "\n",
    "for i in big_df['this_name'].unique():\n",
    "    for j in big_df['this_head'].unique():\n",
    "        this_df = big_df[(big_df['this_name'] == i)  &  (big_df['this_head'] == j)]\n",
    "\n",
    "        plt.hist(this_df['leff'], bins = 100, density = True ,alpha=0.5, label = f\"{i} H = {j} м\")\n",
    "\n",
    "\n",
    "plt.legend()\n",
    "plt.title('Распределения для каждого тестируемого насоса')\n",
    "plt.xlabel('КПД, д.ед.')\n",
    "plt.show()"
   ]
  },
  {
   "cell_type": "markdown",
   "metadata": {},
   "source": [
    "### Дебита жидкости"
   ]
  },
  {
   "cell_type": "code",
   "execution_count": null,
   "metadata": {},
   "outputs": [],
   "source": [
    "fig = plt.Figure()\n",
    "\n",
    "for i in big_df['this_name'].unique():\n",
    "    for j in big_df['this_head'].unique():\n",
    "        this_df = big_df[(big_df['this_name'] == i)  &  (big_df['this_head'] == j)].copy()\n",
    "\n",
    "        plt.hist(this_df['lqliq'], bins = 100, density = True ,alpha=0.5, label = f\"{i} H = {j} м\")\n",
    "\n",
    "\n",
    "plt.legend()\n",
    "plt.title('Распределения для каждого тестируемого насоса')\n",
    "plt.xlabel('Дебит жидкости, м3/сут')\n",
    "plt.show()"
   ]
  },
  {
   "cell_type": "markdown",
   "metadata": {},
   "source": [
    "### Доли газа на приеме"
   ]
  },
  {
   "cell_type": "code",
   "execution_count": null,
   "metadata": {},
   "outputs": [],
   "source": [
    "fig = plt.Figure()\n",
    "\n",
    "for i in big_df['this_name'].unique():\n",
    "    for j in big_df['this_head'].unique():\n",
    "        this_df = big_df[(big_df['this_name'] == i)  &  (big_df['this_head'] == j)]\n",
    "\n",
    "        plt.hist(this_df['lgas_fraction_intake'], bins = 100, density = True ,alpha=0.5, label = f\"{i} H = {j} м\")\n",
    "\n",
    "\n",
    "plt.legend()\n",
    "plt.title('Доля газа на приеме эцн, %')\n",
    "plt.xlabel('Доля газа на приеме эцн, %')\n",
    "plt.show()"
   ]
  },
  {
   "cell_type": "code",
   "execution_count": null,
   "metadata": {},
   "outputs": [],
   "source": [
    "fig = plt.Figure()\n",
    "\n",
    "for i in big_df['this_name'].unique():\n",
    "    for j in big_df['this_head'].unique():\n",
    "        this_df = big_df[(big_df['this_name'] == i)  &  (big_df['this_head'] == j)]\n",
    "\n",
    "        plt.hist(this_df['lgas_fraction_intake'], bins = 100, density = True ,alpha=0.5, label = f\"{i} H = {j} м\")\n",
    "\n",
    "\n",
    "    plt.legend()\n",
    "    plt.title('Доля газа на приеме эцн, %')\n",
    "    plt.xlabel('Дебит жидкости, м3/сут')\n",
    "    plt.show()"
   ]
  },
  {
   "cell_type": "markdown",
   "metadata": {},
   "source": [
    "### Дебита ГЖС через насос"
   ]
  },
  {
   "cell_type": "code",
   "execution_count": null,
   "metadata": {},
   "outputs": [],
   "source": [
    "fig = plt.Figure()\n",
    "\n",
    "for i in big_df['this_name'].unique():\n",
    "    for j in big_df['this_head'].unique():\n",
    "        this_df = big_df[(big_df['this_name'] == i)  &  (big_df['this_head'] == j)]\n",
    "\n",
    "        plt.hist(this_df['lq_mix_pump_mean'], bins = 100, density = True ,alpha=0.5, label = f\"{i} H = {j} м\")\n",
    "\n",
    "\n",
    "plt.legend()\n",
    "plt.title('Распределения для каждого тестируемого насоса')\n",
    "plt.xlabel('Дебит ГЖС через насос, м3/сут')\n",
    "plt.show()"
   ]
  },
  {
   "cell_type": "markdown",
   "metadata": {},
   "source": [
    "### Распределения через KDE"
   ]
  },
  {
   "cell_type": "code",
   "execution_count": null,
   "metadata": {},
   "outputs": [],
   "source": [
    "big_df"
   ]
  },
  {
   "cell_type": "code",
   "execution_count": null,
   "metadata": {},
   "outputs": [],
   "source": [
    "fig, ax = plt.subplots()\n",
    "big_df_t = big_df.copy()\n",
    "big_df_t = big_df_t.rename(columns = {'super_id': 'ЭЦН'})\n",
    "g = sns.kdeplot(data=big_df_t, x=\"lqliq\", hue=\"ЭЦН\", ax = ax)\n",
    "plt.title('Распределения для каждого подбираемого насоса')\n",
    "plt.xlabel('Дебит жидкости, м3/сут')\n",
    "plt.ylabel('Плоность вероятности')\n",
    "#ax.legend(title='2')\n"
   ]
  },
  {
   "cell_type": "code",
   "execution_count": null,
   "metadata": {},
   "outputs": [],
   "source": [
    "fig, ax = plt.subplots()\n",
    "big_df_t = big_df.copy()\n",
    "big_df_t = big_df_t.rename(columns = {'super_id': 'ЭЦН'})\n",
    "big_df_t['leff'] = big_df_t['leff'] /100\n",
    "g = sns.kdeplot(data=big_df_t, x=\"leff\", hue=\"ЭЦН\", ax = ax)\n",
    "plt.title('Распределения для каждого подбираемого насоса')\n",
    "plt.xlabel('КПД, д.ед.')\n",
    "plt.ylabel('Плоность вероятности')\n",
    "#ax.legend(title='2')\n"
   ]
  },
  {
   "cell_type": "code",
   "execution_count": null,
   "metadata": {},
   "outputs": [],
   "source": [
    "sns.kdeplot(data=big_df, x=\"pi_sm3dayatm\", hue=\"super_id\")\n",
    "plt.title('PDF для каждого тестируемого насоса')\n",
    "plt.xlabel('К прод., м3/сут/атм')"
   ]
  },
  {
   "cell_type": "code",
   "execution_count": null,
   "metadata": {},
   "outputs": [],
   "source": [
    "sns.kdeplot(data=big_df, x=\"p_bhp_atm\", hue=\"super_id\")\n",
    "plt.title('PDF для каждого тестируемого насоса')\n",
    "plt.xlabel('Забойное давление, атм')\n"
   ]
  },
  {
   "cell_type": "code",
   "execution_count": null,
   "metadata": {},
   "outputs": [],
   "source": [
    "sns.kdeplot(data=big_df, x=\"pres_atma\", hue=\"super_id\")\n",
    "plt.title('PDF для каждого тестируемого насоса')\n",
    "plt.xlabel('Пластовое давление, атм')"
   ]
  },
  {
   "cell_type": "code",
   "execution_count": null,
   "metadata": {},
   "outputs": [],
   "source": [
    "sns.kdeplot(data=big_df, x=\"lgas_fraction_intake\", hue=\"super_id\")\n",
    "plt.title('PDF для каждого тестируемого насоса')\n",
    "plt.xlabel(\"Доля газа на приеме ЭЦН (1-ая ступень)\")"
   ]
  },
  {
   "cell_type": "code",
   "execution_count": null,
   "metadata": {},
   "outputs": [],
   "source": [
    "sns.kdeplot(data=big_df, x=\"leff\", hue=\"super_id\")\n",
    "plt.title('PDF для каждого тестируемого насоса')\n",
    "plt.xlabel('КПД, д.ед.')"
   ]
  },
  {
   "cell_type": "code",
   "execution_count": null,
   "metadata": {},
   "outputs": [],
   "source": [
    "big_df"
   ]
  },
  {
   "cell_type": "code",
   "execution_count": null,
   "metadata": {},
   "outputs": [],
   "source": [
    "sns.kdeplot(data=big_df, x=\"pi_sm3dayatm\", hue=\"super_id\")\n",
    "plt.title('PDF для каждого тестируемого насоса')\n",
    "plt.xlabel('К продуктивности, м3/сут/атм')"
   ]
  },
  {
   "cell_type": "markdown",
   "metadata": {},
   "source": [
    "### КПД от дебита жидкости"
   ]
  },
  {
   "cell_type": "code",
   "execution_count": null,
   "metadata": {},
   "outputs": [],
   "source": [
    "#font = {'size'   : 1}\n",
    "#matplotlib.rc('font', **font)\n",
    "#plt.rcParams[\"font.size\"] = 30"
   ]
  },
  {
   "cell_type": "code",
   "execution_count": null,
   "metadata": {},
   "outputs": [],
   "source": [
    "#sns.set(font_scale=1.5) \n",
    "big_df_to_plot = big_df.copy()\n",
    "big_df_to_plot = big_df_to_plot.rename(columns = {'lqliq': 'Дебит жидкости, м3/сут',\n",
    "                                                 'leff': 'ЭЦН,  д.ед.',\n",
    "                                                 'super_id': 'ЭЦН',\n",
    "                                                 })\n",
    "sns.jointplot(\n",
    "    data=big_df_to_plot,\n",
    "    x=\"Дебит жидкости, м3/сут\", y= 'ЭЦН,  д.ед.', hue=\"ЭЦН\",\n",
    "    kind=\"kde\",\n",
    "    legend = True,\n",
    "    height=15\n",
    ")\n",
    "\n",
    "\n"
   ]
  },
  {
   "cell_type": "code",
   "execution_count": null,
   "metadata": {},
   "outputs": [],
   "source": [
    "#sns.set(font_scale=1.5) \n",
    "big_df_to_plot = big_df.copy()\n",
    "big_df_to_plot = big_df_to_plot.rename(columns = {'lqliq': 'Дебит жидкости, м3/сут',\n",
    "                                                 'leff': 'ЭЦН,  д.ед.',\n",
    "                                                 'super_id': 'ЭЦН',\n",
    "                                                 })\n",
    "sns.jointplot(\n",
    "    data=big_df_to_plot,\n",
    "    x=\"Дебит жидкости, м3/сут\", y= 'ЭЦН,  д.ед.', hue=\"ЭЦН\",\n",
    "    #kind=\"kde\",\n",
    "    legend = True,\n",
    "    height=15\n",
    ")\n"
   ]
  },
  {
   "cell_type": "code",
   "execution_count": null,
   "metadata": {},
   "outputs": [],
   "source": [
    "#sns.set(font_scale=1.5) \n",
    "big_df_to_plot = big_df.copy()\n",
    "big_df_to_plot = big_df_to_plot.rename(columns = {'lqliq': 'Дебит жидкости, м3/сут',\n",
    "                                                 'leff': 'ЭЦН,  д.ед.',\n",
    "                                                 'super_id': 'ЭЦН',\n",
    "                                                 })\n",
    "sns.displot(\n",
    "    data=big_df_to_plot,\n",
    "    x=\"Дебит жидкости, м3/сут\", y= 'ЭЦН,  д.ед.', hue=\"ЭЦН\",\n",
    "    #kind=\"kde\",\n",
    "    binwidth=(0.1, 0.1),\n",
    "    legend = True,\n",
    "    height=15\n",
    ")\n"
   ]
  },
  {
   "cell_type": "code",
   "execution_count": null,
   "metadata": {},
   "outputs": [],
   "source": [
    "#sns.set(font_scale=1.5) \n",
    "big_df_to_plot = big_df.copy()\n",
    "big_df_to_plot = big_df_to_plot.rename(columns = {'lqliq': 'Дебит жидкости, м3/сут',\n",
    "                                                 'leff': 'ЭЦН,  д.ед.',\n",
    "                                                 'super_id': 'ЭЦН',\n",
    "                                                 })\n",
    "sns.jointplot(\n",
    "    data=big_df_to_plot,\n",
    "    x=\"Дебит жидкости, м3/сут\", y= 'ЭЦН,  д.ед.', hue=\"ЭЦН\",\n",
    "    #kind=\"kde\",\n",
    "    #binwidth=(0.1, 0.1),\n",
    "    legend = True,\n",
    "    height=15\n",
    ")"
   ]
  },
  {
   "cell_type": "code",
   "execution_count": null,
   "metadata": {},
   "outputs": [],
   "source": [
    "big_df_to_plot.iloc[0]"
   ]
  },
  {
   "cell_type": "code",
   "execution_count": null,
   "metadata": {},
   "outputs": [],
   "source": [
    "big_df_to_plot"
   ]
  },
  {
   "cell_type": "code",
   "execution_count": null,
   "metadata": {},
   "outputs": [],
   "source": [
    "#sns.set(font_scale=1.5) \n",
    "big_df_to_plot = big_df.copy()\n",
    "big_df_to_plot = big_df_to_plot.rename(columns = {'lqliq': 'Дебит жидкости, м3/сут',\n",
    "                                                 'leff': 'ЭЦН,  д.ед.',\n",
    "                                                 'super_id': 'ЭЦН',\n",
    "                                                  'lq_mix_pump_mean': 'Средний дебит ГЖС через ЭЦН, м3/сут'\n",
    "                                                 })\n",
    "sns.jointplot(\n",
    "    data=big_df_to_plot,\n",
    "    x='Средний дебит ГЖС через ЭЦН, м3/сут', y= 'ЭЦН,  д.ед.', hue=\"ЭЦН\",\n",
    "    kind=\"kde\",\n",
    "    legend = True,\n",
    "    height=15\n",
    ")"
   ]
  },
  {
   "cell_type": "code",
   "execution_count": null,
   "metadata": {},
   "outputs": [],
   "source": [
    "fig, ax = plt.subplots()\n",
    "big_df.plot.scatter(x=\"lqliq\", y=\"leff\", c=\"lpower_esp\", legend=True, colormap='viridis', ax=ax)\n",
    "plt.legend()\n",
    "plt.xlabel('Дебит жидкости, м3/сут')\n",
    "plt.ylabel('КПД, д.ед.')\n",
    "\n",
    "plt.show()"
   ]
  },
  {
   "cell_type": "markdown",
   "metadata": {},
   "source": [
    "### Боксплоты"
   ]
  },
  {
   "cell_type": "code",
   "execution_count": null,
   "metadata": {},
   "outputs": [],
   "source": [
    "df_for_box = pd.DataFrame({x: big_df[big_df['super_id'] == x]['leff'] for x in big_df['super_id'].unique()}, index=range(600))\n",
    "df_for_box.plot.box()\n",
    "plt.xticks(rotation = 45)\n",
    "plt.ylabel('КПД, д.ед.')\n",
    "plt.show()"
   ]
  },
  {
   "cell_type": "code",
   "execution_count": null,
   "metadata": {},
   "outputs": [],
   "source": [
    "df_for_box = pd.DataFrame({x: big_df[big_df['super_id'] == x]['lqliq'] for x in big_df['super_id'].unique()}, index=range(600))\n",
    "df_for_box.plot.box()\n",
    "plt.xticks(rotation = 45)\n",
    "plt.ylabel('Дебит жидкости, д.ед.')\n",
    "plt.show()"
   ]
  },
  {
   "cell_type": "code",
   "execution_count": null,
   "metadata": {},
   "outputs": [],
   "source": [
    "big_df"
   ]
  },
  {
   "cell_type": "markdown",
   "metadata": {},
   "source": [
    "### Violin plot"
   ]
  },
  {
   "cell_type": "code",
   "execution_count": null,
   "metadata": {},
   "outputs": [],
   "source": [
    "sns.violinplot(x=\"super_id\", y=\"leff\", hue=\"this_head\",\n",
    "                    data=big_df,\n",
    "               #palette=\"muted\",\n",
    "               #split=True\n",
    "               #scale=\"lqliq\"\n",
    "              )\n",
    "plt.xticks(rotation = 45)\n",
    "plt.show()"
   ]
  },
  {
   "cell_type": "code",
   "execution_count": null,
   "metadata": {},
   "outputs": [],
   "source": [
    "sns.violinplot(x=\"super_id\", y=\"lqliq\", hue=\"this_head\",\n",
    "                    data=big_df,\n",
    "               #width = 0.8,\n",
    "               #palette=\"muted\",\n",
    "               #split=True\n",
    "               #scale=\"lqliq\"\n",
    "               #scale='width'\n",
    "              )\n",
    "plt.xticks(rotation = 45)\n",
    "plt.show()"
   ]
  },
  {
   "cell_type": "markdown",
   "metadata": {},
   "source": [
    "## Один насос"
   ]
  },
  {
   "cell_type": "code",
   "execution_count": null,
   "metadata": {},
   "outputs": [],
   "source": [
    "pumps_in_big_df"
   ]
  },
  {
   "cell_type": "code",
   "execution_count": null,
   "metadata": {},
   "outputs": [],
   "source": [
    "this_pump"
   ]
  },
  {
   "cell_type": "code",
   "execution_count": null,
   "metadata": {},
   "outputs": [],
   "source": [
    "this_pump = db_df[db_df['ID'] == 1460].iloc[0]\n",
    "\n",
    "q_arr = np.array(this_pump['rate_points'])\n",
    "h_esp_arr = np.array(this_pump['head_points'])\n",
    "power_esp_arr = np.array(this_pump['power_points']) \n",
    "efficiency_esp_arr = np.array(this_pump['eff_points'])\n",
    "\n",
    "plot_pump_curve(q_arr,\n",
    "    h_esp_arr,\n",
    "    power_esp_arr,\n",
    "    efficiency_esp_arr,\n",
    "    1,\n",
    "    this_pump['name'],\n",
    "    )"
   ]
  },
  {
   "cell_type": "code",
   "execution_count": null,
   "metadata": {},
   "outputs": [],
   "source": [
    "one_pump = big_df[big_df['super_id'] == big_df['super_id'].unique()[0]]\n",
    "one_pump.plot.scatter(x = 'lqliq', y = 'leff')"
   ]
  },
  {
   "cell_type": "code",
   "execution_count": null,
   "metadata": {},
   "outputs": [],
   "source": [
    "big_df.plot.scatter(x=\"lqliq\", y=\"leff\", c=\"lgas_fraction_intake\", legend=True, colormap='viridis')\n",
    "plt.legend()\n",
    "plt.xlabel('Дебит жидкости, м3/сут')\n",
    "plt.ylabel('КПД, д.ед.')\n",
    "plt.title('КПД ЭЦН от дебита жидкости')\n",
    "\n",
    "plt.show()"
   ]
  },
  {
   "cell_type": "code",
   "execution_count": null,
   "metadata": {},
   "outputs": [],
   "source": [
    "big_df.plot.scatter(x=\"lqliq\", y=\"lgas_fraction_intake\", c=\"leff\", colormap='viridis')\n",
    "plt.xlabel('Дебит жидкости, м3/сут')\n",
    "plt.ylabel('Доля газа на приеме ЭЦН, д.ед.')\n",
    "plt.legend()\n",
    "plt.title('Доля газа на приеме от дебита жидкости')\n",
    "plt.show()"
   ]
  },
  {
   "cell_type": "code",
   "execution_count": null,
   "metadata": {},
   "outputs": [],
   "source": [
    "fig, ax = plt.subplots()\n",
    "\n",
    "big_df.plot.scatter(ax = ax, x=\"lq_mix_pump_mean\", y=\"lgas_fraction_intake\", c=\"leff\", colormap='viridis')\n",
    "\n",
    "\n",
    "\n",
    "plt.xlabel('Дебит жидкости, м3/сут')\n",
    "\n",
    "plt.ylabel('Доля газа на приеме ЭЦН, д.ед.')\n",
    "\n",
    "\n",
    "plt.title('Дебит жидкости от доли газа на приеме от дебита жидкости')\n",
    "\n",
    "plt.show()"
   ]
  },
  {
   "cell_type": "code",
   "execution_count": null,
   "metadata": {},
   "outputs": [],
   "source": [
    "fig, ax = plt.subplots()\n",
    "\n",
    "big_df.plot.scatter(ax = ax, x=\"lqliq\", y=\"lp_bhp_atm\", c=\"leff\", colormap='viridis')\n",
    "plt.xlabel('Дебит жидкости, м3/сут')\n",
    "plt.ylabel('Забойное давление, атм')\n",
    "plt.legend()\n",
    "plt.title('Доля газа на приеме от дебита жидкости')\n",
    "plt.show()\n",
    "#pi_sm3dayatm"
   ]
  },
  {
   "cell_type": "code",
   "execution_count": null,
   "metadata": {},
   "outputs": [],
   "source": [
    "fig, ax = plt.subplots()\n",
    "\n",
    "big_df.plot.scatter(ax = ax, x=\"pi_sm3dayatm\", y=\"lqliq\", c=\"leff\", colormap='viridis')\n",
    "plt.xlabel('Коэффициент продуктивности, м3/сут/атм')\n",
    "plt.ylabel('Дебит жидкости, м3/сут')\n",
    "plt.legend()\n",
    "plt.title('Дебит жидкости от коэффициента продуктивности')\n",
    "plt.show()\n",
    "#pi_sm3dayatm"
   ]
  },
  {
   "cell_type": "code",
   "execution_count": null,
   "metadata": {},
   "outputs": [],
   "source": [
    "fig, ax = plt.subplots()\n",
    "\n",
    "big_df.plot.scatter(ax = ax, x=\"pres_atma\", y=\"lqliq\", c=\"leff\", colormap='viridis')\n",
    "plt.xlabel('Пластовое давление, атм')\n",
    "plt.ylabel('Дебит жидкости, м3/сут')\n",
    "plt.legend()\n",
    "plt.title('Дебит жидкости от пластового давления')\n",
    "plt.show()"
   ]
  },
  {
   "cell_type": "code",
   "execution_count": null,
   "metadata": {},
   "outputs": [],
   "source": [
    "fig, ax = plt.subplots()\n",
    "\n",
    "big_df.plot.scatter(ax = ax, x=\"lgas_fraction_intake\", y=\"leff\", c=\"lqliq\", colormap='viridis')\n",
    "\n",
    "ax.legend(list(big_df['super_id'].unique()))\n",
    "\n",
    "\n",
    "plt.ylabel('КПД, д.ед.')\n",
    "\n",
    "plt.xlabel('Доля газа на приеме ЭЦН, д.ед.')\n",
    "\n",
    "\n",
    "plt.title('КПД от доли газа на приеме от дебита жидкости')\n",
    "\n",
    "\n",
    "plt.show()"
   ]
  },
  {
   "cell_type": "code",
   "execution_count": null,
   "metadata": {},
   "outputs": [],
   "source": [
    "fig, ax = plt.subplots()\n",
    "\n",
    "big_df.plot.scatter(ax = ax, x=\"lgas_fraction_intake\", y=\"lqliq\", c=\"leff\", colormap='viridis')\n",
    "\n",
    "\n",
    "\n",
    "plt.ylabel('Дебит жидкости, м3/сут')\n",
    "\n",
    "plt.xlabel('Доля газа на приеме ЭЦН, д.ед.')\n",
    "\n",
    "\n",
    "plt.title('Дебит жидкости от доли газа на приеме от дебита жидкости')\n",
    "\n",
    "plt.show()"
   ]
  },
  {
   "cell_type": "code",
   "execution_count": null,
   "metadata": {},
   "outputs": [],
   "source": [
    "fig,ax = plt.subplots()\n",
    "sns.scatterplot(data=big_df, hue='super_id', x='lgas_fraction_intake', y='lqliq')\n",
    "plt.legend(loc=2)\n",
    "plt.savefig('scatter.png')\n",
    "plt.show()"
   ]
  },
  {
   "cell_type": "code",
   "execution_count": null,
   "metadata": {},
   "outputs": [],
   "source": [
    "fig,ax = plt.subplots()\n",
    "sns.scatterplot(data=big_df, hue='leff', x='lgas_fraction_intake', y='lqliq')\n",
    "plt.legend(loc=2)\n",
    "plt.show()"
   ]
  },
  {
   "cell_type": "code",
   "execution_count": null,
   "metadata": {
    "scrolled": false
   },
   "outputs": [],
   "source": [
    "this_frac_from_big_df = big_df[abs(big_df['lp_esp_dis']-big_df['lp_esp_dis_by_tube']) > 0]\n",
    "fig,ax = plt.subplots()\n",
    "sns.scatterplot(data=this_frac_from_big_df,\n",
    "                            \n",
    "                            hue='super_id', x='lp_esp_dis', y='lp_esp_dis_by_tube')\n",
    "plt.legend(loc=2)\n",
    "plt.show()\n",
    "this_frac_from_big_df"
   ]
  },
  {
   "cell_type": "code",
   "execution_count": null,
   "metadata": {},
   "outputs": [],
   "source": [
    "big_df.columns"
   ]
  },
  {
   "cell_type": "code",
   "execution_count": null,
   "metadata": {},
   "outputs": [],
   "source": [
    "this_frac_from_big_df = big_df[abs(big_df['lp_esp_dis']-big_df['lp_esp_dis_by_tube']) > 0]\n",
    "print(f\"len = {this_frac_from_big_df.shape[0]}\")\n",
    "fig,ax = plt.subplots()\n",
    "sns.scatterplot(data=this_frac_from_big_df,\n",
    "                            \n",
    "                            hue='super_id', x='lq_mix_pump_mean', y='lp_esp_dis')\n",
    "plt.legend(loc=1)\n",
    "plt.show()\n"
   ]
  },
  {
   "cell_type": "code",
   "execution_count": null,
   "metadata": {
    "scrolled": false
   },
   "outputs": [],
   "source": [
    "this_frac_from_big_df = big_df[abs(big_df['lp_esp_dis']-big_df['lp_esp_dis_by_tube']) > 0]\n",
    "print(f\"len = {this_frac_from_big_df.shape[0]}\")\n",
    "fig,ax = plt.subplots()\n",
    "sns.scatterplot(data=this_frac_from_big_df,\n",
    "                            \n",
    "                            hue='super_id', x='pi_sm3dayatm', y='lgas_fraction_intake')\n",
    "plt.legend(loc=1)\n",
    "plt.show()"
   ]
  },
  {
   "cell_type": "code",
   "execution_count": null,
   "metadata": {},
   "outputs": [],
   "source": [
    "this_frac_from_big_df = big_df[abs(big_df['lp_esp_dis']-big_df['lp_esp_dis_by_tube']) > 0]\n",
    "print(f\"len = {this_frac_from_big_df.shape[0]}\")\n",
    "fig,ax = plt.subplots()\n",
    "sns.scatterplot(data=this_frac_from_big_df,\n",
    "                            \n",
    "                            hue='super_id', x='pi_sm3dayatm', y='this_head')\n",
    "plt.legend(loc=1)\n",
    "plt.show()"
   ]
  },
  {
   "cell_type": "code",
   "execution_count": null,
   "metadata": {},
   "outputs": [],
   "source": [
    "this_frac_from_big_df = big_df[abs(big_df['lp_esp_dis']-big_df['lp_esp_dis_by_tube']) > 0]\n",
    "print(f\"len = {this_frac_from_big_df.shape[0]}\")\n",
    "fig,ax = plt.subplots()\n",
    "sns.scatterplot(data=this_frac_from_big_df,\n",
    "                            \n",
    "                            hue='super_id', x='pi_sm3dayatm', y='lp_bhp_atm')\n",
    "plt.legend(loc=1)\n",
    "plt.show()"
   ]
  },
  {
   "cell_type": "code",
   "execution_count": null,
   "metadata": {},
   "outputs": [],
   "source": [
    "this_frac_from_big_df = big_df[abs(big_df['lp_esp_dis']-big_df['lp_esp_dis_by_tube']) > 0]\n",
    "print(f\"len = {this_frac_from_big_df.shape[0]}\")\n",
    "fig,ax = plt.subplots()\n",
    "sns.scatterplot(data=this_frac_from_big_df,\n",
    "                            \n",
    "                            hue='super_id', x='lp_bhp_atm', y='lgas_fraction_intake')\n",
    "plt.legend(loc=1)\n",
    "plt.show()"
   ]
  },
  {
   "cell_type": "code",
   "execution_count": null,
   "metadata": {},
   "outputs": [],
   "source": [
    "this_frac_from_big_df = big_df[abs(big_df['lp_esp_dis']-big_df['lp_esp_dis_by_tube']) > 0]\n",
    "print(f\"len = {this_frac_from_big_df.shape[0]}\")\n",
    "fig,ax = plt.subplots()\n",
    "sns.scatterplot(data=this_frac_from_big_df,\n",
    "                            \n",
    "                            hue='super_id', x='pres_atma', y='lgas_fraction_intake')\n",
    "plt.legend(loc=1)\n",
    "plt.show()"
   ]
  },
  {
   "cell_type": "code",
   "execution_count": null,
   "metadata": {},
   "outputs": [],
   "source": [
    "this_frac_from_big_df = big_df[abs(big_df['lp_esp_dis']-big_df['lp_esp_dis_by_tube']) > 0]\n",
    "print(f\"len = {this_frac_from_big_df.shape[0]}\")\n",
    "fig,ax = plt.subplots()\n",
    "sns.scatterplot(data=this_frac_from_big_df,\n",
    "                            \n",
    "                            hue='super_id', x='pres_atma', y='leff')\n",
    "plt.legend(loc=3)\n",
    "plt.show()"
   ]
  },
  {
   "cell_type": "code",
   "execution_count": null,
   "metadata": {},
   "outputs": [],
   "source": [
    "this_frac_from_big_df = big_df[abs(big_df['lp_esp_dis']-big_df['lp_esp_dis_by_tube']) > 0]\n",
    "print(f\"len = {this_frac_from_big_df.shape[0]}\")\n",
    "fig,ax = plt.subplots()\n",
    "sns.scatterplot(data=this_frac_from_big_df,\n",
    "                            \n",
    "                            hue='super_id', x='pi_sm3dayatm', y='leff')\n",
    "plt.legend(loc=3)\n",
    "plt.show()"
   ]
  },
  {
   "cell_type": "code",
   "execution_count": null,
   "metadata": {},
   "outputs": [],
   "source": [
    "this_frac_from_big_df['super_id'].unique()"
   ]
  },
  {
   "cell_type": "code",
   "execution_count": null,
   "metadata": {},
   "outputs": [],
   "source": [
    "this_frac_from_big_df = big_df[abs(big_df['lp_esp_dis']-big_df['lp_esp_dis_by_tube']) > 0]\n",
    "this_frac_from_big_df  = this_frac_from_big_df[this_frac_from_big_df['super_id'] ==this_frac_from_big_df['super_id'].unique()[0] ]\n",
    "print(f\"len = {this_frac_from_big_df.shape[0]}\")\n",
    "fig,ax = plt.subplots()\n",
    "sns.scatterplot(data=this_frac_from_big_df,\n",
    "                            \n",
    "                            hue='super_id', x='pi_sm3dayatm', y='leff')\n",
    "plt.legend(loc=3)\n",
    "plt.show()"
   ]
  },
  {
   "cell_type": "code",
   "execution_count": null,
   "metadata": {},
   "outputs": [],
   "source": [
    "this_frac_from_big_df = big_df[abs(big_df['lp_esp_dis']-big_df['lp_esp_dis_by_tube']) > 0]\n",
    "this_frac_from_big_df['error'] = abs(big_df['lp_esp_dis']-big_df['lp_esp_dis_by_tube'])\n",
    "print(f\"len = {this_frac_from_big_df.shape[0]}\")\n",
    "fig,ax = plt.subplots()\n",
    "sns.scatterplot(data=this_frac_from_big_df,\n",
    "                            \n",
    "                            hue='super_id', x='lq_mix_pump_mean', y='leff')\n",
    "plt.legend(loc=3)\n",
    "plt.show()"
   ]
  },
  {
   "cell_type": "code",
   "execution_count": null,
   "metadata": {},
   "outputs": [],
   "source": [
    "this_frac_from_big_df = big_df[abs(big_df['lp_esp_dis']-big_df['lp_esp_dis_by_tube']) > 0]\n",
    "this_frac_from_big_df['error'] = abs(big_df['lp_esp_dis']-big_df['lp_esp_dis_by_tube'])\n",
    "print(f\"len = {this_frac_from_big_df.shape[0]}\")\n",
    "fig,ax = plt.subplots()\n",
    "sns.scatterplot(data=this_frac_from_big_df,\n",
    "                            \n",
    "                            hue='super_id', x='lqliq', y='leff')\n",
    "plt.legend(loc=3)\n",
    "plt.show()"
   ]
  },
  {
   "cell_type": "code",
   "execution_count": null,
   "metadata": {},
   "outputs": [],
   "source": [
    "this_frac_from_big_df = big_df[abs(big_df['lp_esp_dis']-big_df['lp_esp_dis_by_tube']) > 0]\n",
    "this_frac_from_big_df['error'] = abs(big_df['lp_esp_dis']-big_df['lp_esp_dis_by_tube'])\n",
    "print(f\"len = {this_frac_from_big_df.shape[0]}\")\n",
    "fig,ax = plt.subplots()\n",
    "sns.scatterplot(data=this_frac_from_big_df,\n",
    "                            \n",
    "                            hue='super_id', x='lq_mix_pump_mean', y='error')\n",
    "plt.legend(loc=1)\n",
    "plt.show()"
   ]
  },
  {
   "cell_type": "code",
   "execution_count": null,
   "metadata": {},
   "outputs": [],
   "source": [
    "this_frac_from_big_df.columns"
   ]
  },
  {
   "cell_type": "code",
   "execution_count": null,
   "metadata": {},
   "outputs": [],
   "source": [
    "list(big_df['super_id'].unique())"
   ]
  },
  {
   "cell_type": "code",
   "execution_count": null,
   "metadata": {},
   "outputs": [],
   "source": [
    "#sns.set_theme(style=\"ticks\")\n",
    "sns.pairplot(big_df[['leff', 'lqliq', 'lgas_fraction_intake', 'super_id']].copy(), hue=\"super_id\", height=15)"
   ]
  },
  {
   "cell_type": "code",
   "execution_count": null,
   "metadata": {},
   "outputs": [],
   "source": [
    "fig,ax = plt.subplots()\n",
    "sns.scatterplot(data=this_frac_from_big_df,\n",
    "                            \n",
    "                            hue='super_id', x='leff', y='this_max_eff')\n",
    "plt.legend(loc=3)\n",
    "plt.show()"
   ]
  },
  {
   "cell_type": "code",
   "execution_count": null,
   "metadata": {},
   "outputs": [],
   "source": [
    "fig,ax = plt.subplots()\n",
    "sns.scatterplot(data=this_frac_from_big_df,\n",
    "                            \n",
    "                            hue='super_id', x='leff', y='k_degr_eff')\n",
    "plt.legend(loc=3)\n",
    "plt.show()"
   ]
  },
  {
   "cell_type": "code",
   "execution_count": null,
   "metadata": {},
   "outputs": [],
   "source": [
    "fig,ax = plt.subplots()\n",
    "sns.scatterplot(data=this_frac_from_big_df,\n",
    "                            \n",
    "                            hue='super_id', x='leff', y='eff_div_max_eff')\n",
    "plt.legend(loc=3)\n",
    "plt.show()"
   ]
  },
  {
   "cell_type": "code",
   "execution_count": null,
   "metadata": {},
   "outputs": [],
   "source": [
    "fig,ax = plt.subplots()\n",
    "sns.scatterplot(data=this_frac_from_big_df,\n",
    "                            \n",
    "                            hue='super_id', x='lgas_fraction_intake', y='eff_div_max_eff')\n",
    "plt.legend(loc=3)\n",
    "plt.show()"
   ]
  },
  {
   "cell_type": "markdown",
   "metadata": {},
   "source": [
    "# Проверка расчета"
   ]
  },
  {
   "cell_type": "code",
   "execution_count": null,
   "metadata": {},
   "outputs": [],
   "source": [
    "big_df['super_id'].unique()"
   ]
  },
  {
   "cell_type": "code",
   "execution_count": null,
   "metadata": {},
   "outputs": [],
   "source": [
    "pump_super_id = '226ЭЦНАКИ5-125 H = 1600 м'\n",
    "pump_super_id =  '10.1ЭЦНД5А-100 H = 1600 м'\n",
    "one_pump_df_for_check_all = big_df[big_df['super_id'] == pump_super_id]\n",
    "one_pump_df_for_check   = one_pump_df_for_check_all[one_pump_df_for_check_all['leff'] == one_pump_df_for_check_all['leff'].max()]\n",
    "one_pump_df_for_check"
   ]
  },
  {
   "cell_type": "code",
   "execution_count": null,
   "metadata": {},
   "outputs": [],
   "source": [
    "one_case = one_pump_df_for_check.iloc[0]\n",
    "one_case"
   ]
  },
  {
   "cell_type": "code",
   "execution_count": null,
   "metadata": {},
   "outputs": [],
   "source": [
    "params = json.loads(one_case['lparams'])\n",
    "params"
   ]
  },
  {
   "cell_type": "code",
   "execution_count": null,
   "metadata": {},
   "outputs": [],
   "source": [
    "casing_pipe, tube_pipe, h_mes, head_esp, eff, power_esp, q_liq, status, gas_fraction_intake, p_bhp_atm, \\\n",
    "                            p_dis, p_esp_dis, json_params, q_mix_pump_mean, esp_df = well_model.calc_all(params, debug=1,\n",
    "                                                                                              vba_version='7.28',\n",
    "                                                                                             api=api, api_new=api_new)"
   ]
  },
  {
   "cell_type": "code",
   "execution_count": null,
   "metadata": {},
   "outputs": [],
   "source": [
    "this_pump = db_df[db_df['ID'] == params['pump_id']].iloc[0]\n",
    "\n",
    "q_arr = np.array(this_pump['rate_points'])\n",
    "h_esp_arr = np.array(this_pump['head_points'])\n",
    "power_esp_arr = np.array(this_pump['power_points']) \n",
    "efficiency_esp_arr = np.array(this_pump['eff_points'])\n",
    "h_esp_arr_div_power_esp_arr = h_esp_arr/power_esp_arr\n",
    "plot_pump_curve(q_arr,\n",
    "    h_esp_arr,\n",
    "    power_esp_arr,\n",
    "    efficiency_esp_arr,\n",
    "    z=1,\n",
    "    esp_name= api.ESP_name(params['pump_id']),\n",
    "    f=53,\n",
    "    fnom=50,\n",
    "    q_work=None,\n",
    "    show=True,\n",
    "    xlabel=None)"
   ]
  },
  {
   "cell_type": "code",
   "execution_count": null,
   "metadata": {},
   "outputs": [],
   "source": [
    "fig, ax = plt.subplots()\n",
    "\n",
    "\n",
    "ax.plot(q_arr * 53/50,efficiency_esp_arr*100, 'ro-', label ='БД НРХ' )\n",
    "one_pump_df_for_check_all.plot.scatter(x = 'lq_mix_pump_mean', y = 'leff', ax =ax\n",
    "                                      )\n",
    "\n",
    "ax.legend()\n"
   ]
  },
  {
   "cell_type": "code",
   "execution_count": null,
   "metadata": {},
   "outputs": [],
   "source": [
    "one_pump_df_for_check_all['lgas_fraction_intake'].plot.hist(bins=100)\n",
    "plt.xlabel('Доля газа на приеме')"
   ]
  },
  {
   "cell_type": "code",
   "execution_count": null,
   "metadata": {},
   "outputs": [],
   "source": [
    "one_pump_df_for_check_all['eff_div_max_eff'].plot.hist(bins=100)\n",
    "plt.xlabel('eff_div_max_eff')"
   ]
  },
  {
   "cell_type": "code",
   "execution_count": null,
   "metadata": {},
   "outputs": [],
   "source": [
    "one_pump_df_for_check_all"
   ]
  },
  {
   "cell_type": "code",
   "execution_count": null,
   "metadata": {},
   "outputs": [],
   "source": [
    "api.ESP_name(params['pump_id'])"
   ]
  },
  {
   "cell_type": "code",
   "execution_count": null,
   "metadata": {},
   "outputs": [],
   "source": [
    "api_new.ESP_name(params['pump_id'])"
   ]
  },
  {
   "cell_type": "code",
   "execution_count": null,
   "metadata": {},
   "outputs": [],
   "source": [
    "one_case['this_name']"
   ]
  },
  {
   "cell_type": "code",
   "execution_count": null,
   "metadata": {},
   "outputs": [],
   "source": [
    "eff"
   ]
  },
  {
   "cell_type": "code",
   "execution_count": null,
   "metadata": {},
   "outputs": [],
   "source": [
    "one_case['leff']"
   ]
  },
  {
   "cell_type": "markdown",
   "metadata": {},
   "source": [
    "## Сборка результирующего DataFrame"
   ]
  },
  {
   "cell_type": "code",
   "execution_count": null,
   "metadata": {},
   "outputs": [],
   "source": [
    "params"
   ]
  },
  {
   "cell_type": "code",
   "execution_count": null,
   "metadata": {},
   "outputs": [],
   "source": [
    "\n",
    "df = save_in_df(lh_mes, lhead_esp, leff, lpower_esp, lqliq, lstatus, lgas_fraction_intake, \n",
    "                   lp_bhp_atm, lp_esp_dis, lparams, num_simulations, lp_esp_dis_by_tube)\n",
    "df"
   ]
  },
  {
   "cell_type": "code",
   "execution_count": null,
   "metadata": {
    "scrolled": false
   },
   "outputs": [],
   "source": [
    "debug_params = json.loads(df['lparams'][0])\n",
    "debug_params['n_dots_for_nodal'] = 15\n",
    "debug_params['esp_head_m'] = 1000\n",
    "debug_params['num_stages'] = calc_num_stages(debug_params)\n",
    "r = calc_all(debug_params)\n",
    "\n",
    "\n"
   ]
  },
  {
   "cell_type": "code",
   "execution_count": null,
   "metadata": {
    "scrolled": false
   },
   "outputs": [],
   "source": [
    "#построение графиков\n",
    "#for i in df.columns:\n",
    "#    #df = df.sort_values(by = i)\n",
    "#    if type(df.reset_index()[i].values[0]) is not str:\n",
    "#        df.reset_index()[i].plot(label = i)\n",
    "#        plt.ylabel(i)\n",
    "#        plt.xlabel('Порядковый номер')\n",
    "#        plt.legend()\n",
    "#        plt.show()"
   ]
  },
  {
   "cell_type": "markdown",
   "metadata": {},
   "source": [
    "## Построение итоговых графиков "
   ]
  },
  {
   "cell_type": "code",
   "execution_count": null,
   "metadata": {
    "scrolled": false
   },
   "outputs": [],
   "source": [
    "print(f\"Error = {len(df['lstatus'][df['lstatus'] == 0])} из {df.shape[0]} или из {num_simulations}\")\n",
    "print('h_pump_m', params['h_pump_m'])\n",
    "print('pump_id', params['pump_id'])\n",
    "print('ESP_optRate_m3day', api.ESP_optRate_m3day(pump_id=params['pump_id']))\n",
    "print('ESP_name', api.ESP_name(pump_id=params['pump_id']))\n",
    "\n",
    "\n",
    "\n",
    "for i in [[lh_mes, 'Глубина спуска, м'],\n",
    "          [lhead_esp, 'Напор, м'], \n",
    "          [leff, 'КПД, д.ед.'], \n",
    "          [lpower_esp, 'Мощность, кВт'],\n",
    "          [lqliq, 'Дебит жидкости, м3/сут'],\n",
    "          [lgas_fraction_intake, 'Доля газа на приеме, д.ед.'],\n",
    "          [lp_bhp_atm, 'Забойное давление, атм'],\n",
    "          [lp_esp_dis, 'Давление на выкиде, атм']\n",
    "         ]:\n",
    "\n",
    "    fig = plt.Figure()\n",
    "\n",
    "    fig, ax = plt.subplots()\n",
    "    \n",
    "    label = i[1]\n",
    "    x = np.array(i[0],dtype= np.float64)\n",
    "    count, bins, ignored = plt.hist(x[~np.isnan(x)], bins=50,  density=True, label=label)\n",
    "    \n",
    "    \n",
    "    # Расчет EMV\n",
    "    leff2 = np.array(i[0], dtype = np.float64)\n",
    "    leff2 = leff2[~np.isnan(leff2)]\n",
    "    prob = leff2 * 0 + 1/len(leff2)\n",
    "\n",
    "    emv = np.sum(leff2 * prob)\n",
    "\n",
    "\n",
    "    plt.title(f\"Распределение {label}, EMV = {round(emv, 3)}\")\n",
    "    plt.xlabel(label)\n",
    "    ax.legend()\n",
    "    plt.show()"
   ]
  },
  {
   "cell_type": "code",
   "execution_count": null,
   "metadata": {},
   "outputs": [],
   "source": [
    "pump_id = params['pump_id']\n",
    "#pump_id = 1460 #125\n",
    "#pump_id = 1461 #200\n",
    "#pump_id = 1868 #80\n",
    "#pump_id = 2089 #160\n",
    "#pump_id = 2289 #60\n",
    "#pump_id = 2753 #100\n",
    "\n",
    "qliq = np.arange(0, api.ESP_optRate_m3day(pump_id=pump_id)*2, 5)\n",
    "eff = np.array([api.ESP_eff_fr(x, pump_id = pump_id, mu_cSt=1) for x in qliq])\n",
    "power = np.array([api.ESP_power_W(x, pump_id = pump_id) for x in qliq])\n",
    "h = np.array([api.ESP_head_m(x, pump_id = pump_id) for x in qliq])\n",
    "\n",
    "qliq = qliq[eff >0]\n",
    "power = power[eff >0]\n",
    "h = h[eff >0]\n",
    "eff = eff[eff >0]\n",
    "\n",
    "plot_pump_curve(qliq, h, power, \n",
    "                eff, 1,\n",
    "                api.ESP_name(pump_id=pump_id) + f\" OPT Rate = {round(api.ESP_optRate_m3day(pump_id=pump_id), 2)}\", f=50)"
   ]
  },
  {
   "cell_type": "code",
   "execution_count": null,
   "metadata": {},
   "outputs": [],
   "source": [
    "plt.plot(qliq, h)"
   ]
  },
  {
   "cell_type": "code",
   "execution_count": null,
   "metadata": {},
   "outputs": [],
   "source": [
    "plt.plot(eff/qliq, h/power)"
   ]
  },
  {
   "cell_type": "code",
   "execution_count": null,
   "metadata": {},
   "outputs": [],
   "source": [
    "plt.plot(qliq, h/power)"
   ]
  },
  {
   "cell_type": "code",
   "execution_count": null,
   "metadata": {},
   "outputs": [],
   "source": [
    "plt.plot(qliq,eff/qliq)"
   ]
  },
  {
   "cell_type": "code",
   "execution_count": null,
   "metadata": {},
   "outputs": [],
   "source": [
    "plt.plot(qliq,eff, label = 'По характеристике')\n",
    "plt.plot(qliq,h*1000*9.81*(qliq/86400)/power, label = 'По расчету через rho*g*h*Q/N')\n",
    "plt.legend()\n",
    "plt.title('Сравнение КПД прямой и косвенный расчет')\n",
    "plt.ylabel('КПД, д.ед.')\n",
    "plt.xlabel('Подача, м3/сут.')\n",
    "plt.show()"
   ]
  },
  {
   "cell_type": "markdown",
   "metadata": {},
   "source": [
    "# Анализ неоднозначности в НРХ"
   ]
  },
  {
   "cell_type": "code",
   "execution_count": null,
   "metadata": {},
   "outputs": [],
   "source": [
    "os.chdir(r'C:\\Git\\probability_calculations')\n",
    "with open('ESP_json.db', 'r') as outfile:\n",
    "    file = outfile\n",
    "    db = json.load(outfile)"
   ]
  },
  {
   "cell_type": "code",
   "execution_count": null,
   "metadata": {},
   "outputs": [],
   "source": [
    "db_df = pd.DataFrame(db)\n",
    "db_df = db_df.T\n",
    "db_df"
   ]
  },
  {
   "cell_type": "code",
   "execution_count": null,
   "metadata": {},
   "outputs": [],
   "source": [
    "for i in db_df.columns:\n",
    "    print(i)"
   ]
  },
  {
   "cell_type": "code",
   "execution_count": null,
   "metadata": {},
   "outputs": [],
   "source": [
    "db_df.iloc[738]"
   ]
  },
  {
   "cell_type": "code",
   "execution_count": null,
   "metadata": {},
   "outputs": [],
   "source": [
    "db_df.columns"
   ]
  },
  {
   "cell_type": "markdown",
   "metadata": {},
   "source": [
    "## Анализ распределения КПД"
   ]
  },
  {
   "cell_type": "code",
   "execution_count": null,
   "metadata": {},
   "outputs": [],
   "source": [
    "db_df[db_df['eff_max']>0]['eff_max'].plot(kind='hist', bins = 100)"
   ]
  },
  {
   "cell_type": "markdown",
   "metadata": {},
   "source": [
    "## Анализ количества точек для каждой НРХ"
   ]
  },
  {
   "cell_type": "code",
   "execution_count": null,
   "metadata": {},
   "outputs": [],
   "source": [
    "number_of_point_in_curves = []\n",
    "for i in db_df.index:\n",
    "    this_pump = db_df.loc[i]\n",
    "    number_of_point_in_curves.append(len(this_pump['rate_points']))\n",
    "    \n",
    "db_df['number_of_point_in_curves'] = number_of_point_in_curves"
   ]
  },
  {
   "cell_type": "code",
   "execution_count": null,
   "metadata": {},
   "outputs": [],
   "source": [
    "db_df['number_of_point_in_curves'].plot(kind='hist', bins = 100)"
   ]
  },
  {
   "cell_type": "code",
   "execution_count": null,
   "metadata": {},
   "outputs": [],
   "source": [
    "val = 10\n",
    "\n",
    "db_df_filtered = db_df[db_df['number_of_point_in_curves'] <=val]\n",
    "db_df_filtered = db_df_filtered[db_df_filtered['number_of_point_in_curves'] >val-1]\n",
    "\n",
    "this_pump = db_df_filtered.iloc[2]\n",
    "plot_pump_curve(q_arr = np.array(this_pump['rate_points']), \n",
    "    h_esp_arr = np.array(this_pump['head_points']),\n",
    "    power_esp_arr = np.array(this_pump['power_points']), \n",
    "    efficiency_esp_arr = np.array(this_pump['eff_points']),\n",
    "         z = 1,\n",
    "                esp_name = this_pump['name'], f=50)"
   ]
  },
  {
   "cell_type": "markdown",
   "metadata": {},
   "source": [
    "## Анализ неоднозначности НРХ\n",
    "\n",
    "### Построение НРХ с нормированной кривой"
   ]
  },
  {
   "cell_type": "code",
   "execution_count": null,
   "metadata": {},
   "outputs": [],
   "source": [
    "def find_amount_of_change_direction(h_esp_arr):\n",
    "    if type(h_esp_arr) is list:\n",
    "        h_esp_arr = np.array(h_esp_arr)\n",
    "    elif type(h_esp_arr) is str:\n",
    "        h_esp_arr = np.array(json.loads(h_esp_arr))\n",
    "\n",
    "    diff = np.diff(h_esp_arr)\n",
    "    change_direction = diff[1:]*diff[:-1]\n",
    "    \n",
    "    amount_of_change_direction = len(change_direction[change_direction<0])\n",
    "    return amount_of_change_direction\n",
    "\n",
    "\n",
    "clear_db_df = db_df[db_df['number_of_point_in_curves']>=10]\n",
    "\n",
    "this_pump = clear_db_df.iloc[700]\n",
    "this_pump = clear_db_df[clear_db_df['ID'] == 3256].iloc[0]\n",
    "\n",
    "q_arr = np.array(this_pump['rate_points'])\n",
    "h_esp_arr = np.array(this_pump['head_points'])\n",
    "power_esp_arr = np.array(this_pump['power_points']) \n",
    "efficiency_esp_arr = np.array(this_pump['eff_points'])\n",
    "h_esp_arr_div_power_esp_arr = h_esp_arr/power_esp_arr\n",
    "\n",
    "\n",
    "\n",
    "#plot_pump_curve(q_arr = q_arr, \n",
    "#    h_esp_arr = h_esp_arr,\n",
    "#    power_esp_arr = power_esp_arr, \n",
    "#    efficiency_esp_arr = efficiency_esp_arr,\n",
    "#         z = 1,\n",
    "#    esp_name = this_pump['name'], f=50, show=True)\n",
    "\n",
    "\n",
    "\n",
    "\n",
    "f=50\n",
    "fnom=50\n",
    "q_work=None\n",
    "esp_name = this_pump['name']\n",
    "z = 1\n",
    "\n",
    "########## график\n",
    "q_arr = q_arr * f/fnom\n",
    "h_esp_arr = h_esp_arr * (f/fnom)**2\n",
    "power_esp_arr = power_esp_arr * (f/fnom)**2\n",
    "fig, ax = plt.subplots()\n",
    "fig.subplots_adjust(right=0.75)\n",
    "\n",
    "twin1 = ax.twinx()\n",
    "twin2 = ax.twinx()\n",
    "twin3 = ax.twinx()\n",
    "\n",
    "\n",
    "\n",
    "# Offset the right spine of twin2.  The ticks and label have already been\n",
    "# placed on the right by twinx above.\n",
    "twin2.spines['right'].set_position((\"axes\", 1.1))\n",
    "twin3.spines['right'].set_position((\"axes\", 1.2))\n",
    "\n",
    "p1, = ax.plot(q_arr, h_esp_arr, \"b-\",  marker = 'o', label=\"Напор, м\")\n",
    "p2, = twin1.plot(q_arr, power_esp_arr, \"r-\",  marker = 'o',  label=\"Мощность, Вт\")\n",
    "p3, = twin2.plot(q_arr, efficiency_esp_arr, \"g-\",  marker = 'o', label=\"КПД, д.ед.\")\n",
    "p4, = twin3.plot(q_arr, h_esp_arr_div_power_esp_arr, \"y-\",  marker = 'o', label=\"Напор / Мощность\")\n",
    "\n",
    "\n",
    "if q_work is not None:\n",
    "    f_interrr = interpolate.interp1d(q_arr,h_esp_arr, kind='cubic')\n",
    "    p4 = ax.axvline(x=q_work, label=f\"Рабочий режим Q={round(q_work, 2)}\", linewidth=5, markersize=15)\n",
    "    #p4, = ax.plot([q_work], [f_interrr(q_work)], \"k\",  marker = 'o', label=\"Рабочая точка\",  markersize=15)\n",
    "\n",
    "#ax.axvspan(esp_df['Левая граница'].values[0]*f/fnom, esp_df['Правая граница'].values[0]*f/fnom, \n",
    "#           alpha=0.2, color='green') TODO вытащить из БД\n",
    "\n",
    "ax.set_xlabel(\"Подача, м3/сут\")\n",
    "ax.set_ylabel(\"Напор, м\")\n",
    "twin1.set_ylabel(\"Мощность, Вт\")\n",
    "twin2.set_ylabel(\"КПД, д.ед.\")\n",
    "twin3.set_ylabel(\"Напор / Мощность\")\n",
    "\n",
    "ax.yaxis.label.set_color(p1.get_color())\n",
    "twin1.yaxis.label.set_color(p2.get_color())\n",
    "twin2.yaxis.label.set_color(p3.get_color())\n",
    "twin3.yaxis.label.set_color(p4.get_color())\n",
    "\n",
    "\n",
    "tkw = dict(size=4, width=1.5)\n",
    "ax.tick_params(axis='y', colors=p1.get_color(), **tkw)\n",
    "twin1.tick_params(axis='y', colors=p2.get_color(), **tkw)\n",
    "twin2.tick_params(axis='y', colors=p3.get_color(), **tkw)\n",
    "twin3.tick_params(axis='y', colors=p4.get_color(), **tkw)\n",
    "\n",
    "ax.tick_params(axis='x', **tkw)\n",
    "\n",
    "if q_work is not None:\n",
    "    ax.legend(handles=[p1, p2, p3, p4], loc='lower center')\n",
    "else:\n",
    "    ax.legend(handles=[p1, p2, p3, p4], loc='lower center')\n",
    "\n",
    "\n",
    "ax.grid()\n",
    "\n",
    "ax.set_title(f\"{esp_name}, ступеней = {z} шт. при частоте = {f} Гц\")\n",
    "plt.show()\n",
    "\n",
    "\n",
    "\n",
    "find_amount_of_change_direction(h_esp_arr), find_amount_of_change_direction(power_esp_arr), find_amount_of_change_direction(efficiency_esp_arr)"
   ]
  },
  {
   "cell_type": "markdown",
   "metadata": {},
   "source": [
    "### Расчет количества перегибов на кривых и нормированной кривой для каждого ЭЦН"
   ]
  },
  {
   "cell_type": "code",
   "execution_count": null,
   "metadata": {},
   "outputs": [],
   "source": [
    "clear_db_df['h_esp_arr_div_power_esp_arr'] = None\n",
    "clear_db_df['power_points_left'] = None\n",
    "\n",
    "for i in clear_db_df.index:\n",
    "    \n",
    "    clear_db_df.loc[i, 'h_esp_arr_div_power_esp_arr'] = json.dumps(list( np.array(clear_db_df.loc[i, 'head_points']) /  \\\n",
    "                                                        np.array(clear_db_df.loc[i, 'power_points'])))\n",
    "    \n",
    "    \n",
    "    this_pump = clear_db_df.loc[i]\n",
    "\n",
    "    power_points = np.array(this_pump['power_points'])\n",
    "    rate_points = np.array(this_pump['rate_points'])\n",
    "\n",
    "    power_points_left = power_points[rate_points< 0.3*max(rate_points)]\n",
    "    \n",
    "    \n",
    "    clear_db_df.loc[i, 'power_points_left'] = json.dumps(list(power_points_left))\n",
    "\n",
    "    \n",
    "    \n",
    "\n",
    "clear_db_df.loc[:, 'amount_of_change_direction_head'] = clear_db_df['head_points'].copy().apply(find_amount_of_change_direction)\n",
    "clear_db_df.loc[:, 'amount_of_change_direction_eff'] = clear_db_df['eff_points'].copy().apply(find_amount_of_change_direction)\n",
    "clear_db_df.loc[:, 'amount_of_change_direction_power'] = clear_db_df['power_points'].copy().apply(find_amount_of_change_direction)\n",
    "clear_db_df.loc[:, 'amount_of_change_direction_h_esp_div_power'] = clear_db_df['h_esp_arr_div_power_esp_arr'].copy().apply(find_amount_of_change_direction)\n",
    "clear_db_df.loc[:, 'amount_of_change_direction_power_points_left'] = clear_db_df['power_points_left'].copy().apply(find_amount_of_change_direction)\n",
    "clear_db_df.loc[:, 'amount_of_change_direction_combined_solution'] = clear_db_df.apply(lambda x: min(x['amount_of_change_direction_power_points_left'], \n",
    "                                                                x['amount_of_change_direction_h_esp_div_power']), axis=1)\n"
   ]
  },
  {
   "cell_type": "code",
   "execution_count": null,
   "metadata": {},
   "outputs": [],
   "source": [
    "clear_db_df"
   ]
  },
  {
   "cell_type": "markdown",
   "metadata": {},
   "source": [
    "### Построение распределений для всей БД - количество перегибов для каждой кривой"
   ]
  },
  {
   "cell_type": "code",
   "execution_count": null,
   "metadata": {},
   "outputs": [],
   "source": [
    "clear_db_df_with_calc = clear_db_df[clear_db_df['amount_of_change_direction_eff'] == 1]"
   ]
  },
  {
   "cell_type": "code",
   "execution_count": null,
   "metadata": {},
   "outputs": [],
   "source": [
    "fig = plt.Figure()\n",
    "ax = fig.add_axes([0,0,1,1])\n",
    "for j, i in enumerate(clear_db_df_with_calc.columns[-6:]):\n",
    "    v = clear_db_df_with_calc[i].value_counts() / clear_db_df_with_calc.shape[0]*100\n",
    "    #v = clear_db_df_with_calc[i].value_counts() \n",
    "    v = v[v.index<5]\n",
    "    plt.bar(v.index.values+0.1*j, v.values, label=i, width= 0.1, align='edge')\n",
    "    plt.legend()\n",
    "    #plt.show()\n",
    "plt.grid()\n",
    "plt.ylabel('Количество насосов')\n",
    "plt.xlabel('Количество точек перегиба')\n",
    "plt.show()"
   ]
  },
  {
   "cell_type": "code",
   "execution_count": null,
   "metadata": {},
   "outputs": [],
   "source": [
    "#fig, ax = plt.subplots()\n",
    "\n",
    "fig = plt.Figure()\n",
    "\n",
    "#ax = fig.add_axes([0,0, 1, 1])\n",
    "#for i in clear_db_df.columns[-4:]:\n",
    "i = clear_db_df.columns[-1]\n",
    "v = clear_db_df[i].value_counts()\n",
    "plt.bar(v.index.values+0.00, v.values, label=i, width=0.25, align='center')\n",
    "\n",
    "i = clear_db_df.columns[-2]\n",
    "v = clear_db_df[i].value_counts()\n",
    "plt.bar(v.index.values+0.25, v.values, label=i, width=0.25,  align='center')\n",
    "\n",
    "i = clear_db_df.columns[-4]\n",
    "v = clear_db_df[i].value_counts()\n",
    "plt.bar(v.index.values+0.5, v.values, label=i, width=0.25,  align='center')\n",
    "    \n",
    "# Add some text for labels, title and custom x-axis tick labels, etc.\n",
    "ax.set_ylabel('Scores')\n",
    "ax.set_title('Scores by group and gender')\n",
    "\n",
    "plt.legend()\n",
    "#fig.tight_layout()\n",
    "\n",
    "plt.show()"
   ]
  },
  {
   "cell_type": "code",
   "execution_count": null,
   "metadata": {},
   "outputs": [],
   "source": [
    "clear_db_df[clear_db_df.columns[-1]].plot(kind='hist', bins = [0, 1, 2, 3, 4, 5], align='left', legend = 'Неопределенность по H/N')\n",
    "clear_db_df[clear_db_df.columns[-2]].plot(kind='hist', bins = [0, 1, 2, 3, 4, 5], align='left', legend = 'Неопределенность по H/N')\n",
    "plt.show()"
   ]
  },
  {
   "cell_type": "markdown",
   "metadata": {},
   "source": [
    "### Построение конкретных кривых"
   ]
  },
  {
   "cell_type": "code",
   "execution_count": null,
   "metadata": {
    "scrolled": true
   },
   "outputs": [],
   "source": [
    "#clear_db_df_with_calc_filtered = clear_db_df[clear_db_df['amount_of_change_direction_eff']==1]\n",
    "#clear_db_df_with_calc_filtered = clear_db_df[clear_db_df['amount_of_change_direction_power']==2]\n",
    "#clear_db_df_with_calc_filtered = clear_db_df[clear_db_df['amount_of_change_direction_head']==1]\n",
    "#clear_db_df_with_calc_filtered = clear_db_df[clear_db_df['amount_of_change_direction_head']==1]\n",
    "\n",
    "clear_db_df_with_calc_filtered = clear_db_df[clear_db_df['amount_of_change_direction_h_esp_div_power']==1]\n",
    "clear_db_df_with_calc_filtered = clear_db_df_with_calc_filtered.head(10)\n",
    "\n",
    "print(clear_db_df_with_calc_filtered.shape)\n",
    "for i in range(clear_db_df_with_calc_filtered.shape[0]):\n",
    "    this_pump = clear_db_df_with_calc_filtered.iloc[i]\n",
    "\n",
    "\n",
    "    q_arr = np.array(this_pump['rate_points'])\n",
    "    h_esp_arr = np.array(this_pump['head_points'])\n",
    "    power_esp_arr = np.array(this_pump['power_points']) \n",
    "    efficiency_esp_arr = np.array(this_pump['eff_points'])\n",
    "    h_esp_arr_div_power_esp_arr = h_esp_arr/power_esp_arr\n",
    "\n",
    "\n",
    "\n",
    "    #plot_pump_curve(q_arr = q_arr, \n",
    "    #    h_esp_arr = h_esp_arr,\n",
    "    #    power_esp_arr = power_esp_arr, \n",
    "    #    efficiency_esp_arr = efficiency_esp_arr,\n",
    "    #         z = 1,\n",
    "    #    esp_name = this_pump['name'], f=50, show=True)\n",
    "\n",
    "    f=50\n",
    "    fnom=50\n",
    "    q_work=None\n",
    "    esp_name = this_pump['name']\n",
    "    z = 1\n",
    "\n",
    "    ########## график\n",
    "    q_arr = q_arr * f/fnom\n",
    "    h_esp_arr = h_esp_arr * (f/fnom)**2\n",
    "    power_esp_arr = power_esp_arr * (f/fnom)**2\n",
    "    fig, ax = plt.subplots()\n",
    "    fig.subplots_adjust(right=0.75)\n",
    "\n",
    "    twin1 = ax.twinx()\n",
    "    twin2 = ax.twinx()\n",
    "    twin3 = ax.twinx()\n",
    "\n",
    "\n",
    "\n",
    "    # Offset the right spine of twin2.  The ticks and label have already been\n",
    "    # placed on the right by twinx above.\n",
    "    twin2.spines['right'].set_position((\"axes\", 1.1))\n",
    "    twin3.spines['right'].set_position((\"axes\", 1.2))\n",
    "\n",
    "    p1, = ax.plot(q_arr, h_esp_arr, \"b-\",  marker = 'o', label=\"Напор, м\")\n",
    "    p2, = twin1.plot(q_arr, power_esp_arr, \"r-\",  marker = 'o',  label=\"Мощность, Вт\")\n",
    "    p3, = twin2.plot(q_arr, efficiency_esp_arr, \"g-\",  marker = 'o', label=\"КПД, д.ед.\")\n",
    "    p4, = twin3.plot(q_arr, h_esp_arr_div_power_esp_arr, \"y-\",  marker = 'o', label=\"Напор / Мощность\")\n",
    "\n",
    "\n",
    "    if q_work is not None:\n",
    "        f_interrr = interpolate.interp1d(q_arr,h_esp_arr, kind='cubic')\n",
    "        p4 = ax.axvline(x=q_work, label=f\"Рабочий режим Q={round(q_work, 2)}\", linewidth=5, markersize=15)\n",
    "        #p4, = ax.plot([q_work], [f_interrr(q_work)], \"k\",  marker = 'o', label=\"Рабочая точка\",  markersize=15)\n",
    "\n",
    "    #ax.axvspan(esp_df['Левая граница'].values[0]*f/fnom, esp_df['Правая граница'].values[0]*f/fnom, \n",
    "    #           alpha=0.2, color='green') TODO вытащить из БД\n",
    "\n",
    "    ax.set_xlabel(\"Подача, м3/сут\")\n",
    "    ax.set_ylabel(\"Напор, м\")\n",
    "    twin1.set_ylabel(\"Мощность, Вт\")\n",
    "    twin2.set_ylabel(\"КПД, д.ед.\")\n",
    "    twin3.set_ylabel(\"Напор / Мощность\")\n",
    "\n",
    "    ax.yaxis.label.set_color(p1.get_color())\n",
    "    twin1.yaxis.label.set_color(p2.get_color())\n",
    "    twin2.yaxis.label.set_color(p3.get_color())\n",
    "    twin3.yaxis.label.set_color(p4.get_color())\n",
    "\n",
    "\n",
    "    tkw = dict(size=4, width=1.5)\n",
    "    ax.tick_params(axis='y', colors=p1.get_color(), **tkw)\n",
    "    twin1.tick_params(axis='y', colors=p2.get_color(), **tkw)\n",
    "    twin2.tick_params(axis='y', colors=p3.get_color(), **tkw)\n",
    "    twin3.tick_params(axis='y', colors=p4.get_color(), **tkw)\n",
    "\n",
    "    ax.tick_params(axis='x', **tkw)\n",
    "\n",
    "    if q_work is not None:\n",
    "        ax.legend(handles=[p1, p2, p3, p4], loc='lower center')\n",
    "    else:\n",
    "        ax.legend(handles=[p1, p2, p3, p4], loc='lower center')\n",
    "\n",
    "\n",
    "    ax.grid()\n",
    "\n",
    "    ax.set_title(f\"{esp_name}, ступеней = {z} шт. при частоте = {this_pump['freq_Hz']} Гц\")\n",
    "    plt.show()\n",
    "\n",
    "\n",
    "\n",
    "    print(\n",
    "        'h', find_amount_of_change_direction(h_esp_arr),\n",
    "        'power', find_amount_of_change_direction(power_esp_arr), \\\n",
    "    'eff', find_amount_of_change_direction(efficiency_esp_arr), \n",
    "        'h/power', find_amount_of_change_direction(h_esp_arr_div_power_esp_arr),\n",
    "        'final_solution', this_pump['amount_of_change_direction_combined_solution']\n",
    "        \n",
    "        \n",
    "    )"
   ]
  },
  {
   "cell_type": "code",
   "execution_count": null,
   "metadata": {},
   "outputs": [],
   "source": [
    "#график без номированной НРХ\n",
    "plot_pump_curve(q_arr, h_esp_arr, power_esp_arr, efficiency_esp_arr, 1000, esp_name, f=50, fnom=50, q_work = None,\n",
    "                   show = True)"
   ]
  },
  {
   "cell_type": "markdown",
   "metadata": {},
   "source": [
    "### Расчет итоговой выборки"
   ]
  },
  {
   "cell_type": "code",
   "execution_count": null,
   "metadata": {},
   "outputs": [],
   "source": [
    "clear_db_df_with_calc.shape[0], db_df.shape[0], clear_db_df.shape[0]\n"
   ]
  },
  {
   "cell_type": "code",
   "execution_count": null,
   "metadata": {},
   "outputs": [],
   "source": []
  }
 ],
 "metadata": {
  "kernelspec": {
   "display_name": "Python 3",
   "language": "python",
   "name": "python3"
  },
  "language_info": {
   "codemirror_mode": {
    "name": "ipython",
    "version": 3
   },
   "file_extension": ".py",
   "mimetype": "text/x-python",
   "name": "python",
   "nbconvert_exporter": "python",
   "pygments_lexer": "ipython3",
   "version": "3.8.5"
  },
  "toc": {
   "base_numbering": 1,
   "nav_menu": {},
   "number_sections": false,
   "sideBar": true,
   "skip_h1_title": false,
   "title_cell": "Table of Contents",
   "title_sidebar": "Contents",
   "toc_cell": false,
   "toc_position": {
    "height": "671.818px",
    "left": "535px",
    "top": "364.284px",
    "width": "440.753px"
   },
   "toc_section_display": true,
   "toc_window_display": true
  }
 },
 "nbformat": 4,
 "nbformat_minor": 4
}
