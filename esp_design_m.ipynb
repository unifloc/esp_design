{
 "cells": [
  {
   "cell_type": "markdown",
   "metadata": {},
   "source": [
    "### Тетрадка для дизайна и анализа, использующая функции с модуля *well_model*"
   ]
  },
  {
   "cell_type": "code",
   "execution_count": null,
   "metadata": {},
   "outputs": [],
   "source": [
    "import pandas as pd\n",
    "\n",
    "from plotly import graph_objects as go\n",
    "from plotly.offline import plot\n",
    "\n",
    "import matplotlib\n",
    "import matplotlib.pyplot as plt\n",
    "\n",
    "import numpy as np\n",
    "import tqdm\n",
    "\n",
    "import seaborn as sns\n",
    "\n",
    "from numba import jit\n",
    "\n",
    "from scipy import interpolate\n",
    "\n",
    "import shapely\n",
    "from shapely.geometry import LineString, Point\n",
    "import os\n",
    "\n",
    "os.chdir(r\"C:\\Git\\probability_calculations\")\n",
    "\n",
    "plt.rcParams[\"figure.figsize\"] = (15,10)\n",
    "\n",
    "import json\n",
    "\n",
    "import seaborn as sns\n",
    "import glob, os\n",
    "\n",
    "VBA_VERSION = '7.28'\n",
    "import well_model\n",
    "import mult"
   ]
  },
  {
   "cell_type": "code",
   "execution_count": null,
   "metadata": {},
   "outputs": [],
   "source": [
    "font = {#'family' : 'normal',\n",
    "        #'weight' : 'bold',\n",
    "        'size'   : 25}\n",
    "\n",
    "matplotlib.rc('font', **font)"
   ]
  },
  {
   "cell_type": "code",
   "execution_count": null,
   "metadata": {},
   "outputs": [],
   "source": [
    "import UniflocVBA.v7_25.python_api as python_api_7_25\n",
    "api = python_api_7_25.API(\"UniflocVBA/v7_25/UniflocVBA_7.xlam\")\n",
    "\n",
    "import UniflocVBA.v7_28.python_api as python_api_7_28\n",
    "api_new = python_api_7_28.API(\"UniflocVBA/v7_28/UniflocVBA_7_28.xlam\")\n",
    "api_new.encode_PVT()"
   ]
  },
  {
   "cell_type": "markdown",
   "metadata": {},
   "source": [
    "# TODO\n",
    "\n",
    "* Физика\n",
    "    * Отдебажить VBA - избавиться от пропусков в распределении\n",
    "    * Сделать качественные графики узлового анализа и прочих расчетов\n",
    "    * Запуск одной скважины скорректированный\n",
    "    \n",
    "* Логика расчетов\n",
    "    * Модульность\n",
    "    * Последовательность\n",
    "    * Сохранение всех результатов расчета через json\n",
    "    \n",
    "* Ускорение расчетов - потом\n",
    "    * Multiprocessing\n",
    "    * json настроек\n",
    "    * модульность\n",
    "    \n",
    "* Автоматический подбор\n",
    "    * Парсинг базы БД для выбора ЭЦН для данного распределения дебита - несколько насосов + \n",
    "    * Выбор насосов + \n",
    "    * Автоматический подбор нескольких скважин\n",
    "    * Поиск начального приближения для напора\n",
    "    \n",
    "    \n",
    "* Меньше счета, больше анализа - поймать полезность / робастность / влияние на решение\n",
    "    * Когда меняется решения\n",
    "    * Сравнить входные распределения параметров\n",
    "    * Сделать разные входные распределения\n",
    "    \n",
    "    \n",
    "* Итоговый вывод\n",
    "    * Полный pipeline по одной кнопке - исходные данные - подобрать - решение.\n",
    "    * Таблица сводная с EVM по к насосам и м напорам\n",
    "    \n",
    "    \n",
    "    \n",
    "Лог    \n",
    "13.05 - дебаг моделей - настройка навого pipeline\n",
    "\n",
    "14.05 - первый расчет по новому пайплайну - определение слабых мест и мест для развития - обсуждения с РА\n",
    "\n",
    "15.05 - дебаг физики и качественная визуализация \n",
    "\n",
    "16.05 - первая версия пайплайна и подбора\n",
    "\n",
    "17.05 - анализ данных - запуск дополнительного расчета\n",
    "\n",
    "18.05 - анализ данных - визуализация\n",
    "    \n",
    "19.05 - пропуск\n",
    "\n",
    "20.05 - переход на UniflocVBA_7_27, дебаг физики\n",
    "\n",
    "21.05 - переход на UniflocVBA_7_28\n",
    "    \n"
   ]
  },
  {
   "cell_type": "markdown",
   "metadata": {},
   "source": [
    "# start: boost"
   ]
  },
  {
   "cell_type": "code",
   "execution_count": null,
   "metadata": {},
   "outputs": [],
   "source": [
    "p_ar = np.arange(1, 300, 1)\n",
    "t_ar = np.arange(1, 200, 5)\n",
    "\n",
    "from itertools import product\n",
    "\n",
    "\n",
    "PVT_prop = api_new.encode_PVT()\n",
    "res = []\n",
    "for p, t in tqdm.tqdm(product(p_ar, t_ar), total = int(len(p_ar)*len(t_ar))):\n",
    "    this_dict = json.loads(api_new.PVT_calc(p, t,   PVT_prop))\n",
    "    this_dict['p'] = p\n",
    "    this_dict['t'] = t\n",
    "    res.append(pd.DataFrame(this_dict, index = [0]))\n",
    "\n",
    "    "
   ]
  },
  {
   "cell_type": "code",
   "execution_count": null,
   "metadata": {},
   "outputs": [],
   "source": [
    "res_df = pd.concat(res, ignore_index = True)"
   ]
  },
  {
   "cell_type": "code",
   "execution_count": null,
   "metadata": {},
   "outputs": [],
   "source": [
    "res_df"
   ]
  },
  {
   "cell_type": "code",
   "execution_count": null,
   "metadata": {},
   "outputs": [],
   "source": [
    "def norm(x, train_stats):\n",
    "    return (x - train_stats['mean']) / train_stats['std']\n",
    "def predict_parameter_via_nn(x_train, x_test, y_train, y_test=None, use_in_loop=True):\n",
    "    model = None\n",
    "    EPOCHS = 1000\n",
    "\n",
    "    train_dataset = x_train.copy()\n",
    "    test_dataset = x_test.copy()\n",
    "\n",
    "    train_dataset = train_dataset.reset_index(drop=True)\n",
    "\n",
    "    test_dataset = test_dataset.reset_index(drop=True)\n",
    "\n",
    "    train_labels = y_train.copy()\n",
    "\n",
    "    # print(f\"train_dataset = {x_train.shape}\")\n",
    "    # print(f\"test_dataset = {x_test.shape}\")\n",
    "    # print(f\"train_labels = {y_train.shape}\")\n",
    "    # print(f\"test_labels = {y_test.shape}\")\n",
    "\n",
    "    train_stats = train_dataset.describe()\n",
    "    # train_stats.pop(\"MPG\")\n",
    "    train_stats = train_stats.transpose()\n",
    "\n",
    "    if type(y_train) == pd.DataFrame:\n",
    "        target_name = y_train.columns[0]\n",
    "        train_labels = train_labels.pop(target_name)\n",
    "    else:\n",
    "        target_name = y_train.name\n",
    "        train_labels = train_labels\n",
    "\n",
    "    normed_train_data = norm(train_dataset, train_stats)\n",
    "    normed_test_data = norm(test_dataset, train_stats)\n",
    "\n",
    "    # print(normed_train_data.describe())\n",
    "\n",
    "    model = build_model(len(train_dataset.keys()))\n",
    "\n",
    "    # print(model.summary())\n",
    "\n",
    "    # print(f\"normed_train_data = {normed_train_data.shape}\")\n",
    "\n",
    "    # print(f\"train_labels = {train_labels.shape}\")\n",
    "\n",
    "    # The patience parameter is the amount of epochs to check for improvement\n",
    "    early_stop = keras.callbacks.EarlyStopping(monitor='val_loss', patience=20)\n",
    "\n",
    "    early_history = model.fit(normed_train_data, train_labels,\n",
    "                              epochs=EPOCHS, validation_split=0.2, verbose=1,\n",
    "                              callbacks=[\n",
    "                                  early_stop]\n",
    "                              )\n",
    "\n",
    "    test_predictions = model.predict(normed_test_data).flatten()\n",
    "\n",
    "    if not use_in_loop:\n",
    "        test_labels = y_test.copy()\n",
    "        test_labels = test_labels.pop(target_name)\n",
    "\n",
    "        plotter = tfdocs.plots.HistoryPlotter(smoothing_std=2)\n",
    "\n",
    "        plotter.plot({'Early Stopping': early_history}, metric=\"mae\")\n",
    "        # plt.ylim([0, 10])\n",
    "        plt.ylabel(f\"MAE [{target_name}]\")\n",
    "        plt.show()\n",
    "\n",
    "        loss, mae, mse = model.evaluate(normed_test_data, test_labels, verbose=2)\n",
    "\n",
    "        print(\"Testing set Mean Abs Error: {:5.2f} MPG\".format(mae))\n",
    "\n",
    "        a = plt.axes(aspect='equal')\n",
    "        plt.scatter(test_labels, test_predictions)\n",
    "        plt.xlabel(f\"True Values [{target_name}]\")\n",
    "        plt.ylabel(f\"Predictions [{target_name}]\")\n",
    "        lims = [0, max(test_predictions)]\n",
    "        plt.xlim(lims)\n",
    "        plt.ylim(lims)\n",
    "        _ = plt.plot(lims, lims)\n",
    "        plt.show()\n",
    "\n",
    "        error = test_predictions - test_labels\n",
    "        plt.hist(error, bins=25)\n",
    "        plt.xlabel(f\"Prediction Error [{target_name}]\")\n",
    "        _ = plt.ylabel(\"Count\")\n",
    "        plt.show()\n",
    "    # return test_labels, test_predictions\n",
    "    y_test = test_predictions\n",
    "    return y_test, model, 'neural network', early_history\n",
    "import tensorflow as tf\n",
    "from tensorflow import keras\n",
    "from tensorflow.keras import layers\n",
    "\n",
    "def build_model(input_shape):\n",
    "    model = keras.Sequential([\n",
    "        layers.Dense(10, activation='relu', input_shape=[input_shape]),\n",
    "        layers.Dense(10, activation='relu'),\n",
    "        layers.Dense(1)\n",
    "    ])\n",
    "\n",
    "    optimizer = tf.keras.optimizers.RMSprop(0.001)\n",
    "\n",
    "    model.compile(loss='mse',\n",
    "                  optimizer=optimizer,\n",
    "                  metrics=['mae', 'mse'])\n",
    "    return model"
   ]
  },
  {
   "cell_type": "code",
   "execution_count": null,
   "metadata": {},
   "outputs": [],
   "source": [
    "res_df_train = res_df.sample(frac=0.8)\n",
    "res_df_test = res_df[~res_df.index.isin(res_df_train.index)]\n",
    "res_df_train"
   ]
  },
  {
   "cell_type": "code",
   "execution_count": null,
   "metadata": {},
   "outputs": [],
   "source": [
    "res_df_test"
   ]
  },
  {
   "cell_type": "code",
   "execution_count": null,
   "metadata": {},
   "outputs": [],
   "source": [
    "x_train = res_df_train[['p', 't']]\n",
    "x_test = res_df_test[['p', 't']]\n",
    "\n",
    "y_train = res_df_train[['rs_m3m3']]\n",
    "y_test = res_df_test[['rs_m3m3']]\n"
   ]
  },
  {
   "cell_type": "code",
   "execution_count": null,
   "metadata": {},
   "outputs": [],
   "source": [
    "prediction, fitted_model, model_name, early_history = predict_parameter_via_nn(x_train, x_test, y_train,\n",
    "                                                               \n",
    "                                                               None, \n",
    "                                                               use_in_loop=True)"
   ]
  },
  {
   "cell_type": "code",
   "execution_count": null,
   "metadata": {},
   "outputs": [],
   "source": [
    "def plot_loss(history):\n",
    "    plt.plot(history.history['loss'], label='loss')\n",
    "    plt.plot(history.history['val_loss'], label='val_loss')\n",
    "    plt.ylim([0, 10])\n",
    "    plt.xlabel('Epoch')\n",
    "    plt.ylabel('Error [MPG]')\n",
    "    plt.legend()\n",
    "    plt.grid(True)"
   ]
  },
  {
   "cell_type": "code",
   "execution_count": null,
   "metadata": {},
   "outputs": [],
   "source": [
    "plot_loss(early_history)\n",
    "\n"
   ]
  },
  {
   "cell_type": "code",
   "execution_count": null,
   "metadata": {},
   "outputs": [],
   "source": [
    "np.mean((abs(prediction) - y_test.values.flatten()) / y_test.values.flatten())*100"
   ]
  },
  {
   "cell_type": "code",
   "execution_count": null,
   "metadata": {},
   "outputs": [],
   "source": [
    "from sklearn import metrics"
   ]
  },
  {
   "cell_type": "code",
   "execution_count": null,
   "metadata": {},
   "outputs": [],
   "source": [
    "plt.plot(abs(prediction), y_test.values.flatten(), 'o')\n",
    "plt.title(metrics.r2_score(y_test.values.flatten(), abs(prediction)))"
   ]
  },
  {
   "cell_type": "code",
   "execution_count": null,
   "metadata": {},
   "outputs": [],
   "source": [
    "fitted_model.predict(res_df_test[['p', 't']]).flatten()"
   ]
  },
  {
   "cell_type": "code",
   "execution_count": null,
   "metadata": {},
   "outputs": [],
   "source": [
    "prediction"
   ]
  },
  {
   "cell_type": "code",
   "execution_count": null,
   "metadata": {},
   "outputs": [],
   "source": [
    "x = norm(res_df_test[['p', 't']], res_df_test[['p', 't']].describe().T)\n",
    "y_pred, y = fitted_model.predict(x).flatten(), res_df_test['rs_m3m3']\n",
    "\n",
    "plt.plot(y,  y_pred, 'o')\n",
    "plt.title(metrics.r2_score(y, abs(y_pred)))\n"
   ]
  },
  {
   "cell_type": "code",
   "execution_count": null,
   "metadata": {},
   "outputs": [],
   "source": [
    "x = norm(res_df[['p', 't']], res_df[['p', 't']].describe().T)\n"
   ]
  },
  {
   "cell_type": "code",
   "execution_count": null,
   "metadata": {
    "scrolled": true
   },
   "outputs": [],
   "source": [
    "%%timeit\n",
    "\n",
    "y_pred = fitted_model.predict(x)"
   ]
  },
  {
   "cell_type": "code",
   "execution_count": null,
   "metadata": {},
   "outputs": [],
   "source": [
    "y_pred"
   ]
  },
  {
   "cell_type": "code",
   "execution_count": null,
   "metadata": {},
   "outputs": [],
   "source": [
    "%%timeit\n",
    "for i in tqdm.tqdm(x.index):\n",
    "    this_x = res_df[res_df.index == i]\n",
    "    y_pred = api_new.PVT_calc(this_x['p'].values[0], this_x['t'].values[0], PVT_prop)[0][0]"
   ]
  },
  {
   "cell_type": "code",
   "execution_count": null,
   "metadata": {},
   "outputs": [],
   "source": [
    "def predict_parameter_via_lightgbm(x_train, x_test, y_train):\n",
    "    x_train = x_train.values\n",
    "    x_test = x_test.values\n",
    "    y_train = y_train.values\n",
    "\n",
    "    #sc = StandardScaler()\n",
    "    #sc.fit(x_train)\n",
    "    #x_train = sc.transform(x_train)\n",
    "    #x_test = sc.transform(x_test)\n",
    "\n",
    "    clf = LGBMRegressor(\n",
    "        # n_estimators=50,\n",
    "        # n_estimators=i,\n",
    "        # num_boost_round=i,\n",
    "        # learning_rate=1/i,\n",
    "        # num_leaves=i,\n",
    "        # colsample_bytree=1 / 2.5, #TODO спросить, для нее важен порядок колонок dp на клапане в начале или в середине\n",
    "        # learning_rate=0.01,\n",
    "        # subsample=1/i,\n",
    "        # num_leaves=i,\n",
    "        # max_depth=i**2+1,\n",
    "        # reg_alpha=1/i,\n",
    "        # reg_lambda=1/i,\n",
    "        # min_split_gain=1/i,\n",
    "        # min_child_weight=i,\n",
    "    )\n",
    "\n",
    "\n",
    "    clf.fit(\n",
    "        x_train, y_train\n",
    "    )\n",
    "\n",
    "    y_pred = clf.predict(x_test)\n",
    "    return y_pred, clf, 'lightgbm'\n",
    "\n",
    "from lightgbm import LGBMRegressor\n"
   ]
  },
  {
   "cell_type": "code",
   "execution_count": null,
   "metadata": {},
   "outputs": [],
   "source": [
    "x_train = res_df_train[['p', 't']]\n",
    "x_test = res_df_test[['p', 't']]\n",
    "\n",
    "y_train = res_df_train[['rs_m3m3']]\n",
    "y_test = res_df_test[['rs_m3m3']]\n"
   ]
  },
  {
   "cell_type": "code",
   "execution_count": null,
   "metadata": {},
   "outputs": [],
   "source": [
    "prediction, fitted_model, model_name = predict_parameter_via_lightgbm(x_train, x_test, y_train)"
   ]
  },
  {
   "cell_type": "code",
   "execution_count": null,
   "metadata": {},
   "outputs": [],
   "source": [
    "plt.plot(abs(prediction), y_test.values.flatten(), 'o')\n",
    "plt.title(metrics.r2_score(y_test.values.flatten(), abs(prediction)))"
   ]
  },
  {
   "cell_type": "code",
   "execution_count": null,
   "metadata": {},
   "outputs": [],
   "source": [
    "%%timeit\n",
    "\n",
    "y_pred = fitted_model.predict(res_df[['p', 't']])"
   ]
  },
  {
   "cell_type": "code",
   "execution_count": null,
   "metadata": {},
   "outputs": [],
   "source": [
    "fitted_model"
   ]
  },
  {
   "cell_type": "code",
   "execution_count": null,
   "metadata": {},
   "outputs": [],
   "source": [
    "y_pred, y = fitted_model.predict(res_df[['p', 't']]), res_df['rs_m3m3'].values.flatten()\n",
    "plt.plot(abs(y_pred), y, 'o')\n",
    "plt.title(metrics.r2_score(y, abs(y_pred)))"
   ]
  },
  {
   "cell_type": "code",
   "execution_count": null,
   "metadata": {},
   "outputs": [],
   "source": [
    "len(y_pred)"
   ]
  },
  {
   "cell_type": "code",
   "execution_count": null,
   "metadata": {},
   "outputs": [],
   "source": [
    "import m2cgen as m2c\n"
   ]
  },
  {
   "cell_type": "code",
   "execution_count": null,
   "metadata": {},
   "outputs": [],
   "source": [
    "code = m2c.export_to_python(fitted_model)\n",
    "code"
   ]
  },
  {
   "cell_type": "code",
   "execution_count": null,
   "metadata": {},
   "outputs": [],
   "source": [
    "f = open(\"ml_model.py\", \"w\")\n",
    "f.write(code)\n",
    "f.close()"
   ]
  },
  {
   "cell_type": "code",
   "execution_count": null,
   "metadata": {},
   "outputs": [],
   "source": [
    "import ml_model"
   ]
  },
  {
   "cell_type": "code",
   "execution_count": null,
   "metadata": {},
   "outputs": [],
   "source": [
    "x = norm(res_df[['p', 't']], res_df[['p', 't']].describe().T)\n"
   ]
  },
  {
   "cell_type": "code",
   "execution_count": null,
   "metadata": {},
   "outputs": [],
   "source": [
    "%%timeit\n",
    "for i in tqdm.tqdm(x.index):\n",
    "    this_x = res_df[res_df.index == i]\n",
    "    y_pred = ml_model.score([this_x['p'].values[0], this_x['t'].values[0]])"
   ]
  },
  {
   "cell_type": "code",
   "execution_count": null,
   "metadata": {},
   "outputs": [],
   "source": [
    "ml_model.score([20, 20])"
   ]
  },
  {
   "cell_type": "markdown",
   "metadata": {},
   "source": [
    "# end. boost"
   ]
  },
  {
   "cell_type": "markdown",
   "metadata": {},
   "source": [
    "# Функции для работы с НРХ"
   ]
  },
  {
   "cell_type": "code",
   "execution_count": null,
   "metadata": {},
   "outputs": [],
   "source": [
    "plot_pump_curve = well_model.plot_pump_curve\n",
    "\n",
    "interp_df = well_model.interp_df\n",
    "\n",
    "calc_num_stages = well_model.calc_num_stages\n"
   ]
  },
  {
   "cell_type": "markdown",
   "metadata": {},
   "source": [
    "# Функция для расчета IPR по Вогелю (быстрая) Qliq"
   ]
  },
  {
   "cell_type": "code",
   "execution_count": null,
   "metadata": {},
   "outputs": [],
   "source": [
    "calc_QliqVogel_m3Day = well_model.calc_QliqVogel_m3Day"
   ]
  },
  {
   "cell_type": "markdown",
   "metadata": {},
   "source": [
    "# Создание нормального распределения"
   ]
  },
  {
   "cell_type": "code",
   "execution_count": null,
   "metadata": {},
   "outputs": [],
   "source": [
    "create_normal_dist = well_model.create_normal_dist\n",
    "\n",
    "dist = create_normal_dist(2, 1, 10**6, plot=False)"
   ]
  },
  {
   "cell_type": "markdown",
   "metadata": {},
   "source": [
    "# Расчетные функции"
   ]
  },
  {
   "cell_type": "markdown",
   "metadata": {},
   "source": [
    "## Базовые параметры расчета"
   ]
  },
  {
   "cell_type": "code",
   "execution_count": null,
   "metadata": {},
   "outputs": [],
   "source": [
    "params = mult.params.copy()\n"
   ]
  },
  {
   "cell_type": "markdown",
   "metadata": {},
   "source": [
    "## Расчет физической модели"
   ]
  },
  {
   "cell_type": "markdown",
   "metadata": {},
   "source": [
    "### Определения функции calc_esp"
   ]
  },
  {
   "cell_type": "code",
   "execution_count": null,
   "metadata": {},
   "outputs": [],
   "source": [
    "debug = True\n",
    "\n",
    "calc_esp_old = well_model.calc_esp_old\n",
    "\n",
    "calc_esp_new = well_model.calc_esp_new\n"
   ]
  },
  {
   "cell_type": "markdown",
   "metadata": {},
   "source": [
    "#### ЭЦН UniflocVBA 7.25 тест"
   ]
  },
  {
   "cell_type": "code",
   "execution_count": null,
   "metadata": {},
   "outputs": [],
   "source": [
    "p_esp_dis, gas_fraction_intake, eff, head_esp, power_esp, r, q_mix_pump_mean = calc_esp_new(params, api.PVT_encode_string(),\n",
    "                                                                                            50, 110, m_api=api)\n",
    "r"
   ]
  },
  {
   "cell_type": "markdown",
   "metadata": {},
   "source": [
    "#### ЭЦН UniflocVBA 7.28 тест"
   ]
  },
  {
   "cell_type": "code",
   "execution_count": null,
   "metadata": {},
   "outputs": [],
   "source": [
    "calc_esp_new_7_28 = well_model.calc_esp_new_7_28"
   ]
  },
  {
   "cell_type": "code",
   "execution_count": null,
   "metadata": {},
   "outputs": [],
   "source": [
    "p_esp_dis, gas_fraction_intake, eff, head_esp, power_esp, r, q_mix_pump_mean = calc_esp_new_7_28(params, api.PVT_encode_string(), \n",
    "                                                                                                 50, 110, m_api=api_new)\n",
    "r    "
   ]
  },
  {
   "cell_type": "markdown",
   "metadata": {},
   "source": [
    "### Определение функции для построения НРХ в условиях работы"
   ]
  },
  {
   "cell_type": "code",
   "execution_count": null,
   "metadata": {},
   "outputs": [],
   "source": [
    "plot_pump_curves = well_model.plot_pump_curves"
   ]
  },
  {
   "cell_type": "markdown",
   "metadata": {},
   "source": [
    "#### Сравнение ЭЦН для 7.25 и 7.28"
   ]
  },
  {
   "cell_type": "code",
   "execution_count": null,
   "metadata": {},
   "outputs": [],
   "source": [
    "p_intake, t_intake = 50, 70\n",
    "params['ksep_fr'] = 0.7\n",
    "params['qliq_sm3day_range'] = np.arange(1, 80, 5)\n",
    "d = params.copy()\n",
    "str_PVT_tube = api.PVT_encode_string(gamma_gas=d['gamma_gas'],\n",
    "                gamma_oil=d['gamma_oil'],\n",
    "                gamma_wat=d['gamma_wat'],\n",
    "                rsb_m3m3=d['rsb_m3m3'],\n",
    "                rp_m3m3=d['rp_m3m3'],\n",
    "                pb_atma=d['pb_atma'],\n",
    "                t_res_C=d['t_res_C'],\n",
    "                bob_m3m3=d['bob_m3m3'],\n",
    "                muob_cP=d['muob_cP'],\n",
    "                PVTcorr=d['PVTcorr'],\n",
    "                ksep_fr=d['ksep_fr'],\n",
    "                p_ksep_atma=float(p_intake),\n",
    "                t_ksep_C=float(t_intake),\n",
    "                gas_only=False)\n",
    "print(f\"UniflocVBA 7.28\")\n",
    "plot_pump_curves(params, None, None,  None,  p_intake, t_intake, None, q_mix_pump_mean, \n",
    "                 qliq_on_surface=True, vba_version='7.28', api=api, api_new=api_new)\n",
    "print(f\"UniflocVBA 7.25\")\n",
    "plot_pump_curves(params, None, None,  None, p_intake, t_intake, str_PVT_tube, q_mix_pump_mean, \n",
    "                 qliq_on_surface=True, vba_version='7.25', api=api, api_new=api_new)"
   ]
  },
  {
   "cell_type": "markdown",
   "metadata": {},
   "source": [
    "### Определение функции для построения КРД и КРТ"
   ]
  },
  {
   "cell_type": "code",
   "execution_count": null,
   "metadata": {},
   "outputs": [],
   "source": [
    "plot_well_curves = well_model.plot_well_curves"
   ]
  },
  {
   "cell_type": "markdown",
   "metadata": {},
   "source": [
    "### Определения функции calc_model"
   ]
  },
  {
   "cell_type": "markdown",
   "metadata": {},
   "source": [
    "#### Модель UniflocVBA 7.25"
   ]
  },
  {
   "cell_type": "code",
   "execution_count": null,
   "metadata": {},
   "outputs": [],
   "source": [
    "calc_model = well_model.calc_model"
   ]
  },
  {
   "cell_type": "code",
   "execution_count": null,
   "metadata": {},
   "outputs": [],
   "source": [
    "p_dis, p_esp_dis, str_PVT_tube, p_intake, t_intake,  eff, head_esp, power_esp, gas_fraction_intake,\\\n",
    "                    casing_pipe, tube_pipe, q_mix_pump_mean, esp_df= calc_model(params, m_api=api)"
   ]
  },
  {
   "cell_type": "code",
   "execution_count": null,
   "metadata": {},
   "outputs": [],
   "source": [
    "pd.DataFrame(casing_pipe)"
   ]
  },
  {
   "cell_type": "code",
   "execution_count": null,
   "metadata": {},
   "outputs": [],
   "source": [
    "plot_well_curves(p_dis, p_esp_dis, str_PVT_tube, p_intake, t_intake,  eff, head_esp, \n",
    "                 power_esp, gas_fraction_intake,\n",
    "                    casing_pipe, tube_pipe, params)"
   ]
  },
  {
   "cell_type": "markdown",
   "metadata": {},
   "source": [
    "#### Модель UniflocVBA 7.28"
   ]
  },
  {
   "cell_type": "code",
   "execution_count": null,
   "metadata": {},
   "outputs": [],
   "source": [
    "calc_model_new_7_28 = well_model.calc_model_new_7_28"
   ]
  },
  {
   "cell_type": "code",
   "execution_count": null,
   "metadata": {},
   "outputs": [],
   "source": [
    "params['temp_method'] = 2"
   ]
  },
  {
   "cell_type": "code",
   "execution_count": null,
   "metadata": {},
   "outputs": [],
   "source": [
    "p_dis, p_esp_dis, str_PVT_tube, p_intake, t_intake,  eff, head_esp, power_esp, gas_fraction_intake,\\\n",
    "                    casing_pipe, tube_pipe, q_mix_pump_mean, esp_df= calc_model_new_7_28(params, m_api=api_new)"
   ]
  },
  {
   "cell_type": "code",
   "execution_count": null,
   "metadata": {},
   "outputs": [],
   "source": [
    "plot_well_curves(p_dis, p_esp_dis, str_PVT_tube, p_intake, t_intake,  eff, head_esp, power_esp, gas_fraction_intake,\n",
    "                    casing_pipe, tube_pipe, params)"
   ]
  },
  {
   "cell_type": "markdown",
   "metadata": {},
   "source": [
    "### Построение VLP"
   ]
  },
  {
   "cell_type": "code",
   "execution_count": null,
   "metadata": {},
   "outputs": [],
   "source": [
    "test_params = params.copy()\n",
    "lr = []\n",
    "\n",
    "\n",
    "q_range = list(range(1, 150,2))\n",
    "for i in q_range:\n",
    "    test_params['qliq_sm3day'] = i  \n",
    "\n",
    "    r = calc_model_new_7_28(test_params, m_api=api_new)\n",
    "    #r = calc_model(test_params, m_api=api)\n",
    "    \n",
    "    lr.append(r)\n",
    "    "
   ]
  },
  {
   "cell_type": "code",
   "execution_count": null,
   "metadata": {},
   "outputs": [],
   "source": [
    "plt.plot(q_range, [x[0] for x in lr], label = 'pdis')\n",
    "plt.plot(q_range, [x[1] for x in lr], label = 'p_esp_dis')\n",
    "plt.plot(q_range, [x[3] for x in lr], label = 'p_intake')\n",
    "\n",
    "plt.legend()"
   ]
  },
  {
   "cell_type": "code",
   "execution_count": null,
   "metadata": {},
   "outputs": [],
   "source": [
    "plt.plot(q_range, [x[-2] for x in lr], label = 'q_mix_pump_mean')\n",
    "\n",
    "plt.legend()"
   ]
  },
  {
   "cell_type": "code",
   "execution_count": null,
   "metadata": {},
   "outputs": [],
   "source": [
    "plt.plot(q_range, [x[-5] for x in lr], label = 'gas_fraction_intake')\n",
    "\n",
    "plt.legend()"
   ]
  },
  {
   "cell_type": "code",
   "execution_count": null,
   "metadata": {},
   "outputs": [],
   "source": [
    "plt.plot(q_range, [x[0] for x in lr], label = 'pdis')\n",
    "plt.plot(q_range, [x[1] for x in lr], label = 'p_esp_dis')\n",
    "plt.plot(q_range, [x[3] for x in lr], label = 'p_intake')\n",
    "\n",
    "plt.legend()"
   ]
  },
  {
   "cell_type": "markdown",
   "metadata": {},
   "source": [
    "### Функции для построения НРХ в условиях работы"
   ]
  },
  {
   "cell_type": "code",
   "execution_count": null,
   "metadata": {
    "scrolled": false
   },
   "outputs": [],
   "source": [
    "params['qliq_sm3day_range'] = range(1, 100)\n",
    "plot_pump_curves(params, head_esp, power_esp, eff, p_intake, t_intake, str_PVT_tube, q_mix_pump_mean, qliq_on_surface=False,\n",
    "                api=api, api_new=api_new)\n",
    "plot_pump_curves(params, head_esp, power_esp, eff, p_intake, t_intake, str_PVT_tube, q_mix_pump_mean, qliq_on_surface=True,\n",
    "                api=api, api_new=api_new)"
   ]
  },
  {
   "cell_type": "markdown",
   "metadata": {},
   "source": [
    "## Определение основной расчетной функции узлового анализа"
   ]
  },
  {
   "cell_type": "code",
   "execution_count": null,
   "metadata": {},
   "outputs": [],
   "source": [
    "calc_all = well_model.calc_all\n",
    "\n",
    "save_in_df = well_model.save_in_df\n",
    "\n"
   ]
  },
  {
   "cell_type": "code",
   "execution_count": null,
   "metadata": {},
   "outputs": [],
   "source": [
    "#os.system(\"taskkill /f /im EXCEL.EXE\")"
   ]
  },
  {
   "cell_type": "markdown",
   "metadata": {},
   "source": [
    "# Проверка рабочей функции"
   ]
  },
  {
   "cell_type": "code",
   "execution_count": null,
   "metadata": {},
   "outputs": [],
   "source": [
    "params_saved = params.copy()\n",
    "params_saved"
   ]
  },
  {
   "cell_type": "code",
   "execution_count": null,
   "metadata": {
    "scrolled": false
   },
   "outputs": [],
   "source": [
    "matplotlib.rcParams.update({'font.size': 12})\n",
    "params['n_dots_for_nodal']  = 20\n",
    "params['calc_esp_new'] = 1\n",
    "params['hydr_corr'] = 1\n",
    "params = mult.params.copy()\n",
    "params['freq_Hz'] = 60\n",
    "#params['ESP_gas_correct'] = 5\n",
    "#params['pi_sm3dayatm'] = 0.9\n",
    "#params['h_pump_m'] = 2661\n",
    "#params['ksep_fr'] = 0.8\n",
    "#params['p_wh_atm'] = 15\n",
    "params['num_stages'] = 604\n",
    "\n",
    "\n",
    "casing_pipe, tube_pipe, h_mes, head_esp, eff, power_esp, q_liq, status, gas_fraction_intake,\\\n",
    "p_bhp_atm, p_dis, p_esp_dis, json_params, q_mix_pump_mean, esp_df  = calc_all(params, debug=1, vba_version='7.28',\n",
    "                                                                             api=api, api_new=api_new)"
   ]
  },
  {
   "cell_type": "code",
   "execution_count": null,
   "metadata": {},
   "outputs": [],
   "source": [
    "esp_df"
   ]
  },
  {
   "cell_type": "code",
   "execution_count": null,
   "metadata": {},
   "outputs": [],
   "source": [
    "params_saved = params.copy()\n",
    "params_saved"
   ]
  },
  {
   "cell_type": "code",
   "execution_count": null,
   "metadata": {
    "scrolled": true
   },
   "outputs": [],
   "source": [
    "matplotlib.rcParams.update({'font.size': 12})\n",
    "params['n_dots_for_nodal']  = 20\n",
    "params['calc_esp_new'] = 1\n",
    "params['hydr_corr'] = 1\n",
    "\n",
    "casing_pipe, tube_pipe, h_mes, head_esp, eff, power_esp, q_liq, status, gas_fraction_intake,\\\n",
    "p_bhp_atm, p_dis, p_esp_dis, json_params, q_mix_pump_mean, esp_df  = calc_all(params, debug=1, vba_version='7.25',\n",
    "                                                                             api=api, api_new=api_new)\n",
    "casing_pipe, tube_pipe, h_mes, head_esp, eff, power_esp, q_liq, status, gas_fraction_intake,\\\n",
    "p_bhp_atm, p_dis, p_esp_dis, json_params, q_mix_pump_mean, esp_df  = calc_all(params, debug=1, vba_version='7.28',\n",
    "                                                                             api=api, api_new=api_new)"
   ]
  },
  {
   "cell_type": "code",
   "execution_count": null,
   "metadata": {
    "scrolled": false
   },
   "outputs": [],
   "source": [
    "matplotlib.rcParams.update({'font.size': 12})\n",
    "params['n_dots_for_nodal']  = 20\n",
    "params['calc_esp_new'] = 1\n",
    "params['hydr_corr'] = 1\n",
    "casing_pipe, tube_pipe, h_mes, head_esp, eff, power_esp, q_liq, status, gas_fraction_intake,\\\n",
    "p_bhp_atm, p_dis, p_esp_dis, json_params, q_mix_pump_mean, esp_df  = calc_all(params, debug=1, vba_version='7.25',\n",
    "                                                                             api=api, api_new=api_new)\n",
    "casing_pipe, tube_pipe, h_mes, head_esp, eff, power_esp, q_liq, status, gas_fraction_intake,\\\n",
    "p_bhp_atm, p_dis, p_esp_dis, json_params, q_mix_pump_mean, esp_df  = calc_all(params, debug=1, vba_version='7.28',\n",
    "                                                                             api=api, api_new=api_new)"
   ]
  },
  {
   "cell_type": "code",
   "execution_count": null,
   "metadata": {
    "scrolled": false
   },
   "outputs": [],
   "source": [
    "params['n_dots_for_nodal']  = 20\n",
    "params['calc_esp_new'] = 1\n",
    "params['esp_head_m'] = 1800\n",
    "params['num_stages'] = calc_num_stages(params, api=api, api_new=api_new, vba_version=VBA_VERSION)\n",
    "casing_pipe, tube_pipe, h_mes, head_esp, eff, power_esp, q_liq, status, gas_fraction_intake,\\\n",
    "p_bhp_atm, p_dis, p_esp_dis, json_params, q_mix_pump_mean, esp_df  = calc_all(params, debug=1, vba_version='7.28',\n",
    "                                                                             api=api, api_new=api_new)"
   ]
  },
  {
   "cell_type": "code",
   "execution_count": null,
   "metadata": {},
   "outputs": [],
   "source": [
    "#params['calc_esp_new'] = 0\n",
    "#casing_pipe, tube_pipe, h_mes, head_esp, eff, power_esp, q_liq, status, gas_fraction_intake,\\\n",
    "#p_bhp_atm, p_dis, p_esp_dis = calc_all(params)"
   ]
  },
  {
   "cell_type": "markdown",
   "metadata": {},
   "source": [
    "## Анализ системы (анализ чувствительности для узлового анализа)"
   ]
  },
  {
   "cell_type": "code",
   "execution_count": null,
   "metadata": {},
   "outputs": [],
   "source": [
    "sens_params = params.copy()\n",
    "sens_params"
   ]
  },
  {
   "cell_type": "markdown",
   "metadata": {},
   "source": [
    "### Коэффициент продуктивности"
   ]
  },
  {
   "cell_type": "code",
   "execution_count": null,
   "metadata": {
    "scrolled": true
   },
   "outputs": [],
   "source": [
    "res_list2 = []\n",
    "sens_params['n_dots_for_nodal']  = 20\n",
    "sens_params['pump_id'] = 2753 #100 проблемная\n",
    "sens_params['esp_head_m'] = 1500\n",
    "sensed_param = np.arange(0.5, 3, 0.3)\n",
    "stack_values = []\n",
    "for i in tqdm.tqdm(sensed_param):\n",
    "    print('\\n')\n",
    "    print('i', i)\n",
    "    sens_params['pi_sm3dayatm'] = i\n",
    "    res = calc_all(sens_params, debug=1, vba_version='7.25', api=api, api_new=api_new)\n",
    "    casing_pipe, tube_pipe, h_mes, head_esp, eff, power_esp, q_liq, status, gas_fraction_intake,\\\n",
    "    p_bhp_atm, p_dis, p_esp_dis, json_params, q_mix_pump_mean, esp_df = res\n",
    "    res_list2.append(res)\n",
    "    this_values = ('head_esp',  head_esp, 'eff', eff, 'power_esp', power_esp, 'q_liq', q_liq,  'gas_fraction_intake', gas_fraction_intake,\n",
    "        'p_bhp_atm', p_bhp_atm, 'p_dis', p_dis, 'p_esp_dis',  p_esp_dis, 'q_mix_pump_mean', q_mix_pump_mean)\n",
    "    \n",
    "    stack_values.append(this_values)\n",
    "    print(this_values)"
   ]
  },
  {
   "cell_type": "code",
   "execution_count": null,
   "metadata": {
    "scrolled": false
   },
   "outputs": [],
   "source": [
    "fig = plt.Figure()\n",
    "plt.plot([x[6] for x in res_list2],\n",
    "         [x[4] for x in res_list2], 'o-', label = 'КПД, д.ед.')\n",
    "plt.xlabel('Дебит жидкости в поверхностных условиях, м3/сут')\n",
    "plt.ylabel('КПД, д.ед.')\n",
    "plt.title('Системный анализ чувствительности')\n",
    "plt.show()\n",
    "\n",
    "\n",
    "for i in [\n",
    "    [ [x[6] for x in res_list2], 'Дебит жидкости в поверхностных условиях, м3/сут'],\n",
    "    [sensed_param, 'Кпрод, м3/сут/атм'],\n",
    "    [  [x[13] for x in res_list2], 'Средний расход ГЖС через ЭЦН, м3/сут']\n",
    "    ]:\n",
    "    sensed_x = i[0]\n",
    "    sensed_x_name = i[1]\n",
    "    \n",
    "    \n",
    "    fig = plt.Figure()\n",
    "    plt.plot(sensed_x,\n",
    "             [x[11] for x in res_list2], 'o-', label = 'Давление на выкиде ЭЦН по ЭЦН, атм')\n",
    "    plt.plot(sensed_x,\n",
    "             [x[10] for x in res_list2], 'o-', label = 'Давление на выкиде ЭЦН по трубе, атм')\n",
    "    plt.plot(sensed_x,\n",
    "             [x[9] for x in res_list2], 'o-', label = 'Забойное давление, атм')\n",
    "    plt.plot(sensed_x,\n",
    "             [x[14][3][3] for x in res_list2], 'o-', label = 'Давление на приеме ЭЦН, атм')\n",
    "    \n",
    "    plt.xlabel(sensed_x_name)\n",
    "    plt.ylabel('Давление, атм')\n",
    "    plt.title('Системный анализ чувствительности')\n",
    "    plt.legend()\n",
    "    plt.show()\n",
    "\n",
    "\n",
    "plt.plot(sensed_param,\n",
    "         [x[4] for x in res_list2], 'o-', label = 'КПД, д.ед.')\n",
    "plt.xlabel('Кпрод, м3/сут/атм')\n",
    "plt.ylabel('КПД')\n",
    "plt.title('Системный анализ чувствительности')\n",
    "plt.legend()\n",
    "plt.show()\n",
    "\n",
    "\n",
    "\n",
    "plt.plot( [x[4] for x in res_list2],\n",
    "         [x[8] for x in res_list2], 'o-', label = 'Доля газа на приеме ЭЦН (после сепарации), д.ед.')\n",
    "plt.xlabel('Дебит жидкости в поверхностных условиях, м3/сут')\n",
    "plt.ylabel('Доля газа на приеме ЭЦН (после сепарации), д.ед.')\n",
    "plt.title('Системный анализ чувствительности')\n",
    "plt.legend()\n",
    "plt.show()"
   ]
  },
  {
   "cell_type": "code",
   "execution_count": null,
   "metadata": {},
   "outputs": [],
   "source": [
    "sensed_param"
   ]
  },
  {
   "cell_type": "code",
   "execution_count": null,
   "metadata": {},
   "outputs": [],
   "source": [
    "sens_params"
   ]
  },
  {
   "cell_type": "code",
   "execution_count": null,
   "metadata": {
    "scrolled": false
   },
   "outputs": [],
   "source": [
    "i_iter = -1\n",
    "sens_params['bob_m3m3'] = 1.2\n",
    "sens_params['muob_cP'] = 1\n",
    "sens_params['diam_list_mm_tube'] = 60\n",
    "\n",
    "sens_params['n_dots_for_nodal']  = 20\n",
    "sens_params['pump_id'] = 2753 #100 проблемная\n",
    "sens_params['esp_head_m'] = 1500\n",
    "sens_params['pi_sm3dayatm'] = sensed_param[i_iter]\n",
    "sens_params['hydr_corr'] = 1\n",
    "sens_params['ksep_fr'] = 0\n",
    "res = calc_all(sens_params, debug=1, vba_version='7.28', api=api, api_new=api_new)\n",
    "casing_pipe, tube_pipe, h_mes, head_esp, eff, power_esp, q_liq, status, gas_fraction_intake,\\\n",
    "p_bhp_atm, p_dis, p_esp_dis, json_params, q_mix_pump_mean, esp_df = res\n",
    "\n",
    "print('from loop')\n",
    "print(stack_values[i_iter])\n",
    "print('this')\n",
    "print(( 'head_esp',  head_esp, 'eff', eff, 'power_esp', power_esp, 'q_liq', q_liq,  'gas_fraction_intake', gas_fraction_intake,\n",
    "'p_bhp_atm', p_bhp_atm, 'p_dis', p_dis, 'p_esp_dis',  p_esp_dis, 'q_mix_pump_mean', q_mix_pump_mean))\n",
    "\n"
   ]
  },
  {
   "cell_type": "markdown",
   "metadata": {},
   "source": [
    "### Насосы"
   ]
  },
  {
   "cell_type": "code",
   "execution_count": null,
   "metadata": {
    "scrolled": false
   },
   "outputs": [],
   "source": [
    "sens_params = params.copy()\n",
    "sens_params['qliq_sm3day_range'] = np.arange(1, 200, 5)\n",
    "for i in [2753, #страння характеристика эцн-100 - из-за округлений\n",
    "          #1460, #125\n",
    "           # 936, #83\n",
    "          #1153, #80\n",
    "         ]:\n",
    "\n",
    "    sens_params['pump_id'] = i\n",
    "    plot_pump_curves(sens_params, None, None, None, 50, 80, api.PVT_encode_string(ksep_fr=0.7, \n",
    "                                                                                  p_ksep_atma=50,\n",
    "                                                                                 t_ksep_C=80), None, qliq_on_surface=True,\n",
    "                                                                                    vba_version='7.28', api=api,\n",
    "                                                                                    api_new=api_new)\n",
    "    plot_pump_curves(sens_params, None, None, None, 50, 80, api.PVT_encode_string(ksep_fr=0.7, \n",
    "                                                                                  p_ksep_atma=50,\n",
    "                                                                                 t_ksep_C=80), None, qliq_on_surface=False,\n",
    "                                                                                    vba_version='7.28', api=api,\n",
    "                                                                                    api_new=api_new)\n",
    "    plot_pump_curves(sens_params, None, None, None, 50, 80, api.PVT_encode_string(ksep_fr=0.7, \n",
    "                                                                                  p_ksep_atma=50,\n",
    "                                                                                 t_ksep_C=80), None, qliq_on_surface=True,\n",
    "                                                                                    vba_version='7.25', api=api,\n",
    "                                                                                    api_new=api_new)\n",
    "    plot_pump_curves(sens_params, None, None, None, 50, 80, api.PVT_encode_string(ksep_fr=0.7, \n",
    "                                                                                  p_ksep_atma=50,\n",
    "                                                                                 t_ksep_C=80), None, qliq_on_surface=False,\n",
    "                                                                                    vba_version='7.25', api=api,\n",
    "                                                                                    api_new=api_new) \n",
    "    \n",
    "    "
   ]
  },
  {
   "cell_type": "markdown",
   "metadata": {},
   "source": [
    "# Расчет\n",
    "\n",
    "## Определение неопределенности работы пласта"
   ]
  },
  {
   "cell_type": "code",
   "execution_count": null,
   "metadata": {},
   "outputs": [],
   "source": [
    "params = mult.params\n",
    "params"
   ]
  },
  {
   "cell_type": "code",
   "execution_count": null,
   "metadata": {
    "scrolled": false
   },
   "outputs": [],
   "source": [
    "os.chdir(r\"C:\\Git\\probability_calculations\")\n",
    "\n",
    "debug=1\n",
    "\n",
    "create_q_dist = well_model.create_q_dist\n",
    "\n",
    "all_stats_q_new, pi_mc, dist_p_res = create_q_dist(params, pi_mean = params['pi_sm3dayatm'], pi_std = 0.10, \n",
    "                  pres_std = 10,\n",
    "                  num_simulations= 1_00_000, debug=debug)"
   ]
  },
  {
   "cell_type": "markdown",
   "metadata": {},
   "source": [
    "#### Сохранение распределений"
   ]
  },
  {
   "cell_type": "code",
   "execution_count": null,
   "metadata": {},
   "outputs": [],
   "source": [
    "distr_json = {'all_stats_q_new': list(all_stats_q_new), \n",
    "             'pi_mc': list(pi_mc),\n",
    "              'dist_p_res': list(dist_p_res)\n",
    "             \n",
    "             \n",
    "             }"
   ]
  },
  {
   "cell_type": "code",
   "execution_count": null,
   "metadata": {},
   "outputs": [],
   "source": [
    "with open('distr.txt', 'w') as json_file:\n",
    "    json.dump(distr_json, json_file)"
   ]
  },
  {
   "cell_type": "markdown",
   "metadata": {},
   "source": [
    "#### Загрузка распределений\n"
   ]
  },
  {
   "cell_type": "code",
   "execution_count": null,
   "metadata": {},
   "outputs": [],
   "source": [
    "with open('distr_wide.txt') as json_file:\n",
    "    data = json.load(json_file)\n",
    "all_stats_q_new, pi_mc, dist_p_res = data['all_stats_q_new'], data['pi_mc'], data['dist_p_res']\n",
    "plt.hist(all_stats_q_new,density=True,  alpha=0.9, bins = 100, label = f\"1 вариант. $\\sigma_1$. Qж ср. = {round(np.mean(all_stats_q_new), 1)} м3/сут\")\n",
    "\n",
    "\n",
    "#with open('distr_narrow.txt') as json_file:\n",
    "#    data = json.load(json_file)\n",
    "#all_stats_q_new, pi_mc, dist_p_res = data['all_stats_q_new'], data['pi_mc'], data['dist_p_res']\n",
    "#plt.hist(all_stats_q_new,density=True, alpha=0.8, bins = 100, label = f\"2 вариант. $\\sigma_2 = \\sigma_1/4$. Qж ср. = {round(np.mean(all_stats_q_new), 3)} м3/сут\")\n",
    "\n",
    "\n",
    "plt.axvline(x=np.quantile(all_stats_q_new, q=0.5), c = 'r')\n",
    "\n",
    "plt.xlabel('Дебит жидкости, м3/сут')\n",
    "plt.ylabel('Плотность вероятности')\n",
    "plt.title('Распределение дебита жидкости')\n",
    "\n",
    "plt.legend(loc='best', bbox_to_anchor=(0.85, -0.1))\n",
    "plt.show()"
   ]
  },
  {
   "cell_type": "code",
   "execution_count": null,
   "metadata": {},
   "outputs": [],
   "source": [
    "with open('distr_wide.txt') as json_file:\n",
    "    data = json.load(json_file)\n",
    "all_stats_q_new, pi_mc, dist_p_res = data['all_stats_q_new'], data['pi_mc'], data['dist_p_res']\n",
    "plt.hist(pi_mc,density=True,  alpha=0.9, bins = 100, label = f\"1 вариант. $\\sigma_1$. Qж ср. = {round(np.mean(pi_mc), 1)} м3/сут/атм\")\n",
    "\n",
    "\n",
    "#with open('distr_narrow.txt') as json_file:\n",
    "#    data = json.load(json_file)\n",
    "#all_stats_q_new, pi_mc, dist_p_res = data['all_stats_q_new'], data['pi_mc'], data['dist_p_res']\n",
    "#plt.hist(all_stats_q_new,density=True, alpha=0.8, bins = 100, label = f\"2 вариант. $\\sigma_2 = \\sigma_1/4$. Qж ср. = {round(np.mean(all_stats_q_new), 3)} м3/сут\")\n",
    "\n",
    "\n",
    "plt.axvline(x=np.quantile(pi_mc, q=0.5), c = 'r')\n",
    "\n",
    "plt.xlabel('Коэффициент продуктивности, м3/сут/атм')\n",
    "plt.ylabel('Плотность вероятности')\n",
    "plt.title('Распределения коэффициента продуктивности')\n",
    "\n",
    "plt.legend(loc='best', bbox_to_anchor=(0.85, -0.1))\n",
    "plt.show()"
   ]
  },
  {
   "cell_type": "code",
   "execution_count": null,
   "metadata": {},
   "outputs": [],
   "source": [
    "np.std(pi_mc), np.mean(pi_mc), np.std(dist_p_res), np.mean(dist_p_res), np.std(all_stats_q_new), np.mean(all_stats_q_new)"
   ]
  },
  {
   "cell_type": "markdown",
   "metadata": {},
   "source": [
    "### Сравнение распределений"
   ]
  },
  {
   "cell_type": "code",
   "execution_count": null,
   "metadata": {},
   "outputs": [],
   "source": [
    "samples = []\n",
    "for i in tqdm.tqdm(range(1000)):\n",
    "    val = np.random.choice(all_stats_q_new, replace=True)\n",
    "    samples.append(val)\n",
    "    \n",
    "samples =     np.array(samples)\n",
    "print('end')"
   ]
  },
  {
   "cell_type": "code",
   "execution_count": null,
   "metadata": {},
   "outputs": [],
   "source": [
    "samples2 = []\n",
    "for i in tqdm.tqdm(range(1000)):\n",
    "    val = np.random.choice(all_stats_q_new, replace=True)\n",
    "    samples2.append(val)\n",
    "    \n",
    "samples2 =     np.array(samples2)\n",
    "print('end')"
   ]
  },
  {
   "cell_type": "code",
   "execution_count": null,
   "metadata": {},
   "outputs": [],
   "source": [
    "fig, ax = plt.subplots()\n",
    "\n",
    "ax = pd.Series(all_stats_q_new).plot.kde(label = 'Исходное распределение. ' + f\"Qж ср = {round(np.mean(all_stats_q_new), 3)} м3/сут\")\n",
    "\n",
    "#count, bins, ignored = plt.hist(all_stats_q_new, 300, [0, 400], density=True, \n",
    "#                                label=f\"Qж ср = {round(np.mean(all_stats_q_new), 3)} м3/сут\")\n",
    "\n",
    "plt.axvline(x=np.quantile(all_stats_q_new, q=0.5), c = 'r')\n",
    "\n",
    "#count, bins, ignored = plt.hist(samples, 300, [0, 400], density=True, \n",
    "#                                label=f\"Qж ср = {round(np.mean(samples), 3)} м3/сут\")\n",
    "\n",
    "ax = pd.Series(samples).plot.kde(label =  f\"Выборка. Qж ср = {round(np.mean(samples), 3)} м3/сут\")\n",
    "\n",
    "\n",
    "plt.axvline(x=np.quantile(samples, q=0.5), c = 'r')\n",
    "\n",
    "ax = pd.Series(samples2).plot.kde(label =  f\"Выборка2. Qж ср = {round(np.mean(samples2), 3)} м3/сут\")\n",
    "\n",
    "\n",
    "plt.axvline(x=np.quantile(samples2, q=0.5), c = 'r')\n",
    "\n",
    "\n",
    "plt.title('Распределение дебита жидкости, м3/сут')\n",
    "plt.xlabel('Дебит жидкости, м3/сут')\n",
    "plt.ylabel('Плотность вероятности')\n",
    "ax.legend()\n",
    "plt.show()\n"
   ]
  },
  {
   "cell_type": "markdown",
   "metadata": {},
   "source": [
    "#### Построение распределения "
   ]
  },
  {
   "cell_type": "code",
   "execution_count": null,
   "metadata": {},
   "outputs": [],
   "source": [
    "fig, ax = plt.subplots()\n",
    "\n",
    "ax = pd.Series(all_stats_q_new).plot.kde(label = 'kde_init' + f\" Qж ср = {round(np.mean(all_stats_q_new), 3)} м3/сут\")\n",
    "\n",
    "#count, bins, ignored = plt.hist(all_stats_q_new, 300, [0, 400], density=True, \n",
    "#                                label=f\"Qж ср = {round(np.mean(all_stats_q_new), 3)} м3/сут\")\n",
    "\n",
    "plt.axvline(x=np.quantile(all_stats_q_new, q=0.5), c = 'r')\n",
    "\n",
    "count, bins, ignored = plt.hist(samples, 300, [0, 400], density=True, \n",
    "                                label=f\"Qж ср = {round(np.mean(samples), 3)} м3/сут\")\n",
    "\n",
    "ax = pd.Series(samples).plot.kde(label = 'kde_sample' + f\"Qж ср = {round(np.mean(samples), 3)} м3/сут\")\n",
    "\n",
    "\n",
    "plt.axvline(x=np.quantile(samples, q=0.5), c = 'r')\n",
    "\n",
    "\n",
    "plt.title('Распределение дебита жидкости, м3/сут')\n",
    "plt.xlabel('Дебит жидкости, м3/сут')\n",
    "plt.ylabel('Плотность вероятности')\n",
    "ax.legend()\n",
    "plt.show()\n"
   ]
  },
  {
   "cell_type": "markdown",
   "metadata": {},
   "source": [
    "### Поиск подходящих насосов"
   ]
  },
  {
   "cell_type": "code",
   "execution_count": null,
   "metadata": {},
   "outputs": [],
   "source": [
    "os.chdir(r'C:\\Git\\probability_calculations')\n",
    "with open('ESP_json.db', 'r') as outfile:\n",
    "    file = outfile\n",
    "    db = json.load(outfile)\n",
    "\n",
    "db_df = pd.DataFrame(db)\n",
    "db_df = db_df.T  \n",
    "\n",
    "number_of_point_in_curves = []\n",
    "for i in db_df.index:\n",
    "    this_pump = db_df.loc[i]\n",
    "    number_of_point_in_curves.append(len(this_pump['rate_points']))\n",
    "    \n",
    "db_df['number_of_point_in_curves'] = number_of_point_in_curves\n",
    "\n"
   ]
  },
  {
   "cell_type": "code",
   "execution_count": null,
   "metadata": {},
   "outputs": [],
   "source": [
    "q_median = np.quantile(all_stats_q_new, q=0.5)\n",
    "q_std = np.std(all_stats_q_new)\n",
    "q_p10 = np.quantile(all_stats_q_new, q=0.10)\n",
    "q_p90 = np.quantile(all_stats_q_new, q=0.90)\n",
    "q_std"
   ]
  },
  {
   "cell_type": "code",
   "execution_count": null,
   "metadata": {},
   "outputs": [],
   "source": [
    "db_df_for_this_uncertainty = db_df[db_df['number_of_point_in_curves']>15]\n",
    "db_df_for_this_uncertainty = db_df_for_this_uncertainty[db_df_for_this_uncertainty['rate_opt_min_sm3day']>q_p10-q_std]\n",
    "db_df_for_this_uncertainty = db_df_for_this_uncertainty[db_df_for_this_uncertainty['rate_opt_max_sm3day']<q_p90+3*q_std]\n",
    "\n",
    "db_df_for_this_uncertainty"
   ]
  },
  {
   "cell_type": "code",
   "execution_count": null,
   "metadata": {},
   "outputs": [],
   "source": [
    "for i in range(db_df_for_this_uncertainty.shape[0]):\n",
    "    this_pump = db_df_for_this_uncertainty.iloc[i]\n",
    "    plot_pump_curve(q_arr = np.array(this_pump['rate_points']), \n",
    "        h_esp_arr = np.array(this_pump['head_points']),\n",
    "        power_esp_arr = np.array(this_pump['power_points']), \n",
    "        efficiency_esp_arr = np.array(this_pump['eff_points']),\n",
    "             z = 1,\n",
    "                    esp_name = this_pump['name'], f=50)"
   ]
  },
  {
   "cell_type": "code",
   "execution_count": null,
   "metadata": {},
   "outputs": [],
   "source": [
    "db_df_for_this_uncertainty['rate_nom_sm3day'].plot(kind = 'hist', bins = 100)\n",
    "plt.xlabel('Номинальная подача, м3/сут')\n",
    "plt.ylabel('Число ЭЦН')\n",
    "plt.title('Распределение выбранных ЭЦН по подаче для текущих условий работы пласта')"
   ]
  },
  {
   "cell_type": "code",
   "execution_count": null,
   "metadata": {},
   "outputs": [],
   "source": [
    "rates_unique = db_df_for_this_uncertainty['rate_nom_sm3day'].unique()\n",
    "dq_for_group = (max(rates_unique) - min(rates_unique)) /5\n",
    "rates_unique"
   ]
  },
  {
   "cell_type": "code",
   "execution_count": null,
   "metadata": {},
   "outputs": [],
   "source": [
    "chosen_pumps = []\n",
    "for i in range(5):\n",
    "    q_left = min(rates_unique) + dq_for_group*i\n",
    "    q_right = min(rates_unique) + dq_for_group*(i+1)\n",
    "    print(q_left, q_right)\n",
    "    if i == 0:\n",
    "        pumps_in_group = db_df_for_this_uncertainty[(db_df_for_this_uncertainty['rate_nom_sm3day'] <= q_right) &\n",
    "                                                   (db_df_for_this_uncertainty['rate_nom_sm3day'] >= q_left)]\n",
    "    else:\n",
    "        pumps_in_group = db_df_for_this_uncertainty[(db_df_for_this_uncertainty['rate_nom_sm3day'] <= q_right) &\n",
    "                                           (db_df_for_this_uncertainty['rate_nom_sm3day'] > q_left)]\n",
    "    pumps_in_group.loc[:, 'max_eff'] = pumps_in_group['eff_points'].copy().apply(lambda x: max(x))\n",
    "    pumps_in_group = pumps_in_group.head(3)\n",
    "    this_pumps = pumps_in_group[pumps_in_group['max_eff'] > pumps_in_group['max_eff'].max()*0.5]\n",
    "    #this_pumps = pumps_in_group\n",
    "    chosen_pumps.append(this_pumps)\n",
    "result_pumps = pd.concat(chosen_pumps)"
   ]
  },
  {
   "cell_type": "code",
   "execution_count": null,
   "metadata": {},
   "outputs": [],
   "source": [
    "result_pumps"
   ]
  },
  {
   "cell_type": "code",
   "execution_count": null,
   "metadata": {
    "scrolled": false
   },
   "outputs": [],
   "source": [
    "for i in range(result_pumps.shape[0]):\n",
    "    this_pump = result_pumps.iloc[i]\n",
    "    print(this_pump['rate_nom_sm3day'], this_pump['ID'])\n",
    "    plot_pump_curve(q_arr = np.array(this_pump['rate_points']), \n",
    "        h_esp_arr = np.array(this_pump['head_points']),\n",
    "        power_esp_arr = np.array(this_pump['power_points']), \n",
    "        efficiency_esp_arr = np.array(this_pump['eff_points']),\n",
    "             z = 1,\n",
    "                    esp_name = this_pump['name'], f=50)\n",
    "    "
   ]
  },
  {
   "cell_type": "markdown",
   "metadata": {},
   "source": [
    "## Основной цикл: Определения режима работы для выбранного(ых) насоса(ов) !!!"
   ]
  },
  {
   "cell_type": "code",
   "execution_count": null,
   "metadata": {
    "scrolled": true
   },
   "outputs": [],
   "source": [
    "os.chdir(r\"C:\\Git\\probability_calculations\")\n",
    "\n",
    "params = mult.params\n",
    "\n",
    "with open('distr.txt') as json_file:\n",
    "    data = json.load(json_file)\n",
    "all_stats_q_new, pi_mc, dist_p_res = data['all_stats_q_new'], data['pi_mc'], data['dist_p_res']\n",
    "\n",
    "\n",
    "os.chdir(r\"C:\\Git\\probability_calculations\\calc_new\")\n",
    "\n",
    "num_simulations = 3\n",
    "\n",
    "### для массового расчета\n",
    "\n",
    "pumps_ids = [2089, #160,\n",
    "             1460, #125\n",
    "            #pump_id = 1461 #200\n",
    "             2753, #100\n",
    "             #1868, #80\n",
    "             #2289, #60\n",
    "            ]\n",
    "#pumps_heads = [1000, 1800] #1 запуск\n",
    "\n",
    "pumps_heads = [1300, 1600]\n",
    "\n",
    "# для одного расчета\n",
    "pumps_ids = [1153, #80\n",
    "            2753, #100 проблемная\n",
    "            \n",
    "            ]\n",
    "pumps_heads = [1500]\n",
    "\n",
    "#legacy\n",
    "#params['pump_id'] =  936 #80 \n",
    "#params['pump_id']  = 1460 #125\n",
    "#params['pump_id']  = 1461 #200\n",
    "#params['pump_id']  = 2799 #60   \n",
    "#params['pump_id'] = 685 # 89\n",
    "\n",
    "#params['esp_head_m'] = 1800\n",
    "\n",
    "params['n_dots_for_nodal'] = 15\n",
    "params['calc_esp_new'] = 1\n",
    "\n",
    "\n",
    "run_design = well_model.run_design  \n",
    "results = run_design(params, pumps_ids, pumps_heads, pi_mc, dist_p_res, debug=1, num_simulations=1, api=api, api_new=api_new,\n",
    "              vba_version='7.28')\n"
   ]
  },
  {
   "cell_type": "markdown",
   "metadata": {},
   "source": [
    "## Анализ результатов расчета (в т.ч. массового)"
   ]
  },
  {
   "cell_type": "code",
   "execution_count": null,
   "metadata": {},
   "outputs": [],
   "source": [
    "os.chdir(r\"C:\\Git\\probability_calculations\")\n",
    "\n",
    "import UniflocVBA.v7_25.python_api as python_api_7_25\n",
    "api = python_api_7_25.API(\"UniflocVBA/v7_25/UniflocVBA_7.xlam\")\n",
    "\n",
    "import UniflocVBA.v7_28.python_api as python_api_7_28\n",
    "api_new = python_api_7_28.API(\"UniflocVBA/v7_28/UniflocVBA_7_28.xlam\")\n",
    "api_new.encode_PVT()"
   ]
  },
  {
   "cell_type": "code",
   "execution_count": null,
   "metadata": {},
   "outputs": [],
   "source": [
    "with open('ESP_json.db', 'r') as outfile:\n",
    "    file = outfile\n",
    "    db = json.load(outfile)\n",
    "\n",
    "db_df = pd.DataFrame(db)\n",
    "db_df = db_df.T  "
   ]
  },
  {
   "cell_type": "code",
   "execution_count": null,
   "metadata": {},
   "outputs": [],
   "source": [
    "path_to_dir = r'C:\\Git\\probability_calculations' + '\\\\'\n",
    "os.chdir(path_to_dir + 'calc_new_24_7_25')\n",
    "os.chdir(path_to_dir + 'calc_20')\n",
    "\n",
    "os.chdir(path_to_dir + 'calc_new')\n",
    "\n",
    "\n",
    "#os.chdir(path_to_dir + 'calc_22_7_25')\n",
    "\n",
    "#os.chdir(path_to_dir + 'calc_25_7_28')\n",
    "os.chdir(path_to_dir + 'calc_22_7_28')\n",
    "os.chdir(path_to_dir + 'calc_27_7_28')\n",
    "\n",
    "os.chdir(path_to_dir + 'calc_new_28_7_28_narrow')\n",
    "\n",
    "\n",
    "for file in glob.glob(\"*.csv\"):\n",
    "    print(file)    \n",
    "files = [x for x in glob.glob(\"*.csv\")]\n"
   ]
  },
  {
   "cell_type": "code",
   "execution_count": null,
   "metadata": {},
   "outputs": [],
   "source": [
    "dfs = []\n",
    "\n",
    "for file_name in files:\n",
    "    this_list = []\n",
    "    \n",
    "    file_name_splitted = file_name.split('_')\n",
    "    this_id = int(file_name_splitted[-3])\n",
    "    this_head = int(file_name_splitted[-1].replace('.csv', ''))\n",
    "    this_name = api.ESP_name(this_id)\n",
    "    this_list += [this_id, this_head, this_name]\n",
    "    \n",
    "    one_file = pd.read_csv(file_name, index_col = [0])\n",
    "    one_file['this_id'] = this_id\n",
    "    one_file['this_head'] = this_head\n",
    "    one_file['this_name'] = this_name\n",
    "    dfs.append(one_file.copy())\n",
    "\n",
    "    \n",
    "big_df = pd.concat(dfs)\n",
    "\n",
    "big_df['super_id'] = big_df['this_name'].astype(str) + ' H = ' + big_df['this_head'].astype(str) + ' м'\n"
   ]
  },
  {
   "cell_type": "code",
   "execution_count": null,
   "metadata": {},
   "outputs": [],
   "source": [
    "big_df"
   ]
  },
  {
   "cell_type": "code",
   "execution_count": null,
   "metadata": {},
   "outputs": [],
   "source": [
    "big_df.iloc[0]"
   ]
  },
  {
   "cell_type": "code",
   "execution_count": null,
   "metadata": {},
   "outputs": [],
   "source": [
    "big_df['nodal_error_p_dis'] = abs(big_df['lp_esp_dis'] - big_df['lp_esp_dis_by_tube'])"
   ]
  },
  {
   "cell_type": "code",
   "execution_count": null,
   "metadata": {},
   "outputs": [],
   "source": [
    "pumps_in_big_df = db_df[db_df['ID'].isin(big_df['this_id'].astype(int).unique())].copy()\n",
    "pumps_in_big_df.loc[:, 'max_eff'] = pumps_in_big_df['eff_points'].apply(lambda x: max(x))\n",
    "pumps_in_big_df"
   ]
  },
  {
   "cell_type": "code",
   "execution_count": null,
   "metadata": {},
   "outputs": [],
   "source": [
    "pumps_in_big_df.T"
   ]
  },
  {
   "cell_type": "code",
   "execution_count": null,
   "metadata": {},
   "outputs": [],
   "source": [
    "for_add = pumps_in_big_df.copy()"
   ]
  },
  {
   "cell_type": "code",
   "execution_count": null,
   "metadata": {},
   "outputs": [],
   "source": [
    "for_add.T"
   ]
  },
  {
   "cell_type": "code",
   "execution_count": null,
   "metadata": {},
   "outputs": [],
   "source": [
    "for_add = for_add.drop(columns = for_add.columns[12:])\n",
    "for_add = for_add.drop(columns = ['source'])\n",
    "for_add = for_add.reset_index(drop = True)\n",
    "for_add"
   ]
  },
  {
   "cell_type": "code",
   "execution_count": null,
   "metadata": {},
   "outputs": [],
   "source": [
    "for_add = for_add[for_add['ID'] != 684]\n",
    "for_add"
   ]
  },
  {
   "cell_type": "code",
   "execution_count": null,
   "metadata": {},
   "outputs": [],
   "source": [
    "for_add.columns = ['ID', 'Производитель', 'Название ЭЦН', 'Макс. число ступеней', 'Подача (ном), м3/сут', 'Левая граница, м3/сут',\n",
    "                  'Правая граница, м3/сут', 'Макс. подача, м3/сут', 'Частота вращения, об/мин', 'Частота (ном), Гц', 'КПД (макс.), д.ед.']\n",
    "for_add.T"
   ]
  },
  {
   "cell_type": "code",
   "execution_count": null,
   "metadata": {},
   "outputs": [],
   "source": []
  },
  {
   "cell_type": "code",
   "execution_count": null,
   "metadata": {},
   "outputs": [],
   "source": []
  },
  {
   "cell_type": "code",
   "execution_count": null,
   "metadata": {},
   "outputs": [],
   "source": []
  },
  {
   "cell_type": "code",
   "execution_count": null,
   "metadata": {},
   "outputs": [],
   "source": []
  },
  {
   "cell_type": "code",
   "execution_count": null,
   "metadata": {},
   "outputs": [],
   "source": [
    "sweet_table = pumps_in_big_df[['manufacturer', 'name', 'rate_nom_sm3day', 'freq_Hz']].copy()\n",
    "#sweet_table = sweet_table.reset_index(drop=True)\n",
    "sweet_table.columns = ['Производитель', 'Имя ЭЦН', 'Номинальная подача, м3/сут', 'Частота, Гц']\n",
    "sweet_table"
   ]
  },
  {
   "cell_type": "code",
   "execution_count": null,
   "metadata": {},
   "outputs": [],
   "source": [
    "for i in ['pi_sm3dayatm', 'p_bhp_atm', 'pres_atma']:\n",
    "    big_df[i] = big_df['lparams'].apply(lambda x: json.loads(x)[i])\n",
    "    "
   ]
  },
  {
   "cell_type": "code",
   "execution_count": null,
   "metadata": {},
   "outputs": [],
   "source": [
    "big_df = big_df[big_df['nodal_error_p_dis']<5]\n",
    "big_df"
   ]
  },
  {
   "cell_type": "code",
   "execution_count": null,
   "metadata": {},
   "outputs": [],
   "source": [
    "big_df['this_id'].unique()"
   ]
  },
  {
   "cell_type": "markdown",
   "metadata": {},
   "source": [
    "### Сводные таблицы"
   ]
  },
  {
   "cell_type": "code",
   "execution_count": null,
   "metadata": {},
   "outputs": [],
   "source": [
    "pt_count = big_df[big_df['nodal_error_p_dis']<5].pivot_table(index = ['this_name', 'this_head'], values = ['leff', 'lqliq'], aggfunc  = 'count')\n",
    "pt_count"
   ]
  },
  {
   "cell_type": "code",
   "execution_count": null,
   "metadata": {},
   "outputs": [],
   "source": [
    "def calc_emv(x):\n",
    "    return sum(x / len(x))\n",
    "def calc_std(x):\n",
    "    return np.std(x)"
   ]
  },
  {
   "cell_type": "code",
   "execution_count": null,
   "metadata": {},
   "outputs": [],
   "source": [
    "pt = big_df.pivot_table(index = ['this_name', 'this_head'], values = ['leff', 'lqliq'], aggfunc  = calc_emv)\n",
    "pt"
   ]
  },
  {
   "cell_type": "markdown",
   "metadata": {},
   "source": [
    "#### КПД"
   ]
  },
  {
   "cell_type": "code",
   "execution_count": null,
   "metadata": {},
   "outputs": [],
   "source": [
    "#import matplotlib.style\n",
    "#import matplotlib as mpl\n",
    "#mpl.style.use('ggplot')"
   ]
  },
  {
   "cell_type": "code",
   "execution_count": null,
   "metadata": {},
   "outputs": [],
   "source": [
    "font = {#'family' : 'normal',\n",
    "        #'weight' : 'bold',\n",
    "        'size'   : 25}\n",
    "\n",
    "matplotlib.rc('font', **font)"
   ]
  },
  {
   "cell_type": "code",
   "execution_count": null,
   "metadata": {},
   "outputs": [],
   "source": [
    "from matplotlib.legend_handler import HandlerBase"
   ]
  },
  {
   "cell_type": "code",
   "execution_count": null,
   "metadata": {},
   "outputs": [],
   "source": [
    "fig = plt.Figure()\n",
    "\n",
    "pt_eff = big_df.pivot_table(index = ['this_name'],columns=['this_head'], values = ['leff'], aggfunc  = calc_emv)\n",
    "\n",
    "pt_eff_std = big_df.pivot_table(index = ['this_name'],columns=['this_head'], values = ['leff'], aggfunc  = calc_std)\n",
    "\n",
    "pt_eff.plot(kind='bar', yerr = pt_eff_std)\n",
    "plt.xlabel('ЭЦН')\n",
    "plt.ylabel('КПД, %')\n",
    "plt.title('Анализ режима работы по КПД ЭЦН')\n",
    "\n",
    "cc = ['tab:blue', 'tab:orange', 'tab:green']\n",
    "heads = [x[1] for x in pt_eff.columns]\n",
    "\n",
    "colors = {f\"{heads[x]} м\": cc[x] for x in range(len(pt_eff.columns))}\n",
    "labels = list(colors.keys())\n",
    "handles = [plt.Rectangle((0,0),1,1, color=colors[label]) for label in labels]\n",
    "plt.legend(handles, labels, title=\"Напор ЭЦН\", loc=4, \n",
    "                     fontsize='small', fancybox=True)\n",
    "plt.xticks(rotation = 45, ha =\"right\")\n",
    "\n",
    "\n",
    "plt.grid()\n",
    "pt_eff"
   ]
  },
  {
   "cell_type": "markdown",
   "metadata": {},
   "source": [
    "#### Дебит жидкости"
   ]
  },
  {
   "cell_type": "code",
   "execution_count": null,
   "metadata": {},
   "outputs": [],
   "source": []
  },
  {
   "cell_type": "code",
   "execution_count": null,
   "metadata": {},
   "outputs": [],
   "source": [
    "pt_qliq = big_df.pivot_table(index = ['this_name'],columns=['this_head'], values = ['lqliq'], aggfunc  = calc_emv)\n",
    "pt_qliq_std = big_df.pivot_table(index = ['this_name'],columns=['this_head'], values = ['lqliq'], aggfunc  = np.std)\n",
    "\n",
    "hand = pt_qliq.plot(kind='bar', yerr = pt_qliq_std)\n",
    "plt.xlabel('ЭЦН')\n",
    "plt.ylabel('Дебит жидкости, м3/сут')\n",
    "plt.title('Анализ режима работы скважин по дебиту жидкости')\n",
    "\n",
    "\n",
    "cc = ['tab:blue', 'tab:orange', 'tab:green']\n",
    "heads = [x[1] for x in pt_qliq.columns]\n",
    "\n",
    "colors = {f\"{heads[x]} м\": cc[x] for x in range(len(pt_qliq.columns))}\n",
    "labels = list(colors.keys())\n",
    "handles = [plt.Rectangle((0,0),1,1, color=colors[label]) for label in labels]\n",
    "plt.legend(handles, labels, title=\"Напор ЭЦН\", loc=4, \n",
    "                     fontsize='small', fancybox=True)\n",
    "plt.xticks(rotation = 45, ha =\"right\")\n",
    "\n",
    "\n",
    "plt.grid()\n",
    "pt_qliq"
   ]
  },
  {
   "cell_type": "markdown",
   "metadata": {},
   "source": [
    "#### Деградация КПД - Наработка на отказ (ННО)"
   ]
  },
  {
   "cell_type": "code",
   "execution_count": null,
   "metadata": {},
   "outputs": [],
   "source": [
    "os.chdir(r'C:\\Git\\probability_calculations')\n",
    "with open('ESP_json.db', 'r') as outfile:\n",
    "    file = outfile\n",
    "    db = json.load(outfile)\n",
    "\n",
    "db_df = pd.DataFrame(db)\n",
    "db_df = db_df.T  \n",
    "\n",
    "number_of_point_in_curves = []\n",
    "for i in db_df.index:\n",
    "    this_pump = db_df.loc[i]\n",
    "    number_of_point_in_curves.append(len(this_pump['rate_points']))\n",
    "    \n",
    "db_df['number_of_point_in_curves'] = number_of_point_in_curves\n",
    "\n",
    "\n",
    "\n",
    "this_pump = db_df[db_df['ID'] == 3256]\n",
    "this_pump.T"
   ]
  },
  {
   "cell_type": "code",
   "execution_count": null,
   "metadata": {},
   "outputs": [],
   "source": [
    "def find_max_eff_by_pump_id(ID: int):\n",
    "    this_pump = db_df[db_df['ID'] == ID]\n",
    "    f = interpolate.interp1d(this_pump['rate_points'].values[0], this_pump['eff_points'].values[0], kind = 'quadratic')\n",
    "\n",
    "    q_liq_range = np.arange(min(this_pump['rate_points'].values[0]), max(this_pump['rate_points'].values[0]), 1)\n",
    "    #q_liq_range = this_pump['rate_points'].values[0]\n",
    "    eff_interpolated = f(q_liq_range)\n",
    "    fig  = plt.Figure()\n",
    "\n",
    "    plt.plot(this_pump['rate_points'].values[0], this_pump['eff_points'].values[0], 'o-', label = 'Исходные точки с БД')\n",
    "    plt.plot(q_liq_range, eff_interpolated, label = 'Проинтерполированные значения')\n",
    "    plt.legend()\n",
    "    plt.xlabel('Подача, м3/сут')\n",
    "    plt.ylabel('КПД, д.ед.')\n",
    "    plt.title(f\"Pump name = {this_pump['name'].values[0]} ID = {this_pump['ID'].values[0]}\")\n",
    "    plt.show()\n",
    "    max_init = max(this_pump['eff_points'].values[0])\n",
    "    max_interpolated = max(eff_interpolated)\n",
    "    print(f\"max init = {max_init} max interpolated = {max_interpolated}\")\n",
    "    print(f\"eff diff = {abs(max_init - max_interpolated)}\")\n",
    "    return max_init, max_interpolated\n",
    "\n",
    "find_max_eff_by_pump_id(3259)"
   ]
  },
  {
   "cell_type": "code",
   "execution_count": null,
   "metadata": {},
   "outputs": [],
   "source": [
    "id_max_eff_mask = {}\n",
    "for i in big_df['this_id'].unique():\n",
    "    _, id_max_eff_mask[i]  = find_max_eff_by_pump_id(i)\n",
    "id_max_eff_mask"
   ]
  },
  {
   "cell_type": "code",
   "execution_count": null,
   "metadata": {},
   "outputs": [],
   "source": [
    "k_degr_eff_range = np.arange(0, 1, 0.05)\n",
    "def nno(x):\n",
    "    return 1 - x**2\n",
    "\n",
    "#fig = plt.Figure()\n",
    "plt.plot(k_degr_eff_range, nno(k_degr_eff_range))\n",
    "plt.xlabel('$1 - K_{\\eta}^{дегр}$ (Деградация по КПД)')\n",
    "plt.ylabel('Коэффициент снижения наработки на отказ, д.ед.')\n",
    "plt.title('Условная функция влияния снижения КПД на ННО ')\n",
    "plt.grid()\n",
    "plt.show()\n"
   ]
  },
  {
   "cell_type": "code",
   "execution_count": null,
   "metadata": {},
   "outputs": [],
   "source": [
    "big_df['this_max_eff'] = big_df['this_id'].apply(lambda x: id_max_eff_mask[x])\n",
    "big_df['k_degr_eff'] = (big_df['leff']/100) / big_df['this_max_eff']\n",
    "big_df['eff_div_max_eff'] = (big_df['leff']/100) / big_df['this_max_eff']\n",
    "\n",
    "big_df['k_degr_eff'] = nno(1 - big_df['k_degr_eff'])\n",
    "big_df['k_degr_eff'].plot.hist(bins=100)\n",
    "plt.xlabel('k_degr_eff')"
   ]
  },
  {
   "cell_type": "code",
   "execution_count": null,
   "metadata": {},
   "outputs": [],
   "source": [
    "pt_k_degr_eff = big_df.pivot_table(index = ['this_name'],columns=['this_head'], values = ['k_degr_eff'], aggfunc  = calc_emv)\n",
    "pt_k_degr_eff_std = big_df.pivot_table(index = ['this_name'],columns=['this_head'], values = ['k_degr_eff'], aggfunc  = np.std)\n",
    "\n",
    "\n",
    "pt_k_degr_eff.plot(kind='bar', yerr=pt_k_degr_eff_std)\n",
    "plt.legend(loc=3)\n",
    "plt.xlabel('ЭЦН')\n",
    "plt.ylabel('Kдегр КПД, д.ед.')\n",
    "\n",
    "\n",
    "\n",
    "cc = ['tab:blue', 'tab:orange', 'tab:green']\n",
    "heads = [x[1] for x in pt_qliq.columns]\n",
    "\n",
    "colors = {f\"{heads[x]} м\": cc[x] for x in range(len(pt_qliq.columns))}\n",
    "labels = list(colors.keys())\n",
    "handles = [plt.Rectangle((0,0),1,1, color=colors[label]) for label in labels]\n",
    "plt.legend(handles, labels, title=\"Напор ЭЦН\", loc=4, \n",
    "                     fontsize='small', fancybox=True)\n",
    "plt.xticks(rotation = 45, ha =\"right\")\n",
    "\n",
    "plt.title('Анализ режима работы по деградации НРХ ЭЦН')\n",
    "plt.grid()\n",
    "\n",
    "pt_k_degr_eff"
   ]
  },
  {
   "cell_type": "markdown",
   "metadata": {},
   "source": [
    "#### Финальная оценка"
   ]
  },
  {
   "cell_type": "code",
   "execution_count": null,
   "metadata": {},
   "outputs": [],
   "source": [
    "pt_eff"
   ]
  },
  {
   "cell_type": "code",
   "execution_count": null,
   "metadata": {},
   "outputs": [],
   "source": [
    "pt_eff_std"
   ]
  },
  {
   "cell_type": "code",
   "execution_count": null,
   "metadata": {},
   "outputs": [],
   "source": [
    "def find_max_val_for_norm(pivot_table_df):\n",
    "    pt_values_eff = pivot_table_df.values.flatten()\n",
    "    pt_values_eff = pt_values_eff[~np.isnan(pt_values_eff)]\n",
    "    pt_values_eff_max = pt_values_eff.max()\n",
    "    return pt_values_eff_max"
   ]
  },
  {
   "cell_type": "code",
   "execution_count": null,
   "metadata": {},
   "outputs": [],
   "source": [
    "\n",
    "pt_values_eff_max = find_max_val_for_norm(pt_eff)\n",
    "pt_values_qliq_max = find_max_val_for_norm(pt_qliq)\n",
    "pt_values_k_degr_eff_max = find_max_val_for_norm(pt_k_degr_eff)\n",
    "\n",
    "pt_values_eff_std_max = find_max_val_for_norm(pt_eff_std)\n",
    "pt_values_qliq_std_max = find_max_val_for_norm(pt_qliq_std)\n",
    "pt_values_k_degr_eff_std_max = find_max_val_for_norm(pt_k_degr_eff_std)\n",
    "\n",
    "\n",
    "\n",
    "print('pt_values_eff_max', pt_values_eff_max,\n",
    "      'pt_values_qliq_max', pt_values_qliq_max,\n",
    "      'pt_values_k_degr_eff_max', pt_values_k_degr_eff_max)\n",
    "\n",
    "pt_result = pt_eff.copy()\n",
    "pt_result = pt_eff.values/pt_values_eff_max  * pt_qliq.values/pt_values_qliq_max * pt_k_degr_eff.values/pt_values_k_degr_eff_max\n",
    "pt_result_std = pt_eff_std.values/pt_values_eff_std_max  * pt_qliq_std.values / pt_values_qliq_std_max * pt_k_degr_eff_std.values / pt_values_k_degr_eff_std_max\n",
    "\n",
    "pt_result = pd.DataFrame(pt_result, index = pt_eff.index, columns = [x[1] for x in pt_eff.columns])\n",
    "pt_result_std = pd.DataFrame(pt_result_std, index = pt_eff.index, columns = [x[1] for x in pt_eff.columns])\n",
    "\n",
    "\n",
    "\n",
    "\n",
    "pt_result.plot(kind='bar', yerr=pt_result_std, ylim=[0, 2])\n",
    "\n",
    "\n",
    "cc = ['tab:blue', 'tab:orange', 'tab:green']\n",
    "heads = [x[1] for x in pt_qliq.columns]\n",
    "\n",
    "colors = {f\"{heads[x]} м\": cc[x] for x in range(len(pt_qliq.columns))}\n",
    "labels = list(colors.keys())\n",
    "handles = [plt.Rectangle((0,0),1,1, color=colors[label]) for label in labels]\n",
    "plt.legend(handles, labels, title=\"Напор ЭЦН\", loc=4, \n",
    "                     fontsize='small', fancybox=True)\n",
    "\n",
    "plt.xticks(rotation = 45, ha =\"right\")\n",
    "\n",
    "\n",
    "plt.ylabel('Финальный рейтинг')\n",
    "plt.xlabel('ЭЦН')\n",
    "plt.title('Сводный рейтинг ЭЦН')\n",
    "plt.grid()\n",
    "pt_result"
   ]
  },
  {
   "cell_type": "code",
   "execution_count": null,
   "metadata": {},
   "outputs": [],
   "source": [
    "r = []\n",
    "for i in pt_result.index:\n",
    "    this_s = pt_result.loc[i]\n",
    "    this_s.index = i + ' ' + this_s.index.astype(str)\n",
    "    r.append(this_s)\n",
    "pd.concat(r).sort_values()"
   ]
  },
  {
   "cell_type": "code",
   "execution_count": null,
   "metadata": {},
   "outputs": [],
   "source": [
    "r = []\n",
    "for i in pt_result.index:\n",
    "    this_s = pt_result.loc[i]\n",
    "    this_s.index = i + ' ' + this_s.index.astype(str)\n",
    "    r.append(this_s)\n",
    "pd.concat(r).sort_values(ascending=False).plot.bar()\n",
    "plt.xlabel('ЭЦН')\n",
    "plt.xticks(rotation = 45, ha =\"right\")\n",
    "\n",
    "plt.ylabel('Финальный рейтинг')"
   ]
  },
  {
   "cell_type": "code",
   "execution_count": null,
   "metadata": {},
   "outputs": [],
   "source": [
    "pt_result_normed = pt_result / pt_result_std\n",
    "pt_result_normed"
   ]
  },
  {
   "cell_type": "code",
   "execution_count": null,
   "metadata": {},
   "outputs": [],
   "source": [
    "r = []\n",
    "for i in pt_result_normed.index:\n",
    "    this_s = pt_result_normed.loc[i]\n",
    "    this_s.index = i + ' H = ' + this_s.index.astype(str) + ' м'\n",
    "    r.append(this_s)\n",
    "pd.concat(r).sort_values(ascending=False).plot.bar()\n",
    "plt.xlabel('ЭЦН')\n",
    "plt.xticks(rotation = 45, ha =\"right\")\n",
    "\n",
    "plt.ylabel('Финальный рейтинг')\n",
    "plt.title('Финальный рейтинг подбора ЭЦН (комбинированный)')"
   ]
  },
  {
   "cell_type": "markdown",
   "metadata": {},
   "source": [
    "## Распределения \n",
    "\n",
    "### КПД"
   ]
  },
  {
   "cell_type": "code",
   "execution_count": null,
   "metadata": {
    "scrolled": false
   },
   "outputs": [],
   "source": [
    "fig = plt.Figure()\n",
    "\n",
    "for i in big_df['this_name'].unique():\n",
    "    for j in big_df['this_head'].unique():\n",
    "        this_df = big_df[(big_df['this_name'] == i)  &  (big_df['this_head'] == j)]\n",
    "\n",
    "        plt.hist(this_df['leff'], bins = 100, density = True ,alpha=0.5, label = f\"{i} H = {j} м\")\n",
    "\n",
    "\n",
    "plt.legend()\n",
    "plt.title('Распределения для каждого тестируемого насоса')\n",
    "plt.xlabel('КПД, д.ед.')\n",
    "plt.show()"
   ]
  },
  {
   "cell_type": "markdown",
   "metadata": {},
   "source": [
    "### Дебита жидкости"
   ]
  },
  {
   "cell_type": "code",
   "execution_count": null,
   "metadata": {},
   "outputs": [],
   "source": [
    "fig = plt.Figure()\n",
    "\n",
    "for i in big_df['this_name'].unique():\n",
    "    for j in big_df['this_head'].unique():\n",
    "        this_df = big_df[(big_df['this_name'] == i)  &  (big_df['this_head'] == j)].copy()\n",
    "\n",
    "        plt.hist(this_df['lqliq'], bins = 100, density = True ,alpha=0.5, label = f\"{i} H = {j} м\")\n",
    "\n",
    "\n",
    "plt.legend()\n",
    "plt.title('Распределения для каждого тестируемого насоса')\n",
    "plt.xlabel('Дебит жидкости, м3/сут')\n",
    "plt.show()"
   ]
  },
  {
   "cell_type": "markdown",
   "metadata": {},
   "source": [
    "### Доли газа на приеме"
   ]
  },
  {
   "cell_type": "code",
   "execution_count": null,
   "metadata": {},
   "outputs": [],
   "source": [
    "fig = plt.Figure()\n",
    "\n",
    "for i in big_df['this_name'].unique():\n",
    "    for j in big_df['this_head'].unique():\n",
    "        this_df = big_df[(big_df['this_name'] == i)  &  (big_df['this_head'] == j)]\n",
    "\n",
    "        plt.hist(this_df['lgas_fraction_intake'], bins = 100, density = True ,alpha=0.5, label = f\"{i} H = {j} м\")\n",
    "\n",
    "\n",
    "plt.legend()\n",
    "plt.title('Доля газа на приеме эцн, %')\n",
    "plt.xlabel('Доля газа на приеме эцн, %')\n",
    "plt.show()"
   ]
  },
  {
   "cell_type": "code",
   "execution_count": null,
   "metadata": {
    "scrolled": false
   },
   "outputs": [],
   "source": [
    "fig = plt.Figure()\n",
    "\n",
    "for i in big_df['this_name'].unique():\n",
    "    for j in big_df['this_head'].unique():\n",
    "        this_df = big_df[(big_df['this_name'] == i)  &  (big_df['this_head'] == j)]\n",
    "\n",
    "        plt.hist(this_df['lgas_fraction_intake'], bins = 100, density = True ,alpha=0.5, label = f\"{i} H = {j} м\")\n",
    "\n",
    "\n",
    "    plt.legend()\n",
    "    plt.title('Доля газа на приеме эцн, %')\n",
    "    plt.xlabel('Дебит жидкости, м3/сут')\n",
    "    plt.show()"
   ]
  },
  {
   "cell_type": "markdown",
   "metadata": {},
   "source": [
    "### Дебита ГЖС через насос"
   ]
  },
  {
   "cell_type": "code",
   "execution_count": null,
   "metadata": {},
   "outputs": [],
   "source": [
    "fig = plt.Figure()\n",
    "\n",
    "for i in big_df['this_name'].unique():\n",
    "    for j in big_df['this_head'].unique():\n",
    "        this_df = big_df[(big_df['this_name'] == i)  &  (big_df['this_head'] == j)]\n",
    "\n",
    "        plt.hist(this_df['lq_mix_pump_mean'], bins = 100, density = True ,alpha=0.5, label = f\"{i} H = {j} м\")\n",
    "\n",
    "\n",
    "plt.legend()\n",
    "plt.title('Распределения для каждого тестируемого насоса')\n",
    "plt.xlabel('Дебит ГЖС через насос, м3/сут')\n",
    "plt.show()"
   ]
  },
  {
   "cell_type": "markdown",
   "metadata": {},
   "source": [
    "### Распределения через KDE"
   ]
  },
  {
   "cell_type": "code",
   "execution_count": null,
   "metadata": {},
   "outputs": [],
   "source": [
    "big_df"
   ]
  },
  {
   "cell_type": "code",
   "execution_count": null,
   "metadata": {},
   "outputs": [],
   "source": [
    "fig, ax = plt.subplots()\n",
    "big_df_t = big_df.copy()\n",
    "big_df_t = big_df_t.rename(columns = {'super_id': 'ЭЦН'})\n",
    "g = sns.kdeplot(data=big_df_t, x=\"lqliq\", hue=\"ЭЦН\", ax = ax)\n",
    "plt.title('Распределения для каждого подбираемого насоса')\n",
    "plt.xlabel('Дебит жидкости, м3/сут')\n",
    "plt.ylabel('Плоность вероятности')\n",
    "#ax.legend(title='2')\n"
   ]
  },
  {
   "cell_type": "code",
   "execution_count": null,
   "metadata": {},
   "outputs": [],
   "source": [
    "fig, ax = plt.subplots()\n",
    "big_df_t = big_df.copy()\n",
    "big_df_t = big_df_t.rename(columns = {'super_id': 'ЭЦН'})\n",
    "big_df_t['leff'] = big_df_t['leff'] /100\n",
    "g = sns.kdeplot(data=big_df_t, x=\"leff\", hue=\"ЭЦН\", ax = ax)\n",
    "plt.title('Распределения для каждого подбираемого насоса')\n",
    "plt.xlabel('КПД, д.ед.')\n",
    "plt.ylabel('Плоность вероятности')\n",
    "#ax.legend(title='2')\n"
   ]
  },
  {
   "cell_type": "code",
   "execution_count": null,
   "metadata": {},
   "outputs": [],
   "source": [
    "sns.kdeplot(data=big_df, x=\"pi_sm3dayatm\", hue=\"super_id\")\n",
    "plt.title('PDF для каждого тестируемого насоса')\n",
    "plt.xlabel('К прод., м3/сут/атм')"
   ]
  },
  {
   "cell_type": "code",
   "execution_count": null,
   "metadata": {},
   "outputs": [],
   "source": [
    "sns.kdeplot(data=big_df, x=\"pres_atma\", hue=\"super_id\")\n",
    "plt.title('PDF для каждого тестируемого насоса')\n",
    "plt.xlabel('Пластовое давление, атм')"
   ]
  },
  {
   "cell_type": "code",
   "execution_count": null,
   "metadata": {},
   "outputs": [],
   "source": [
    "sns.kdeplot(data=big_df, x=\"p_bhp_atm\", hue=\"super_id\")\n",
    "plt.title('PDF для каждого тестируемого насоса')\n",
    "plt.xlabel('Забойное давление, атм')\n"
   ]
  },
  {
   "cell_type": "code",
   "execution_count": null,
   "metadata": {},
   "outputs": [],
   "source": [
    "sns.kdeplot(data=big_df, x=\"pres_atma\", hue=\"super_id\")\n",
    "plt.title('PDF для каждого тестируемого насоса')\n",
    "plt.xlabel('Пластовое давление, атм')"
   ]
  },
  {
   "cell_type": "code",
   "execution_count": null,
   "metadata": {},
   "outputs": [],
   "source": [
    "sns.kdeplot(data=big_df, x=\"lgas_fraction_intake\", hue=\"super_id\")\n",
    "plt.title('PDF для каждого тестируемого насоса')\n",
    "plt.xlabel(\"Доля газа на приеме ЭЦН (1-ая ступень)\")"
   ]
  },
  {
   "cell_type": "code",
   "execution_count": null,
   "metadata": {},
   "outputs": [],
   "source": [
    "sns.kdeplot(data=big_df, x=\"leff\", hue=\"super_id\")\n",
    "plt.title('PDF для каждого тестируемого насоса')\n",
    "plt.xlabel('КПД, д.ед.')"
   ]
  },
  {
   "cell_type": "code",
   "execution_count": null,
   "metadata": {},
   "outputs": [],
   "source": [
    "big_df"
   ]
  },
  {
   "cell_type": "code",
   "execution_count": null,
   "metadata": {},
   "outputs": [],
   "source": [
    "sns.kdeplot(data=big_df, x=\"pi_sm3dayatm\", hue=\"super_id\")\n",
    "plt.title('PDF для каждого тестируемого насоса')\n",
    "plt.xlabel('К продуктивности, м3/сут/атм')"
   ]
  },
  {
   "cell_type": "markdown",
   "metadata": {},
   "source": [
    "### КПД от дебита жидкости"
   ]
  },
  {
   "cell_type": "code",
   "execution_count": null,
   "metadata": {},
   "outputs": [],
   "source": [
    "#font = {'size'   : 1}\n",
    "#matplotlib.rc('font', **font)\n",
    "plt.rcParams[\"font.size\"] = 25"
   ]
  },
  {
   "cell_type": "code",
   "execution_count": null,
   "metadata": {},
   "outputs": [],
   "source": [
    "#sns.set(font_scale=1.5) \n",
    "big_df_to_plot = big_df.copy()\n",
    "big_df_to_plot = big_df_to_plot.rename(columns = {'lqliq': 'Дебит жидкости, м3/сут',\n",
    "                                                 'leff': 'КПД,  д.ед.',\n",
    "                                                 'super_id': 'ЭЦН',\n",
    "                                                 })\n",
    "#fig, ax = plt.subplots()\n",
    "\n",
    "r = sns.jointplot(\n",
    "    data=big_df_to_plot,\n",
    "    x=\"Дебит жидкости, м3/сут\", y= 'КПД,  д.ед.', hue=\"ЭЦН\",\n",
    "    kind=\"kde\",\n",
    "    legend = False,\n",
    "    height=15,\n",
    "      #ax = ax\n",
    ")\n",
    "#g.despine(left=True)\n",
    "#0r.fig.legend(loc='upper left')\n",
    "r.ax_joint.legend_._loc_used_default = False\n",
    "r.ax_joint.legend_._loc_real =4\n",
    "r.ax_joint.legend_._fontsize =4\n",
    "#r.ax_joint.legend_._in_layout = False\n",
    "\n",
    "#r.ax_joint.legend_._bbox_to_anchor=(0.85, -0.1)"
   ]
  },
  {
   "cell_type": "code",
   "execution_count": null,
   "metadata": {},
   "outputs": [],
   "source": [
    "#sns.set(font_scale=1.5) \n",
    "big_df_to_plot = big_df.copy()\n",
    "big_df_to_plot = big_df_to_plot.rename(columns = {'lqliq': 'Дебит жидкости, м3/сут',\n",
    "                                                 'leff': 'ЭЦН,  д.ед.',\n",
    "                                                 'super_id': 'ЭЦН',\n",
    "                                                 })\n",
    "sns.jointplot(\n",
    "    data=big_df_to_plot,\n",
    "    x=\"Дебит жидкости, м3/сут\", y= 'ЭЦН,  д.ед.', hue=\"ЭЦН\",\n",
    "    #kind=\"kde\",\n",
    "    legend = True,\n",
    "    height=15\n",
    ")\n"
   ]
  },
  {
   "cell_type": "code",
   "execution_count": null,
   "metadata": {},
   "outputs": [],
   "source": [
    "#sns.set(font_scale=1.5) \n",
    "big_df_to_plot = big_df[big_df['nodal_error_p_dis'] <2].copy()\n",
    "big_df_to_plot = big_df_to_plot.rename(columns = {'lqliq': 'Дебит жидкости, м3/сут',\n",
    "                                                 'leff': 'КПД,  д.ед.',\n",
    "                                                 'super_id': 'ЭЦН',\n",
    "                                                 })\n",
    "sns.jointplot(\n",
    "    data=big_df_to_plot,\n",
    "    x=\"Дебит жидкости, м3/сут\", y= 'КПД,  д.ед.', hue=\"ЭЦН\",\n",
    "    #kind=\"kde\",\n",
    "    legend = True,\n",
    "    height=15\n",
    ")"
   ]
  },
  {
   "cell_type": "code",
   "execution_count": null,
   "metadata": {},
   "outputs": [],
   "source": [
    "#sns.set(font_scale=1.5) \n",
    "big_df_to_plot = big_df.copy()\n",
    "big_df_to_plot = big_df_to_plot.rename(columns = {'lqliq': 'Дебит жидкости, м3/сут',\n",
    "                                                 'leff': 'КПД,  д.ед.',\n",
    "                                                 'super_id': 'ЭЦН',\n",
    "                                                 })\n",
    "sns.displot(\n",
    "    data=big_df_to_plot,\n",
    "    x=\"Дебит жидкости, м3/сут\", y= 'КПД,  д.ед.', hue=\"ЭЦН\",\n",
    "    #kind=\"kde\",\n",
    "    binwidth=(0.1, 0.1),\n",
    "    legend = True,\n",
    "    height=15\n",
    ")\n"
   ]
  },
  {
   "cell_type": "code",
   "execution_count": null,
   "metadata": {},
   "outputs": [],
   "source": [
    "#sns.set(font_scale=1.5) \n",
    "big_df_to_plot = big_df.copy()\n",
    "big_df_to_plot['this_id'] = big_df_to_plot['this_id'].astype(str)\n",
    "big_df_to_plot = big_df_to_plot[big_df_to_plot['this_id'].isin(['685'])]\n",
    "big_df_to_plot = big_df_to_plot.rename(columns = {'lqliq': 'Дебит жидкости, м3/сут',\n",
    "                                                 'leff': 'КПД,  д.ед.',\n",
    "                                                 'super_id': 'ЭЦН',\n",
    "                                                 })\n",
    "sns.displot(\n",
    "    data=big_df_to_plot,\n",
    "    x=\"Дебит жидкости, м3/сут\", y= 'КПД,  д.ед.', hue=\"this_id\",\n",
    "    #kind=\"kde\",\n",
    "    binwidth=(0.1, 0.1),\n",
    "    legend = True,\n",
    "    height=15\n",
    ")\n"
   ]
  },
  {
   "cell_type": "code",
   "execution_count": null,
   "metadata": {},
   "outputs": [],
   "source": [
    "big_df['super_id'].unique()"
   ]
  },
  {
   "cell_type": "code",
   "execution_count": null,
   "metadata": {},
   "outputs": [],
   "source": [
    "distplot.__dict__"
   ]
  },
  {
   "cell_type": "code",
   "execution_count": null,
   "metadata": {},
   "outputs": [],
   "source": [
    "distplot._axes[0][0].xaxis.__dict__"
   ]
  },
  {
   "cell_type": "code",
   "execution_count": null,
   "metadata": {},
   "outputs": [],
   "source": [
    "plt.rcParams[\"font.size\"] = 20"
   ]
  },
  {
   "cell_type": "code",
   "execution_count": null,
   "metadata": {},
   "outputs": [],
   "source": [
    "#sns.set(font_scale=1.5) \n",
    "big_df_to_plot = big_df[big_df['nodal_error_p_dis']<3].copy()\n",
    "big_df_to_plot = big_df_to_plot[big_df_to_plot['super_id'].isin([\n",
    "    \n",
    "    '0215ЭЦНАКИ5А-125И H = 2600 м',\n",
    "       '0215ЭЦНАКИ5А-125И H = 2800 м', '0215ЭЦНАКИ5А-125И H = 3000 м',\n",
    "    \n",
    "    '660 H = 2600 м', '660 H = 2800 м', '660 H = 3000 м',\n",
    "'ЭЦН5-80 H = 2600 м', 'ЭЦН5-80 H = 2800 м', 'ЭЦН5-80 H = 3000 м'\n",
    "])]\n",
    "big_df_to_plot = big_df_to_plot[big_df_to_plot['this_id'] != 685]\n",
    "big_df_to_plot = big_df_to_plot.rename(columns = {'lqliq': 'Дебит жидкости, м3/сут',\n",
    "                                                 'leff': 'КПД, д.ед.',\n",
    "                                                 'super_id': 'ЭЦН',\n",
    "                                                 })\n",
    "distplot = sns.displot(\n",
    "    data=big_df_to_plot,\n",
    "    x=\"Дебит жидкости, м3/сут\", y= 'КПД, д.ед.', hue=\"ЭЦН\",\n",
    "    #kind=\"kde\",\n",
    "    binwidth=(0.1, 0.1),\n",
    "    legend = True,\n",
    "    height=15,\n",
    ")\n",
    "\n",
    "plt.xlim((55, 140))\n",
    "plt.ylim((15, 43))"
   ]
  },
  {
   "cell_type": "code",
   "execution_count": null,
   "metadata": {},
   "outputs": [],
   "source": [
    "#sns.set(font_scale=1.5) \n",
    "big_df_to_plot = big_df.copy()\n",
    "big_df_to_plot = big_df_to_plot.rename(columns = {'lqliq': 'Дебит жидкости, м3/сут',\n",
    "                                                 'leff': 'КПД, д.ед.',\n",
    "                                                 'super_id': 'ЭЦН',\n",
    "                                                 })\n",
    "sns.jointplot(\n",
    "    data=big_df_to_plot,\n",
    "    x=\"Дебит жидкости, м3/сут\", y= 'КПД, д.ед.', hue=\"ЭЦН\",\n",
    "    #kind=\"kde\",\n",
    "    #binwidth=(0.1, 0.1),\n",
    "    legend = True,\n",
    "    height=15\n",
    ")"
   ]
  },
  {
   "cell_type": "code",
   "execution_count": null,
   "metadata": {},
   "outputs": [],
   "source": [
    "big_df_to_plot.iloc[0]"
   ]
  },
  {
   "cell_type": "code",
   "execution_count": null,
   "metadata": {},
   "outputs": [],
   "source": [
    "big_df_to_plot"
   ]
  },
  {
   "cell_type": "code",
   "execution_count": null,
   "metadata": {},
   "outputs": [],
   "source": [
    "#sns.set(font_scale=1.5) \n",
    "big_df_to_plot = big_df.copy()\n",
    "big_df_to_plot = big_df_to_plot.rename(columns = {'lqliq': 'Дебит жидкости, м3/сут',\n",
    "                                                 'leff': 'ЭЦН,  д.ед.',\n",
    "                                                 'super_id': 'ЭЦН',\n",
    "                                                  'lq_mix_pump_mean': 'Средний дебит ГЖС через ЭЦН, м3/сут'\n",
    "                                                 })\n",
    "\n",
    "\n",
    "sns.jointplot(\n",
    "    data=big_df_to_plot,\n",
    "    x='Средний дебит ГЖС через ЭЦН, м3/сут', y= 'ЭЦН,  д.ед.', hue=\"ЭЦН\",\n",
    "    kind=\"kde\",\n",
    "    legend = True,\n",
    "    height=15,\n",
    "    xlim = (40, 170)\n",
    ")\n",
    "\n"
   ]
  },
  {
   "cell_type": "code",
   "execution_count": null,
   "metadata": {},
   "outputs": [],
   "source": [
    "fig, ax = plt.subplots()\n",
    "big_df[big_df['nodal_error_p_dis']<0.5].plot.scatter(x=\"lqliq\", y=\"leff\", c=\"lpower_esp\", legend=True, colormap='viridis', ax=ax)\n",
    "plt.legend()\n",
    "plt.xlabel('Дебит жидкости, м3/сут')\n",
    "plt.ylabel('КПД, д.ед.')\n",
    "\n",
    "plt.show()"
   ]
  },
  {
   "cell_type": "markdown",
   "metadata": {},
   "source": [
    "### Боксплоты"
   ]
  },
  {
   "cell_type": "code",
   "execution_count": null,
   "metadata": {},
   "outputs": [],
   "source": [
    "{x: big_df[big_df['super_id'] == x]['leff'].reset_index(drop=True) for x in big_df['super_id'].unique()}['ЭЦН5-80 H = 2600 м']"
   ]
  },
  {
   "cell_type": "code",
   "execution_count": null,
   "metadata": {},
   "outputs": [],
   "source": []
  },
  {
   "cell_type": "code",
   "execution_count": null,
   "metadata": {},
   "outputs": [],
   "source": [
    "df_for_box = pd.DataFrame({x: big_df[big_df['super_id'] == x]['leff'].reset_index(drop=True)  for x in big_df['super_id'].unique()},\n",
    "                          \n",
    "                          \n",
    "                          index=range(10000))\n",
    "df_for_box.plot.box()\n",
    "plt.xticks(rotation = 45)\n",
    "plt.ylabel('КПД, д.ед.')\n",
    "plt.show()"
   ]
  },
  {
   "cell_type": "code",
   "execution_count": null,
   "metadata": {},
   "outputs": [],
   "source": [
    "df_for_box = pd.DataFrame({x: big_df[big_df['super_id'] == x]['lqliq'].reset_index(drop=True)  for x in big_df['super_id'].unique()},\n",
    "                          \n",
    "                          index=range(3000))\n",
    "df_for_box.plot.box()\n",
    "plt.xticks(rotation = 45)\n",
    "plt.ylabel('Дебит жидкости, д.ед.')\n",
    "plt.show()"
   ]
  },
  {
   "cell_type": "code",
   "execution_count": null,
   "metadata": {},
   "outputs": [],
   "source": [
    "big_df"
   ]
  },
  {
   "cell_type": "markdown",
   "metadata": {},
   "source": [
    "### Violin plot"
   ]
  },
  {
   "cell_type": "code",
   "execution_count": null,
   "metadata": {},
   "outputs": [],
   "source": [
    "sns.violinplot(x=\"super_id\", y=\"leff\", hue=\"this_head\",\n",
    "                    data=big_df,\n",
    "               #palette=\"muted\",\n",
    "               #split=True\n",
    "               #scale=\"lqliq\"\n",
    "              )\n",
    "plt.xticks(rotation = 45)\n",
    "plt.show()"
   ]
  },
  {
   "cell_type": "code",
   "execution_count": null,
   "metadata": {},
   "outputs": [],
   "source": [
    "sns.violinplot(x=\"super_id\", y=\"lqliq\", hue=\"this_head\",\n",
    "                    data=big_df,\n",
    "               #width = 0.8,\n",
    "               #palette=\"muted\",\n",
    "               #split=True\n",
    "               #scale=\"lqliq\"\n",
    "               #scale='width'\n",
    "              )\n",
    "plt.xticks(rotation = 45)\n",
    "plt.show()"
   ]
  },
  {
   "cell_type": "markdown",
   "metadata": {},
   "source": [
    "## Один насос"
   ]
  },
  {
   "cell_type": "code",
   "execution_count": null,
   "metadata": {},
   "outputs": [],
   "source": [
    "pumps_in_big_df"
   ]
  },
  {
   "cell_type": "code",
   "execution_count": null,
   "metadata": {},
   "outputs": [],
   "source": [
    "this_pump"
   ]
  },
  {
   "cell_type": "code",
   "execution_count": null,
   "metadata": {},
   "outputs": [],
   "source": [
    "this_pump = db_df[db_df['ID'] == 1153].iloc[0]\n",
    "\n",
    "q_arr = np.array(this_pump['rate_points'])\n",
    "h_esp_arr = np.array(this_pump['head_points'])\n",
    "power_esp_arr = np.array(this_pump['power_points']) \n",
    "efficiency_esp_arr = np.array(this_pump['eff_points'])\n",
    "\n",
    "well_model.plot_pump_curve(q_arr,\n",
    "    h_esp_arr,\n",
    "    power_esp_arr,\n",
    "    efficiency_esp_arr,\n",
    "    1,\n",
    "    this_pump['name'],\n",
    "    )"
   ]
  },
  {
   "cell_type": "code",
   "execution_count": null,
   "metadata": {},
   "outputs": [],
   "source": [
    " big_df['super_id'].unique()"
   ]
  },
  {
   "cell_type": "code",
   "execution_count": null,
   "metadata": {},
   "outputs": [],
   "source": [
    "this_super_id = 'ЭЦН5-80 H = 2800 м'"
   ]
  },
  {
   "cell_type": "code",
   "execution_count": null,
   "metadata": {},
   "outputs": [],
   "source": [
    "one_pump = big_df[big_df['super_id'] == this_super_id]\n",
    "one_pump.plot.scatter(x = 'lqliq', y = 'leff')"
   ]
  },
  {
   "cell_type": "code",
   "execution_count": null,
   "metadata": {},
   "outputs": [],
   "source": [
    "big_df.plot.scatter(x=\"lqliq\", y=\"leff\", c=\"lgas_fraction_intake\", legend=True, colormap='viridis')\n",
    "plt.legend()\n",
    "plt.xlabel('Дебит жидкости, м3/сут')\n",
    "plt.ylabel('КПД, д.ед.')\n",
    "plt.title('КПД ЭЦН от дебита жидкости')\n",
    "\n",
    "plt.show()"
   ]
  },
  {
   "cell_type": "code",
   "execution_count": null,
   "metadata": {},
   "outputs": [],
   "source": [
    "big_df.plot.scatter(x=\"lqliq\", y=\"lgas_fraction_intake\", c=\"leff\", colormap='viridis')\n",
    "plt.xlabel('Дебит жидкости, м3/сут')\n",
    "plt.ylabel('Доля газа на приеме ЭЦН, д.ед.')\n",
    "plt.legend()\n",
    "plt.title('Доля газа на приеме от дебита жидкости')\n",
    "plt.show()"
   ]
  },
  {
   "cell_type": "code",
   "execution_count": null,
   "metadata": {},
   "outputs": [],
   "source": [
    "fig, ax = plt.subplots()\n",
    "\n",
    "big_df.plot.scatter(ax = ax, x=\"lq_mix_pump_mean\", y=\"lgas_fraction_intake\", c=\"leff\", colormap='viridis')\n",
    "\n",
    "\n",
    "\n",
    "plt.xlabel('Дебит жидкости, м3/сут')\n",
    "\n",
    "plt.ylabel('Доля газа на приеме ЭЦН, д.ед.')\n",
    "\n",
    "\n",
    "plt.title('Дебит жидкости от доли газа на приеме от дебита жидкости')\n",
    "\n",
    "plt.show()"
   ]
  },
  {
   "cell_type": "code",
   "execution_count": null,
   "metadata": {},
   "outputs": [],
   "source": [
    "fig, ax = plt.subplots()\n",
    "\n",
    "big_df.plot.scatter(ax = ax, x=\"lgas_fraction_intake\", y=\"leff\", \n",
    "                    c=\"lq_mix_pump_mean\",\n",
    "                    colormap='viridis')\n",
    "\n",
    "\n",
    "plt.xlabel('Доля газа на приеме ЭЦН, д.ед.')\n",
    "\n",
    "plt.ylabel('КПД, д.ед.')\n",
    "\n",
    "\n",
    "\n",
    "plt.title('Дебит жидкости от доли газа на приеме от дебита жидкости')\n",
    "\n",
    "plt.show()"
   ]
  },
  {
   "cell_type": "code",
   "execution_count": null,
   "metadata": {},
   "outputs": [],
   "source": [
    "fig, ax = plt.subplots()\n",
    "\n",
    "big_df.plot.scatter(ax = ax, x=\"lqliq\", y=\"lp_bhp_atm\", c=\"leff\", colormap='viridis')\n",
    "plt.xlabel('Дебит жидкости, м3/сут')\n",
    "plt.ylabel('Забойное давление, атм')\n",
    "plt.legend()\n",
    "plt.title('Доля газа на приеме от дебита жидкости')\n",
    "plt.show()\n",
    "#pi_sm3dayatm"
   ]
  },
  {
   "cell_type": "code",
   "execution_count": null,
   "metadata": {},
   "outputs": [],
   "source": [
    "fig, ax = plt.subplots()\n",
    "\n",
    "big_df.plot.scatter(ax = ax, x=\"pi_sm3dayatm\", y=\"lqliq\", c=\"leff\", colormap='viridis')\n",
    "plt.xlabel('Коэффициент продуктивности, м3/сут/атм')\n",
    "plt.ylabel('Дебит жидкости, м3/сут')\n",
    "plt.legend()\n",
    "plt.title('Дебит жидкости от коэффициента продуктивности')\n",
    "plt.show()\n",
    "#pi_sm3dayatm"
   ]
  },
  {
   "cell_type": "code",
   "execution_count": null,
   "metadata": {},
   "outputs": [],
   "source": [
    "fig, ax = plt.subplots()\n",
    "\n",
    "big_df.plot.scatter(ax = ax, x=\"pres_atma\", y=\"lqliq\", c=\"leff\", colormap='viridis')\n",
    "plt.xlabel('Пластовое давление, атм')\n",
    "plt.ylabel('Дебит жидкости, м3/сут')\n",
    "plt.legend()\n",
    "plt.title('Дебит жидкости от пластового давления')\n",
    "plt.show()"
   ]
  },
  {
   "cell_type": "code",
   "execution_count": null,
   "metadata": {},
   "outputs": [],
   "source": [
    "fig, ax = plt.subplots()\n",
    "\n",
    "big_df.plot.scatter(ax = ax, x=\"lgas_fraction_intake\", y=\"leff\", c=\"lqliq\", colormap='viridis')\n",
    "\n",
    "ax.legend(list(big_df['super_id'].unique()))\n",
    "\n",
    "\n",
    "plt.ylabel('КПД, д.ед.')\n",
    "\n",
    "plt.xlabel('Доля газа на приеме ЭЦН, д.ед.')\n",
    "\n",
    "\n",
    "plt.title('КПД от доли газа на приеме от дебита жидкости')\n",
    "\n",
    "\n",
    "plt.show()"
   ]
  },
  {
   "cell_type": "code",
   "execution_count": null,
   "metadata": {},
   "outputs": [],
   "source": [
    "fig, ax = plt.subplots()\n",
    "\n",
    "big_df.plot.scatter(ax = ax, x=\"lgas_fraction_intake\", y=\"lqliq\", c=\"leff\", colormap='viridis')\n",
    "\n",
    "\n",
    "\n",
    "plt.ylabel('Дебит жидкости, м3/сут')\n",
    "\n",
    "plt.xlabel('Доля газа на приеме ЭЦН, д.ед.')\n",
    "\n",
    "\n",
    "plt.title('Дебит жидкости от доли газа на приеме от дебита жидкости')\n",
    "\n",
    "plt.show()"
   ]
  },
  {
   "cell_type": "code",
   "execution_count": null,
   "metadata": {},
   "outputs": [],
   "source": [
    "fig,ax = plt.subplots()\n",
    "sns.scatterplot(data=big_df[big_df['nodal_error_p_dis']<1].copy(), hue='super_id', x='lgas_fraction_intake', y='lqliq')\n",
    "plt.legend(loc=2)\n",
    "plt.savefig('scatter.png')\n",
    "plt.show()"
   ]
  },
  {
   "cell_type": "code",
   "execution_count": null,
   "metadata": {},
   "outputs": [],
   "source": [
    "fig,ax = plt.subplots()\n",
    "sns.scatterplot(data=big_df, hue='super_id', x='lqliq', y='lgas_fraction_intake')\n",
    "plt.legend(loc=2)\n",
    "plt.savefig('scatter.png')\n",
    "plt.show()"
   ]
  },
  {
   "cell_type": "code",
   "execution_count": null,
   "metadata": {},
   "outputs": [],
   "source": [
    "fig,ax = plt.subplots()\n",
    "sns.scatterplot(data=big_df, hue='leff', x='lgas_fraction_intake', y='lqliq')\n",
    "plt.legend(loc=2)\n",
    "plt.show()"
   ]
  },
  {
   "cell_type": "code",
   "execution_count": null,
   "metadata": {
    "scrolled": false
   },
   "outputs": [],
   "source": [
    "this_frac_from_big_df = big_df[abs(big_df['lp_esp_dis']-big_df['lp_esp_dis_by_tube']) >20]\n",
    "fig,ax = plt.subplots()\n",
    "sns.scatterplot(data=this_frac_from_big_df,\n",
    "                            \n",
    "                            hue='super_id', x='lp_esp_dis', y='lp_esp_dis_by_tube')\n",
    "plt.legend(loc=2)\n",
    "plt.show()\n",
    "this_frac_from_big_df"
   ]
  },
  {
   "cell_type": "code",
   "execution_count": null,
   "metadata": {},
   "outputs": [],
   "source": [
    "big_df.columns"
   ]
  },
  {
   "cell_type": "code",
   "execution_count": null,
   "metadata": {},
   "outputs": [],
   "source": [
    "this_frac_from_big_df = big_df[abs(big_df['lp_esp_dis']-big_df['lp_esp_dis_by_tube']) > 0]\n",
    "print(f\"len = {this_frac_from_big_df.shape[0]}\")\n",
    "fig,ax = plt.subplots()\n",
    "sns.scatterplot(data=this_frac_from_big_df,\n",
    "                            \n",
    "                            hue='super_id', x='lp_esp_dis_by_tube', y='lp_esp_dis')\n",
    "plt.legend(loc=1)\n",
    "plt.show()"
   ]
  },
  {
   "cell_type": "code",
   "execution_count": null,
   "metadata": {},
   "outputs": [],
   "source": [
    "this_frac_from_big_df = big_df[abs(big_df['lp_esp_dis']-big_df['lp_esp_dis_by_tube']) > 0]\n",
    "print(f\"len = {this_frac_from_big_df.shape[0]}\")\n",
    "fig,ax = plt.subplots()\n",
    "sns.scatterplot(data=this_frac_from_big_df,\n",
    "                            \n",
    "                            hue='super_id', x='lq_mix_pump_mean', y='lp_esp_dis')\n",
    "plt.legend(loc=1)\n",
    "plt.show()\n"
   ]
  },
  {
   "cell_type": "code",
   "execution_count": null,
   "metadata": {
    "scrolled": false
   },
   "outputs": [],
   "source": [
    "this_frac_from_big_df = big_df[abs(big_df['lp_esp_dis']-big_df['lp_esp_dis_by_tube']) > 0]\n",
    "print(f\"len = {this_frac_from_big_df.shape[0]}\")\n",
    "fig,ax = plt.subplots()\n",
    "sns.scatterplot(data=this_frac_from_big_df,\n",
    "                            \n",
    "                            hue='super_id', x='pi_sm3dayatm', y='lgas_fraction_intake')\n",
    "plt.legend(loc=1)\n",
    "plt.show()"
   ]
  },
  {
   "cell_type": "code",
   "execution_count": null,
   "metadata": {},
   "outputs": [],
   "source": [
    "this_frac_from_big_df = big_df[abs(big_df['lp_esp_dis']-big_df['lp_esp_dis_by_tube']) > 0]\n",
    "print(f\"len = {this_frac_from_big_df.shape[0]}\")\n",
    "fig,ax = plt.subplots()\n",
    "sns.scatterplot(data=this_frac_from_big_df,\n",
    "                            \n",
    "                            hue='super_id', x='pi_sm3dayatm', y='this_head')\n",
    "plt.legend(loc=1)\n",
    "plt.show()"
   ]
  },
  {
   "cell_type": "code",
   "execution_count": null,
   "metadata": {},
   "outputs": [],
   "source": [
    "this_frac_from_big_df = big_df[abs(big_df['lp_esp_dis']-big_df['lp_esp_dis_by_tube']) > 0]\n",
    "print(f\"len = {this_frac_from_big_df.shape[0]}\")\n",
    "fig,ax = plt.subplots()\n",
    "sns.scatterplot(data=this_frac_from_big_df,\n",
    "                            \n",
    "                            hue='super_id', x='pi_sm3dayatm', y='lp_bhp_atm')\n",
    "plt.legend(loc=1)\n",
    "plt.show()"
   ]
  },
  {
   "cell_type": "code",
   "execution_count": null,
   "metadata": {},
   "outputs": [],
   "source": [
    "this_frac_from_big_df = big_df[abs(big_df['lp_esp_dis']-big_df['lp_esp_dis_by_tube']) > 0]\n",
    "print(f\"len = {this_frac_from_big_df.shape[0]}\")\n",
    "fig,ax = plt.subplots()\n",
    "sns.scatterplot(data=this_frac_from_big_df,\n",
    "                            \n",
    "                            hue='super_id', x='lp_bhp_atm', y='lgas_fraction_intake')\n",
    "plt.legend(loc=1)\n",
    "plt.show()"
   ]
  },
  {
   "cell_type": "code",
   "execution_count": null,
   "metadata": {},
   "outputs": [],
   "source": []
  },
  {
   "cell_type": "code",
   "execution_count": null,
   "metadata": {},
   "outputs": [],
   "source": [
    "this_frac_from_big_df = big_df[abs(big_df['lp_esp_dis']-big_df['lp_esp_dis_by_tube']) > 0]\n",
    "print(f\"len = {this_frac_from_big_df.shape[0]}\")\n",
    "fig,ax = plt.subplots()\n",
    "sns.scatterplot(data=this_frac_from_big_df,\n",
    "                            \n",
    "                            hue='super_id', x='pres_atma', y='lgas_fraction_intake')\n",
    "plt.legend(loc=1)\n",
    "plt.show()"
   ]
  },
  {
   "cell_type": "code",
   "execution_count": null,
   "metadata": {},
   "outputs": [],
   "source": [
    "this_frac_from_big_df = big_df[abs(big_df['lp_esp_dis']-big_df['lp_esp_dis_by_tube']) > 0]\n",
    "print(f\"len = {this_frac_from_big_df.shape[0]}\")\n",
    "fig,ax = plt.subplots()\n",
    "sns.scatterplot(data=this_frac_from_big_df,\n",
    "                            \n",
    "                            hue='super_id', x='pres_atma', y='leff')\n",
    "plt.legend(loc=3)\n",
    "plt.show()"
   ]
  },
  {
   "cell_type": "code",
   "execution_count": null,
   "metadata": {},
   "outputs": [],
   "source": [
    "this_frac_from_big_df = big_df[abs(big_df['lp_esp_dis']-big_df['lp_esp_dis_by_tube']) > 0]\n",
    "print(f\"len = {this_frac_from_big_df.shape[0]}\")\n",
    "fig,ax = plt.subplots()\n",
    "sns.scatterplot(data=this_frac_from_big_df,\n",
    "                            \n",
    "                            hue='super_id', x='pi_sm3dayatm', y='leff')\n",
    "plt.legend(loc=3)\n",
    "plt.show()"
   ]
  },
  {
   "cell_type": "code",
   "execution_count": null,
   "metadata": {},
   "outputs": [],
   "source": [
    "this_frac_from_big_df['super_id'].unique()"
   ]
  },
  {
   "cell_type": "code",
   "execution_count": null,
   "metadata": {},
   "outputs": [],
   "source": [
    "this_super_id = this_frac_from_big_df['super_id'].unique()"
   ]
  },
  {
   "cell_type": "code",
   "execution_count": null,
   "metadata": {},
   "outputs": [],
   "source": [
    "this_frac_from_big_df = big_df[abs(big_df['lp_esp_dis']-big_df['lp_esp_dis_by_tube']) > 0]\n",
    "this_frac_from_big_df  = this_frac_from_big_df[this_frac_from_big_df['super_id'] ==this_frac_from_big_df['super_id'].unique()[0] ]\n",
    "print(f\"len = {this_frac_from_big_df.shape[0]}\")\n",
    "fig,ax = plt.subplots()\n",
    "sns.scatterplot(data=this_frac_from_big_df,\n",
    "                            \n",
    "                            hue='super_id', x='pi_sm3dayatm', y='leff')\n",
    "plt.legend(loc=3)\n",
    "plt.show()"
   ]
  },
  {
   "cell_type": "code",
   "execution_count": null,
   "metadata": {},
   "outputs": [],
   "source": [
    "this_frac_from_big_df = big_df[abs(big_df['lp_esp_dis']-big_df['lp_esp_dis_by_tube']) > 0]\n",
    "this_frac_from_big_df['error'] = abs(big_df['lp_esp_dis']-big_df['lp_esp_dis_by_tube'])\n",
    "print(f\"len = {this_frac_from_big_df.shape[0]}\")\n",
    "fig,ax = plt.subplots()\n",
    "sns.scatterplot(data=this_frac_from_big_df,\n",
    "                            \n",
    "                            hue='super_id', x='lq_mix_pump_mean', y='leff')\n",
    "plt.legend(loc=3)\n",
    "plt.show()"
   ]
  },
  {
   "cell_type": "code",
   "execution_count": null,
   "metadata": {},
   "outputs": [],
   "source": [
    "this_frac_from_big_df = big_df[abs(big_df['lp_esp_dis']-big_df['lp_esp_dis_by_tube']) > 0]\n",
    "this_frac_from_big_df['error'] = abs(big_df['lp_esp_dis']-big_df['lp_esp_dis_by_tube'])\n",
    "print(f\"len = {this_frac_from_big_df.shape[0]}\")\n",
    "fig,ax = plt.subplots()\n",
    "sns.scatterplot(data=this_frac_from_big_df,\n",
    "                            \n",
    "                            hue='super_id', x='lqliq', y='leff')\n",
    "plt.legend(loc=3)\n",
    "plt.show()"
   ]
  },
  {
   "cell_type": "code",
   "execution_count": null,
   "metadata": {},
   "outputs": [],
   "source": [
    "this_frac_from_big_df = big_df[abs(big_df['lp_esp_dis']-big_df['lp_esp_dis_by_tube']) > 0]\n",
    "this_frac_from_big_df['error'] = abs(big_df['lp_esp_dis']-big_df['lp_esp_dis_by_tube'])\n",
    "print(f\"len = {this_frac_from_big_df.shape[0]}\")\n",
    "fig,ax = plt.subplots()\n",
    "sns.scatterplot(data=this_frac_from_big_df,\n",
    "                            \n",
    "                            hue='super_id', x='lq_mix_pump_mean', y='error')\n",
    "plt.legend(loc=1)\n",
    "plt.show()"
   ]
  },
  {
   "cell_type": "code",
   "execution_count": null,
   "metadata": {},
   "outputs": [],
   "source": [
    "this_frac_from_big_df.columns"
   ]
  },
  {
   "cell_type": "code",
   "execution_count": null,
   "metadata": {},
   "outputs": [],
   "source": [
    "list(big_df['super_id'].unique())"
   ]
  },
  {
   "cell_type": "code",
   "execution_count": null,
   "metadata": {},
   "outputs": [],
   "source": [
    "#sns.set_theme(style=\"ticks\")\n",
    "sns.pairplot(big_df[['leff', 'lqliq', 'lgas_fraction_intake', 'super_id']].copy(), hue=\"super_id\", height=15)"
   ]
  },
  {
   "cell_type": "code",
   "execution_count": null,
   "metadata": {},
   "outputs": [],
   "source": [
    "fig,ax = plt.subplots()\n",
    "sns.scatterplot(data=this_frac_from_big_df,\n",
    "                            \n",
    "                            hue='super_id', x='leff', y='this_max_eff')\n",
    "plt.legend(loc=3)\n",
    "plt.show()"
   ]
  },
  {
   "cell_type": "code",
   "execution_count": null,
   "metadata": {},
   "outputs": [],
   "source": [
    "fig,ax = plt.subplots()\n",
    "sns.scatterplot(data=this_frac_from_big_df,\n",
    "                            \n",
    "                            hue='super_id', x='leff', y='k_degr_eff')\n",
    "plt.legend(loc=3)\n",
    "plt.show()"
   ]
  },
  {
   "cell_type": "code",
   "execution_count": null,
   "metadata": {},
   "outputs": [],
   "source": [
    "fig,ax = plt.subplots()\n",
    "sns.scatterplot(data=this_frac_from_big_df,\n",
    "                            \n",
    "                            hue='super_id', x='leff', y='eff_div_max_eff')\n",
    "plt.legend(loc=3)\n",
    "plt.show()"
   ]
  },
  {
   "cell_type": "code",
   "execution_count": null,
   "metadata": {},
   "outputs": [],
   "source": [
    "fig,ax = plt.subplots()\n",
    "sns.scatterplot(data=this_frac_from_big_df,\n",
    "                            \n",
    "                            hue='super_id', x='lgas_fraction_intake', y='eff_div_max_eff')\n",
    "plt.legend(loc=3)\n",
    "plt.show()"
   ]
  },
  {
   "cell_type": "markdown",
   "metadata": {},
   "source": [
    "# Проверка расчета"
   ]
  },
  {
   "cell_type": "code",
   "execution_count": null,
   "metadata": {},
   "outputs": [],
   "source": [
    "big_df['super_id'].unique()"
   ]
  },
  {
   "cell_type": "code",
   "execution_count": null,
   "metadata": {},
   "outputs": [],
   "source": [
    "pump_super_id = '226ЭЦНАКИ5-125 H = 1600 м'\n",
    "pump_super_id =  '10.1ЭЦНД5А-100 H = 1600 м'\n",
    "pump_super_id = 'R-7 H = 2600 м'\n",
    "pump_super_id = '0215ЭЦНАКИ5А-125И H = 3000 м'\n",
    "pump_super_id = 'ЭЦН5-80 H = 2800 м'\n",
    "\n",
    "one_pump_df_for_check_all = big_df[big_df['super_id'] == pump_super_id].copy()\n",
    "#one_pump_df_for_check_all = big_df.copy()\n",
    "\n",
    "one_pump_df_for_check = one_pump_df_for_check_all\n",
    "#one_pump_df_for_check   = one_pump_df_for_check_all[one_pump_df_for_check_all['leff'] == one_pump_df_for_check_all['leff'].max()]\n",
    "#one_pump_df_for_check   = one_pump_df_for_check_all[abs(one_pump_df_for_check_all['lp_esp_dis'] - one_pump_df_for_check_all['lp_esp_dis_by_tube']) >10]\n",
    "\n",
    "one_pump_df_for_check"
   ]
  },
  {
   "cell_type": "code",
   "execution_count": null,
   "metadata": {},
   "outputs": [],
   "source": [
    "one_pump_df_for_check"
   ]
  },
  {
   "cell_type": "code",
   "execution_count": null,
   "metadata": {},
   "outputs": [],
   "source": [
    "one_case = one_pump_df_for_check.iloc[0]\n",
    "one_case"
   ]
  },
  {
   "cell_type": "code",
   "execution_count": null,
   "metadata": {},
   "outputs": [],
   "source": [
    "json.loads(one_case['lesp_df'])"
   ]
  },
  {
   "cell_type": "code",
   "execution_count": null,
   "metadata": {},
   "outputs": [],
   "source": [
    "params = json.loads(one_case['lparams'])\n",
    "params['n_dots_for_nodal'] = 20\n",
    "params"
   ]
  },
  {
   "cell_type": "code",
   "execution_count": null,
   "metadata": {},
   "outputs": [],
   "source": [
    "for i in params.keys():\n",
    "    print(i, 'params', params[i], 'params_saved', params_saved[i])"
   ]
  },
  {
   "cell_type": "code",
   "execution_count": null,
   "metadata": {},
   "outputs": [],
   "source": [
    "2800 / api_new.ESP_head_m(80, pump_id=1185)"
   ]
  },
  {
   "cell_type": "code",
   "execution_count": null,
   "metadata": {
    "scrolled": false
   },
   "outputs": [],
   "source": [
    "casing_pipe, tube_pipe, h_mes, head_esp, eff, power_esp, q_liq, status, gas_fraction_intake, p_bhp_atm, \\\n",
    "                            p_dis, p_esp_dis, json_params, q_mix_pump_mean, esp_df = well_model.calc_all(params, debug=1,\n",
    "                                                                                              vba_version='7.28',\n",
    "                                                                                             api=api, api_new=api_new)"
   ]
  },
  {
   "cell_type": "code",
   "execution_count": null,
   "metadata": {},
   "outputs": [],
   "source": [
    "p_dis, p_esp_dis"
   ]
  },
  {
   "cell_type": "code",
   "execution_count": null,
   "metadata": {},
   "outputs": [],
   "source": [
    "esp_df"
   ]
  },
  {
   "cell_type": "code",
   "execution_count": null,
   "metadata": {},
   "outputs": [],
   "source": [
    "this_pump = db_df[db_df['ID'] == params['pump_id']].iloc[0]\n",
    "\n",
    "q_arr = np.array(this_pump['rate_points'])\n",
    "h_esp_arr = np.array(this_pump['head_points'])\n",
    "power_esp_arr = np.array(this_pump['power_points']) \n",
    "efficiency_esp_arr = np.array(this_pump['eff_points'])\n",
    "h_esp_arr_div_power_esp_arr = h_esp_arr/power_esp_arr\n",
    "well_model.plot_pump_curve(q_arr,\n",
    "    h_esp_arr,\n",
    "    power_esp_arr,\n",
    "    efficiency_esp_arr,\n",
    "    z=1,\n",
    "    esp_name= api.ESP_name(params['pump_id']),\n",
    "    f=53,\n",
    "    fnom=50,\n",
    "    q_work=None,\n",
    "    show=True,\n",
    "    xlabel=None)"
   ]
  },
  {
   "cell_type": "code",
   "execution_count": null,
   "metadata": {},
   "outputs": [],
   "source": [
    "fig, ax = plt.subplots()\n",
    "\n",
    "ax.plot(q_arr * 53/50,efficiency_esp_arr*100, 'ro-', label ='БД НРХ' )\n",
    "one_pump_df_for_check_all.plot.scatter(x = 'lq_mix_pump_mean', y = 'leff', ax =ax\n",
    "                                      )\n",
    "\n",
    "ax.legend()\n"
   ]
  },
  {
   "cell_type": "code",
   "execution_count": null,
   "metadata": {},
   "outputs": [],
   "source": [
    "one_pump_df_for_check_all['lgas_fraction_intake'].plot.hist(bins=100)\n",
    "plt.xlabel('Доля газа на приеме')"
   ]
  },
  {
   "cell_type": "code",
   "execution_count": null,
   "metadata": {},
   "outputs": [],
   "source": [
    "one_pump_df_for_check_all['eff_div_max_eff'].plot.hist(bins=100)\n",
    "plt.xlabel('eff_div_max_eff')"
   ]
  },
  {
   "cell_type": "code",
   "execution_count": null,
   "metadata": {},
   "outputs": [],
   "source": [
    "one_pump_df_for_check_all"
   ]
  },
  {
   "cell_type": "code",
   "execution_count": null,
   "metadata": {},
   "outputs": [],
   "source": []
  },
  {
   "cell_type": "code",
   "execution_count": null,
   "metadata": {},
   "outputs": [],
   "source": [
    "api.ESP_name(params['pump_id'])"
   ]
  },
  {
   "cell_type": "code",
   "execution_count": null,
   "metadata": {},
   "outputs": [],
   "source": [
    "api_new.ESP_name(params['pump_id'])"
   ]
  },
  {
   "cell_type": "code",
   "execution_count": null,
   "metadata": {},
   "outputs": [],
   "source": [
    "one_case['this_name']"
   ]
  },
  {
   "cell_type": "code",
   "execution_count": null,
   "metadata": {},
   "outputs": [],
   "source": [
    "eff"
   ]
  },
  {
   "cell_type": "code",
   "execution_count": null,
   "metadata": {},
   "outputs": [],
   "source": [
    "one_case['leff']"
   ]
  },
  {
   "cell_type": "code",
   "execution_count": null,
   "metadata": {},
   "outputs": [],
   "source": [
    "one_case"
   ]
  },
  {
   "cell_type": "markdown",
   "metadata": {},
   "source": [
    "## Сборка результирующего DataFrame (deprecated)"
   ]
  },
  {
   "cell_type": "code",
   "execution_count": null,
   "metadata": {},
   "outputs": [],
   "source": [
    "params"
   ]
  },
  {
   "cell_type": "code",
   "execution_count": null,
   "metadata": {},
   "outputs": [],
   "source": [
    "\n",
    "df = well_model.save_in_df(lh_mes, lhead_esp, leff, lpower_esp, lqliq, lstatus, lgas_fraction_intake, \n",
    "                   lp_bhp_atm, lp_esp_dis, lparams, num_simulations, lp_esp_dis_by_tube)\n",
    "df"
   ]
  },
  {
   "cell_type": "code",
   "execution_count": null,
   "metadata": {
    "scrolled": false
   },
   "outputs": [],
   "source": [
    "debug_params = json.loads(df['lparams'][0])\n",
    "debug_params['n_dots_for_nodal'] = 15\n",
    "debug_params['esp_head_m'] = 1000\n",
    "debug_params['num_stages'] = calc_num_stages(debug_params)\n",
    "r = calc_all(debug_params)\n",
    "\n",
    "\n"
   ]
  },
  {
   "cell_type": "code",
   "execution_count": null,
   "metadata": {
    "scrolled": false
   },
   "outputs": [],
   "source": [
    "#построение графиков\n",
    "#for i in df.columns:\n",
    "#    #df = df.sort_values(by = i)\n",
    "#    if type(df.reset_index()[i].values[0]) is not str:\n",
    "#        df.reset_index()[i].plot(label = i)\n",
    "#        plt.ylabel(i)\n",
    "#        plt.xlabel('Порядковый номер')\n",
    "#        plt.legend()\n",
    "#        plt.show()"
   ]
  },
  {
   "cell_type": "markdown",
   "metadata": {},
   "source": [
    "## Построение итоговых графиков  (deprecated)"
   ]
  },
  {
   "cell_type": "code",
   "execution_count": null,
   "metadata": {
    "scrolled": false
   },
   "outputs": [],
   "source": [
    "print(f\"Error = {len(df['lstatus'][df['lstatus'] == 0])} из {df.shape[0]} или из {num_simulations}\")\n",
    "print('h_pump_m', params['h_pump_m'])\n",
    "print('pump_id', params['pump_id'])\n",
    "print('ESP_optRate_m3day', api.ESP_optRate_m3day(pump_id=params['pump_id']))\n",
    "print('ESP_name', api.ESP_name(pump_id=params['pump_id']))\n",
    "\n",
    "\n",
    "\n",
    "for i in [[lh_mes, 'Глубина спуска, м'],\n",
    "          [lhead_esp, 'Напор, м'], \n",
    "          [leff, 'КПД, д.ед.'], \n",
    "          [lpower_esp, 'Мощность, кВт'],\n",
    "          [lqliq, 'Дебит жидкости, м3/сут'],\n",
    "          [lgas_fraction_intake, 'Доля газа на приеме, д.ед.'],\n",
    "          [lp_bhp_atm, 'Забойное давление, атм'],\n",
    "          [lp_esp_dis, 'Давление на выкиде, атм']\n",
    "         ]:\n",
    "\n",
    "    fig = plt.Figure()\n",
    "\n",
    "    fig, ax = plt.subplots()\n",
    "    \n",
    "    label = i[1]\n",
    "    x = np.array(i[0],dtype= np.float64)\n",
    "    count, bins, ignored = plt.hist(x[~np.isnan(x)], bins=50,  density=True, label=label)\n",
    "    \n",
    "    \n",
    "    # Расчет EMV\n",
    "    leff2 = np.array(i[0], dtype = np.float64)\n",
    "    leff2 = leff2[~np.isnan(leff2)]\n",
    "    prob = leff2 * 0 + 1/len(leff2)\n",
    "\n",
    "    emv = np.sum(leff2 * prob)\n",
    "\n",
    "\n",
    "    plt.title(f\"Распределение {label}, EMV = {round(emv, 3)}\")\n",
    "    plt.xlabel(label)\n",
    "    ax.legend()\n",
    "    plt.show()"
   ]
  },
  {
   "cell_type": "code",
   "execution_count": null,
   "metadata": {},
   "outputs": [],
   "source": [
    "pump_id = params['pump_id']\n",
    "#pump_id = 1460 #125\n",
    "#pump_id = 1461 #200\n",
    "#pump_id = 1868 #80\n",
    "#pump_id = 2089 #160\n",
    "#pump_id = 2289 #60\n",
    "#pump_id = 2753 #100\n",
    "\n",
    "qliq = np.arange(0, api.ESP_optRate_m3day(pump_id=pump_id)*2, 5)\n",
    "eff = np.array([api.ESP_eff_fr(x, pump_id = pump_id, mu_cSt=1) for x in qliq])\n",
    "power = np.array([api.ESP_power_W(x, pump_id = pump_id) for x in qliq])\n",
    "h = np.array([api.ESP_head_m(x, pump_id = pump_id) for x in qliq])\n",
    "\n",
    "qliq = qliq[eff >0]\n",
    "power = power[eff >0]\n",
    "h = h[eff >0]\n",
    "eff = eff[eff >0]\n",
    "\n",
    "plot_pump_curve(qliq, h, power, \n",
    "                eff, 1,\n",
    "                api.ESP_name(pump_id=pump_id) + f\" OPT Rate = {round(api.ESP_optRate_m3day(pump_id=pump_id), 2)}\", f=50)"
   ]
  },
  {
   "cell_type": "code",
   "execution_count": null,
   "metadata": {},
   "outputs": [],
   "source": [
    "plt.plot(qliq, h)"
   ]
  },
  {
   "cell_type": "code",
   "execution_count": null,
   "metadata": {},
   "outputs": [],
   "source": [
    "plt.plot(eff/qliq, h/power)"
   ]
  },
  {
   "cell_type": "code",
   "execution_count": null,
   "metadata": {},
   "outputs": [],
   "source": [
    "plt.plot(qliq, h/power)"
   ]
  },
  {
   "cell_type": "code",
   "execution_count": null,
   "metadata": {},
   "outputs": [],
   "source": [
    "plt.plot(qliq,eff/qliq)"
   ]
  },
  {
   "cell_type": "code",
   "execution_count": null,
   "metadata": {},
   "outputs": [],
   "source": [
    "plt.plot(qliq,eff, label = 'По характеристике')\n",
    "plt.plot(qliq,h*1000*9.81*(qliq/86400)/power, label = 'По расчету через rho*g*h*Q/N')\n",
    "plt.legend()\n",
    "plt.title('Сравнение КПД прямой и косвенный расчет')\n",
    "plt.ylabel('КПД, д.ед.')\n",
    "plt.xlabel('Подача, м3/сут.')\n",
    "plt.show()"
   ]
  },
  {
   "cell_type": "markdown",
   "metadata": {},
   "source": [
    "# Анализ неоднозначности в НРХ"
   ]
  },
  {
   "cell_type": "code",
   "execution_count": null,
   "metadata": {},
   "outputs": [],
   "source": [
    "os.chdir(r'C:\\Git\\probability_calculations')\n",
    "with open('ESP_json.db', 'r') as outfile:\n",
    "    file = outfile\n",
    "    db = json.load(outfile)"
   ]
  },
  {
   "cell_type": "code",
   "execution_count": null,
   "metadata": {},
   "outputs": [],
   "source": [
    "db_df = pd.DataFrame(db)\n",
    "db_df = db_df.T\n",
    "db_df"
   ]
  },
  {
   "cell_type": "code",
   "execution_count": null,
   "metadata": {},
   "outputs": [],
   "source": [
    "for i in db_df.columns:\n",
    "    print(i)"
   ]
  },
  {
   "cell_type": "code",
   "execution_count": null,
   "metadata": {},
   "outputs": [],
   "source": [
    "db_df.iloc[738]"
   ]
  },
  {
   "cell_type": "code",
   "execution_count": null,
   "metadata": {},
   "outputs": [],
   "source": [
    "db_df.columns"
   ]
  },
  {
   "cell_type": "markdown",
   "metadata": {},
   "source": [
    "## Анализ распределения КПД"
   ]
  },
  {
   "cell_type": "code",
   "execution_count": null,
   "metadata": {},
   "outputs": [],
   "source": [
    "db_df[db_df['eff_max']>0]['eff_max'].plot(kind='hist', bins = 100)"
   ]
  },
  {
   "cell_type": "markdown",
   "metadata": {},
   "source": [
    "## Анализ количества точек для каждой НРХ"
   ]
  },
  {
   "cell_type": "code",
   "execution_count": null,
   "metadata": {},
   "outputs": [],
   "source": [
    "number_of_point_in_curves = []\n",
    "for i in db_df.index:\n",
    "    this_pump = db_df.loc[i]\n",
    "    number_of_point_in_curves.append(len(this_pump['rate_points']))\n",
    "    \n",
    "db_df['number_of_point_in_curves'] = number_of_point_in_curves"
   ]
  },
  {
   "cell_type": "code",
   "execution_count": null,
   "metadata": {},
   "outputs": [],
   "source": [
    "db_df['number_of_point_in_curves'].plot(kind='hist', bins = 100)"
   ]
  },
  {
   "cell_type": "code",
   "execution_count": null,
   "metadata": {},
   "outputs": [],
   "source": [
    "db_df_filtered"
   ]
  },
  {
   "cell_type": "code",
   "execution_count": null,
   "metadata": {},
   "outputs": [],
   "source": [
    "font = {#'family' : 'normal',\n",
    "        #'weight' : 'bold',\n",
    "        'size'   : 15}\n",
    "matplotlib.rc('font', **font)"
   ]
  },
  {
   "cell_type": "code",
   "execution_count": null,
   "metadata": {},
   "outputs": [],
   "source": [
    "val = 50\n",
    "\n",
    "db_df_filtered = db_df[db_df['number_of_point_in_curves'] <=val]\n",
    "#db_df_filtered = db_df_filtered[db_df_filtered['number_of_point_in_curves'] >val-1]\n",
    "\n",
    "#this_pump = db_df_filtered.iloc[2]\n",
    "this_pump = db_df_filtered[db_df_filtered['ID'] == 1111].iloc[0]\n",
    "\n",
    "plot_pump_curve(q_arr = np.array(this_pump['rate_points']), \n",
    "    h_esp_arr = np.array(this_pump['head_points']),\n",
    "    power_esp_arr = np.array(this_pump['power_points']), \n",
    "    efficiency_esp_arr = np.array(this_pump['eff_points']),\n",
    "         z = 1,\n",
    "                esp_name = this_pump['name'], f=50)"
   ]
  },
  {
   "cell_type": "markdown",
   "metadata": {},
   "source": [
    "## Анализ неоднозначности НРХ\n",
    "\n",
    "### Построение НРХ с нормированной кривой"
   ]
  },
  {
   "cell_type": "code",
   "execution_count": null,
   "metadata": {},
   "outputs": [],
   "source": [
    "def find_amount_of_change_direction(h_esp_arr):\n",
    "    if type(h_esp_arr) is list:\n",
    "        h_esp_arr = np.array(h_esp_arr)\n",
    "    elif type(h_esp_arr) is str:\n",
    "        h_esp_arr = np.array(json.loads(h_esp_arr))\n",
    "\n",
    "    diff = np.diff(h_esp_arr)\n",
    "    change_direction = diff[1:]*diff[:-1]\n",
    "    \n",
    "    amount_of_change_direction = len(change_direction[change_direction<0])\n",
    "    return amount_of_change_direction\n",
    "\n",
    "\n",
    "clear_db_df = db_df[db_df['number_of_point_in_curves']>=10]\n",
    "\n",
    "this_pump = clear_db_df.iloc[700]\n",
    "this_pump = clear_db_df[clear_db_df['ID'] == 3256].iloc[0]\n",
    "\n",
    "q_arr = np.array(this_pump['rate_points'])\n",
    "h_esp_arr = np.array(this_pump['head_points'])\n",
    "power_esp_arr = np.array(this_pump['power_points']) \n",
    "efficiency_esp_arr = np.array(this_pump['eff_points'])\n",
    "h_esp_arr_div_power_esp_arr = h_esp_arr/power_esp_arr\n",
    "\n",
    "\n",
    "\n",
    "#plot_pump_curve(q_arr = q_arr, \n",
    "#    h_esp_arr = h_esp_arr,\n",
    "#    power_esp_arr = power_esp_arr, \n",
    "#    efficiency_esp_arr = efficiency_esp_arr,\n",
    "#         z = 1,\n",
    "#    esp_name = this_pump['name'], f=50, show=True)\n",
    "\n",
    "\n",
    "\n",
    "\n",
    "f=50\n",
    "fnom=50\n",
    "q_work=None\n",
    "esp_name = this_pump['name']\n",
    "z = 1\n",
    "\n",
    "########## график\n",
    "q_arr = q_arr * f/fnom\n",
    "h_esp_arr = h_esp_arr * (f/fnom)**2\n",
    "power_esp_arr = power_esp_arr * (f/fnom)**2\n",
    "fig, ax = plt.subplots()\n",
    "fig.subplots_adjust(right=0.75)\n",
    "\n",
    "twin1 = ax.twinx()\n",
    "twin2 = ax.twinx()\n",
    "twin3 = ax.twinx()\n",
    "\n",
    "\n",
    "\n",
    "# Offset the right spine of twin2.  The ticks and label have already been\n",
    "# placed on the right by twinx above.\n",
    "twin2.spines['right'].set_position((\"axes\", 1.1))\n",
    "twin3.spines['right'].set_position((\"axes\", 1.2))\n",
    "\n",
    "p1, = ax.plot(q_arr, h_esp_arr, \"b-\",  marker = 'o', label=\"Напор, м\")\n",
    "p2, = twin1.plot(q_arr, power_esp_arr, \"r-\",  marker = 'o',  label=\"Мощность, Вт\")\n",
    "p3, = twin2.plot(q_arr, efficiency_esp_arr, \"g-\",  marker = 'o', label=\"КПД, д.ед.\")\n",
    "p4, = twin3.plot(q_arr, h_esp_arr_div_power_esp_arr, \"y-\",  marker = 'o', label=\"Напор / Мощность\")\n",
    "\n",
    "\n",
    "if q_work is not None:\n",
    "    f_interrr = interpolate.interp1d(q_arr,h_esp_arr, kind='cubic')\n",
    "    p4 = ax.axvline(x=q_work, label=f\"Рабочий режим Q={round(q_work, 2)}\", linewidth=5, markersize=15)\n",
    "    #p4, = ax.plot([q_work], [f_interrr(q_work)], \"k\",  marker = 'o', label=\"Рабочая точка\",  markersize=15)\n",
    "\n",
    "#ax.axvspan(esp_df['Левая граница'].values[0]*f/fnom, esp_df['Правая граница'].values[0]*f/fnom, \n",
    "#           alpha=0.2, color='green') TODO вытащить из БД\n",
    "\n",
    "ax.set_xlabel(\"Подача, м3/сут\")\n",
    "ax.set_ylabel(\"Напор, м\")\n",
    "twin1.set_ylabel(\"Мощность, Вт\")\n",
    "twin2.set_ylabel(\"КПД, д.ед.\")\n",
    "twin3.set_ylabel(\"Напор / Мощность\")\n",
    "\n",
    "ax.yaxis.label.set_color(p1.get_color())\n",
    "twin1.yaxis.label.set_color(p2.get_color())\n",
    "twin2.yaxis.label.set_color(p3.get_color())\n",
    "twin3.yaxis.label.set_color(p4.get_color())\n",
    "\n",
    "\n",
    "tkw = dict(size=4, width=1.5)\n",
    "ax.tick_params(axis='y', colors=p1.get_color(), **tkw)\n",
    "twin1.tick_params(axis='y', colors=p2.get_color(), **tkw)\n",
    "twin2.tick_params(axis='y', colors=p3.get_color(), **tkw)\n",
    "twin3.tick_params(axis='y', colors=p4.get_color(), **tkw)\n",
    "\n",
    "ax.tick_params(axis='x', **tkw)\n",
    "\n",
    "if q_work is not None:\n",
    "    ax.legend(handles=[p1, p2, p3, p4], loc='lower center')\n",
    "else:\n",
    "    ax.legend(handles=[p1, p2, p3, p4], loc='lower center')\n",
    "\n",
    "\n",
    "ax.grid()\n",
    "\n",
    "ax.set_title(f\"{esp_name}, ступеней = {z} шт. при частоте = {f} Гц\")\n",
    "plt.show()\n",
    "\n",
    "\n",
    "\n",
    "find_amount_of_change_direction(h_esp_arr), find_amount_of_change_direction(power_esp_arr), find_amount_of_change_direction(efficiency_esp_arr)"
   ]
  },
  {
   "cell_type": "markdown",
   "metadata": {},
   "source": [
    "### Расчет количества перегибов на кривых и нормированной кривой для каждого ЭЦН"
   ]
  },
  {
   "cell_type": "code",
   "execution_count": null,
   "metadata": {},
   "outputs": [],
   "source": [
    "clear_db_df['h_esp_arr_div_power_esp_arr'] = None\n",
    "clear_db_df['power_points_left'] = None\n",
    "\n",
    "for i in clear_db_df.index:\n",
    "    \n",
    "    clear_db_df.loc[i, 'h_esp_arr_div_power_esp_arr'] = json.dumps(list( np.array(clear_db_df.loc[i, 'head_points']) /  \\\n",
    "                                                        np.array(clear_db_df.loc[i, 'power_points'])))\n",
    "    \n",
    "    \n",
    "    this_pump = clear_db_df.loc[i]\n",
    "\n",
    "    power_points = np.array(this_pump['power_points'])\n",
    "    rate_points = np.array(this_pump['rate_points'])\n",
    "\n",
    "    power_points_left = power_points[rate_points< 0.3*max(rate_points)]\n",
    "    \n",
    "    \n",
    "    clear_db_df.loc[i, 'power_points_left'] = json.dumps(list(power_points_left))\n",
    "\n",
    "    \n",
    "    \n",
    "\n",
    "clear_db_df.loc[:, 'amount_of_change_direction_head'] = clear_db_df['head_points'].copy().apply(find_amount_of_change_direction)\n",
    "clear_db_df.loc[:, 'amount_of_change_direction_eff'] = clear_db_df['eff_points'].copy().apply(find_amount_of_change_direction)\n",
    "clear_db_df.loc[:, 'amount_of_change_direction_power'] = clear_db_df['power_points'].copy().apply(find_amount_of_change_direction)\n",
    "clear_db_df.loc[:, 'amount_of_change_direction_h_esp_div_power'] = clear_db_df['h_esp_arr_div_power_esp_arr'].copy().apply(find_amount_of_change_direction)\n",
    "clear_db_df.loc[:, 'amount_of_change_direction_power_points_left'] = clear_db_df['power_points_left'].copy().apply(find_amount_of_change_direction)\n",
    "clear_db_df.loc[:, 'amount_of_change_direction_combined_solution'] = clear_db_df.apply(lambda x: min(x['amount_of_change_direction_power_points_left'], \n",
    "                                                                x['amount_of_change_direction_h_esp_div_power']), axis=1)\n"
   ]
  },
  {
   "cell_type": "code",
   "execution_count": null,
   "metadata": {},
   "outputs": [],
   "source": [
    "clear_db_df"
   ]
  },
  {
   "cell_type": "markdown",
   "metadata": {},
   "source": [
    "### Построение распределений для всей БД - количество перегибов для каждой кривой"
   ]
  },
  {
   "cell_type": "code",
   "execution_count": null,
   "metadata": {},
   "outputs": [],
   "source": [
    "clear_db_df_with_calc = clear_db_df[clear_db_df['amount_of_change_direction_eff'] == 1]"
   ]
  },
  {
   "cell_type": "code",
   "execution_count": null,
   "metadata": {},
   "outputs": [],
   "source": [
    "fig = plt.Figure()\n",
    "ax = fig.add_axes([0,0,1,1])\n",
    "for j, i in enumerate(clear_db_df_with_calc.columns[-6:]):\n",
    "    v = clear_db_df_with_calc[i].value_counts() / clear_db_df_with_calc.shape[0]*100\n",
    "    #v = clear_db_df_with_calc[i].value_counts() \n",
    "    v = v[v.index<5]\n",
    "    plt.bar(v.index.values+0.1*j, v.values, label=i, width= 0.1, align='edge')\n",
    "    plt.legend()\n",
    "    #plt.show()\n",
    "plt.grid()\n",
    "plt.ylabel('Количество насосов')\n",
    "plt.xlabel('Количество точек перегиба')\n",
    "plt.show()"
   ]
  },
  {
   "cell_type": "code",
   "execution_count": null,
   "metadata": {},
   "outputs": [],
   "source": [
    "#fig, ax = plt.subplots()\n",
    "\n",
    "fig = plt.Figure()\n",
    "\n",
    "#ax = fig.add_axes([0,0, 1, 1])\n",
    "#for i in clear_db_df.columns[-4:]:\n",
    "i = clear_db_df.columns[-1]\n",
    "v = clear_db_df[i].value_counts()\n",
    "plt.bar(v.index.values+0.00, v.values, label=i, width=0.25, align='center')\n",
    "\n",
    "i = clear_db_df.columns[-2]\n",
    "v = clear_db_df[i].value_counts()\n",
    "plt.bar(v.index.values+0.25, v.values, label=i, width=0.25,  align='center')\n",
    "\n",
    "i = clear_db_df.columns[-4]\n",
    "v = clear_db_df[i].value_counts()\n",
    "plt.bar(v.index.values+0.5, v.values, label=i, width=0.25,  align='center')\n",
    "    \n",
    "# Add some text for labels, title and custom x-axis tick labels, etc.\n",
    "ax.set_ylabel('Scores')\n",
    "ax.set_title('Scores by group and gender')\n",
    "\n",
    "plt.legend()\n",
    "#fig.tight_layout()\n",
    "\n",
    "plt.show()"
   ]
  },
  {
   "cell_type": "code",
   "execution_count": null,
   "metadata": {},
   "outputs": [],
   "source": [
    "clear_db_df[clear_db_df.columns[-1]].plot(kind='hist', bins = [0, 1, 2, 3, 4, 5], align='left', legend = 'Неопределенность по H/N')\n",
    "clear_db_df[clear_db_df.columns[-2]].plot(kind='hist', bins = [0, 1, 2, 3, 4, 5], align='left', legend = 'Неопределенность по H/N')\n",
    "plt.show()"
   ]
  },
  {
   "cell_type": "markdown",
   "metadata": {},
   "source": [
    "### Построение конкретных кривых"
   ]
  },
  {
   "cell_type": "code",
   "execution_count": null,
   "metadata": {
    "scrolled": true
   },
   "outputs": [],
   "source": [
    "#clear_db_df_with_calc_filtered = clear_db_df[clear_db_df['amount_of_change_direction_eff']==1]\n",
    "#clear_db_df_with_calc_filtered = clear_db_df[clear_db_df['amount_of_change_direction_power']==2]\n",
    "#clear_db_df_with_calc_filtered = clear_db_df[clear_db_df['amount_of_change_direction_head']==1]\n",
    "#clear_db_df_with_calc_filtered = clear_db_df[clear_db_df['amount_of_change_direction_head']==1]\n",
    "\n",
    "clear_db_df_with_calc_filtered = clear_db_df[clear_db_df['amount_of_change_direction_h_esp_div_power']==1]\n",
    "clear_db_df_with_calc_filtered = clear_db_df_with_calc_filtered.head(10)\n",
    "\n",
    "print(clear_db_df_with_calc_filtered.shape)\n",
    "for i in range(clear_db_df_with_calc_filtered.shape[0]):\n",
    "    this_pump = clear_db_df_with_calc_filtered.iloc[i]\n",
    "\n",
    "\n",
    "    q_arr = np.array(this_pump['rate_points'])\n",
    "    h_esp_arr = np.array(this_pump['head_points'])\n",
    "    power_esp_arr = np.array(this_pump['power_points']) \n",
    "    efficiency_esp_arr = np.array(this_pump['eff_points'])\n",
    "    h_esp_arr_div_power_esp_arr = h_esp_arr/power_esp_arr\n",
    "\n",
    "\n",
    "\n",
    "    #plot_pump_curve(q_arr = q_arr, \n",
    "    #    h_esp_arr = h_esp_arr,\n",
    "    #    power_esp_arr = power_esp_arr, \n",
    "    #    efficiency_esp_arr = efficiency_esp_arr,\n",
    "    #         z = 1,\n",
    "    #    esp_name = this_pump['name'], f=50, show=True)\n",
    "\n",
    "    f=50\n",
    "    fnom=50\n",
    "    q_work=None\n",
    "    esp_name = this_pump['name']\n",
    "    z = 1\n",
    "\n",
    "    ########## график\n",
    "    q_arr = q_arr * f/fnom\n",
    "    h_esp_arr = h_esp_arr * (f/fnom)**2\n",
    "    power_esp_arr = power_esp_arr * (f/fnom)**2\n",
    "    fig, ax = plt.subplots()\n",
    "    fig.subplots_adjust(right=0.75)\n",
    "\n",
    "    twin1 = ax.twinx()\n",
    "    twin2 = ax.twinx()\n",
    "    twin3 = ax.twinx()\n",
    "\n",
    "\n",
    "\n",
    "    # Offset the right spine of twin2.  The ticks and label have already been\n",
    "    # placed on the right by twinx above.\n",
    "    twin2.spines['right'].set_position((\"axes\", 1.1))\n",
    "    twin3.spines['right'].set_position((\"axes\", 1.2))\n",
    "\n",
    "    p1, = ax.plot(q_arr, h_esp_arr, \"b-\",  marker = 'o', label=\"Напор, м\")\n",
    "    p2, = twin1.plot(q_arr, power_esp_arr, \"r-\",  marker = 'o',  label=\"Мощность, Вт\")\n",
    "    p3, = twin2.plot(q_arr, efficiency_esp_arr, \"g-\",  marker = 'o', label=\"КПД, д.ед.\")\n",
    "    p4, = twin3.plot(q_arr, h_esp_arr_div_power_esp_arr, \"y-\",  marker = 'o', label=\"Напор / Мощность\")\n",
    "\n",
    "\n",
    "    if q_work is not None:\n",
    "        f_interrr = interpolate.interp1d(q_arr,h_esp_arr, kind='cubic')\n",
    "        p4 = ax.axvline(x=q_work, label=f\"Рабочий режим Q={round(q_work, 2)}\", linewidth=5, markersize=15)\n",
    "        #p4, = ax.plot([q_work], [f_interrr(q_work)], \"k\",  marker = 'o', label=\"Рабочая точка\",  markersize=15)\n",
    "\n",
    "    #ax.axvspan(esp_df['Левая граница'].values[0]*f/fnom, esp_df['Правая граница'].values[0]*f/fnom, \n",
    "    #           alpha=0.2, color='green') TODO вытащить из БД\n",
    "\n",
    "    ax.set_xlabel(\"Подача, м3/сут\")\n",
    "    ax.set_ylabel(\"Напор, м\")\n",
    "    twin1.set_ylabel(\"Мощность, Вт\")\n",
    "    twin2.set_ylabel(\"КПД, д.ед.\")\n",
    "    twin3.set_ylabel(\"Напор / Мощность\")\n",
    "\n",
    "    ax.yaxis.label.set_color(p1.get_color())\n",
    "    twin1.yaxis.label.set_color(p2.get_color())\n",
    "    twin2.yaxis.label.set_color(p3.get_color())\n",
    "    twin3.yaxis.label.set_color(p4.get_color())\n",
    "\n",
    "\n",
    "    tkw = dict(size=4, width=1.5)\n",
    "    ax.tick_params(axis='y', colors=p1.get_color(), **tkw)\n",
    "    twin1.tick_params(axis='y', colors=p2.get_color(), **tkw)\n",
    "    twin2.tick_params(axis='y', colors=p3.get_color(), **tkw)\n",
    "    twin3.tick_params(axis='y', colors=p4.get_color(), **tkw)\n",
    "\n",
    "    ax.tick_params(axis='x', **tkw)\n",
    "\n",
    "    if q_work is not None:\n",
    "        ax.legend(handles=[p1, p2, p3, p4], loc='lower center')\n",
    "    else:\n",
    "        ax.legend(handles=[p1, p2, p3, p4], loc='lower center')\n",
    "\n",
    "\n",
    "    ax.grid()\n",
    "\n",
    "    ax.set_title(f\"{esp_name}, ступеней = {z} шт. при частоте = {this_pump['freq_Hz']} Гц\")\n",
    "    plt.show()\n",
    "\n",
    "\n",
    "\n",
    "    print(\n",
    "        'h', find_amount_of_change_direction(h_esp_arr),\n",
    "        'power', find_amount_of_change_direction(power_esp_arr), \\\n",
    "    'eff', find_amount_of_change_direction(efficiency_esp_arr), \n",
    "        'h/power', find_amount_of_change_direction(h_esp_arr_div_power_esp_arr),\n",
    "        'final_solution', this_pump['amount_of_change_direction_combined_solution']\n",
    "        \n",
    "        \n",
    "    )"
   ]
  },
  {
   "cell_type": "code",
   "execution_count": null,
   "metadata": {},
   "outputs": [],
   "source": [
    "#график без номированной НРХ\n",
    "plot_pump_curve(q_arr, h_esp_arr, power_esp_arr, efficiency_esp_arr, 1000, esp_name, f=50, fnom=50, q_work = None,\n",
    "                   show = True)"
   ]
  },
  {
   "cell_type": "markdown",
   "metadata": {},
   "source": [
    "### Расчет итоговой выборки"
   ]
  },
  {
   "cell_type": "code",
   "execution_count": null,
   "metadata": {},
   "outputs": [],
   "source": [
    "clear_db_df_with_calc.shape[0], db_df.shape[0], clear_db_df.shape[0]\n"
   ]
  },
  {
   "cell_type": "code",
   "execution_count": null,
   "metadata": {},
   "outputs": [],
   "source": []
  }
 ],
 "metadata": {
  "kernelspec": {
   "display_name": "Python 3",
   "language": "python",
   "name": "python3"
  },
  "language_info": {
   "codemirror_mode": {
    "name": "ipython",
    "version": 3
   },
   "file_extension": ".py",
   "mimetype": "text/x-python",
   "name": "python",
   "nbconvert_exporter": "python",
   "pygments_lexer": "ipython3",
   "version": "3.8.5"
  },
  "toc": {
   "base_numbering": 1,
   "nav_menu": {},
   "number_sections": false,
   "sideBar": true,
   "skip_h1_title": false,
   "title_cell": "Table of Contents",
   "title_sidebar": "Contents",
   "toc_cell": false,
   "toc_position": {
    "height": "671.818px",
    "left": "535px",
    "top": "364.284px",
    "width": "382.699px"
   },
   "toc_section_display": true,
   "toc_window_display": true
  }
 },
 "nbformat": 4,
 "nbformat_minor": 4
}
